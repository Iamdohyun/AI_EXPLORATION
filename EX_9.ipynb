{
 "cells": [
  {
   "cell_type": "markdown",
   "id": "f622eca2",
   "metadata": {},
   "source": [
    "## 1. Import 및 데이터 로더 구성"
   ]
  },
  {
   "cell_type": "code",
   "execution_count": 1,
   "id": "39dc43d7",
   "metadata": {},
   "outputs": [],
   "source": [
    "import os\n",
    "import re\n",
    "import pandas as pd\n",
    "import numpy as np\n",
    "\n",
    "import urllib.request\n",
    "import matplotlib.pyplot as plt\n",
    "%matplotlib inline\n",
    "\n",
    "\n",
    "from konlpy.tag import Okt\n",
    "from konlpy.tag import Mecab\n",
    "\n",
    "from tensorflow import keras\n",
    "from tensorflow.keras.preprocessing.text import Tokenizer\n",
    "from tensorflow.keras.preprocessing.sequence import pad_sequences\n",
    "from tensorflow.keras.initializers import Constant\n",
    "from tensorflow.keras.callbacks import EarlyStopping, ModelCheckpoint\n",
    "from tensorflow.keras.models import load_model\n",
    "\n",
    "from collections import Counter\n",
    "import gensim\n",
    "from gensim.models import KeyedVectors\n",
    "from gensim.models.keyedvectors import Word2VecKeyedVectors\n",
    "from sklearn.model_selection import train_test_split\n",
    "\n",
    "# tokenizer, 불용어 선언\n",
    "tokenizer = Mecab()\n",
    "stopwords = ['의','가','이','은','들','는','좀','잘','걍','과','도','를','으로','자','에','와','한','하다']\n",
    "\n",
    "# pre-processing and loading data\n",
    "def load_data(train_data, test_data, num_words=10000):\n",
    "    '''\n",
    "    1. 데이터의 중복 제거\n",
    "    2. NaN 결측치 제거\n",
    "    3. 한국어 토크나이저로 토큰화\n",
    "    4. 불용어(Stopwords) 제거\n",
    "    5. 사전word_to_index 구성\n",
    "    6. 텍스트 스트링을 사전 인덱스 스트링으로 변환\n",
    "    7. Return: X_train, y_train, X_test, y_test, word_to_index\n",
    "    '''\n",
    "    \n",
    "    train_data.drop_duplicates(subset=['document'], inplace=True) #1\n",
    "    train_data = train_data.dropna(how = 'any') #2\n",
    "    test_data.drop_duplicates(subset=['document'], inplace=True) #1\n",
    "    test_data = test_data.dropna(how = 'any') #2\n",
    "    \n",
    "    #3,4 \n",
    "    X_train = []\n",
    "    for sentence in train_data['document']:\n",
    "        temp_X = tokenizer.morphs(sentence)\n",
    "        temp_X = [word for word in temp_X if not word in stopwords]\n",
    "        X_train.append(temp_X)\n",
    "\n",
    "    X_test = []\n",
    "    for sentence in test_data['document']:\n",
    "        temp_X = tokenizer.morphs(sentence)\n",
    "        temp_X = [word for word in temp_X if not word in stopwords]\n",
    "        X_test.append(temp_X)\n",
    "\n",
    "    words = np.concatenate(X_train).tolist()\n",
    "    counter = Counter(words)\n",
    "    counter = counter.most_common(10000-4)\n",
    "    vocab = ['<PAD>', '<BOS>', '<UNK>', '<UNUSED>'] + [key for key, _ in counter]\n",
    "    word_to_index = {word:index for index, word in enumerate(vocab)}\n",
    "    \n",
    "    #5\n",
    "    def wordlist_to_indexlist(wordlist):\n",
    "        return [word_to_index[word] if word in word_to_index else word_to_index['<UNK>'] for word in wordlist]\n",
    "    #6\n",
    "    X_train = list(map(wordlist_to_indexlist, X_train))\n",
    "    X_test = list(map(wordlist_to_indexlist, X_test))\n",
    "\n",
    "    return X_train, np.array(list(train_data['label'])), X_test, np.array(list(test_data['label'])), word_to_index\n",
    "\n",
    "# 문장 1개를 활용할 딕셔너리와 함께 주면, 단어 인덱스 리스트 벡터로 변환해 주는 함수입니다. \n",
    "# 단, 모든 문장은 <BOS>로 시작하는 것으로 합니다. \n",
    "def get_encoded_sentence(sentence, word_to_index):\n",
    "    return [word_to_index['<BOS>']]+[word_to_index[word] if word in word_to_index else word_to_index['<UNK>'] for word in sentence.split()]\n",
    "\n",
    "# 여러 개의 문장 리스트를 한꺼번에 단어 인덱스 리스트 벡터로 encode해 주는 함수입니다. \n",
    "def get_encoded_sentences(sentences, word_to_index):\n",
    "    return [get_encoded_sentence(sentence, word_to_index) for sentence in sentences]\n",
    "\n",
    "# 숫자 벡터로 encode된 문장을 원래대로 decode하는 함수입니다. \n",
    "def get_decoded_sentence(encoded_sentence, index_to_word):\n",
    "    return ' '.join(index_to_word[index] if index in index_to_word else '<UNK>' for index in encoded_sentence[1:])  #[1:]를 통해 <BOS>를 제외\n",
    "\n",
    "# 여러 개의 숫자 벡터로 encode된 문장을 한꺼번에 원래대로 decode하는 함수입니다. \n",
    "def get_decoded_sentences(encoded_sentences, index_to_word):\n",
    "    return [get_decoded_sentence(encoded_sentence, index_to_word) for encoded_sentence in encoded_sentences]"
   ]
  },
  {
   "cell_type": "code",
   "execution_count": 2,
   "id": "33181ffa",
   "metadata": {},
   "outputs": [
    {
     "name": "stdout",
     "output_type": "stream",
     "text": [
      "3.8.1\n"
     ]
    }
   ],
   "source": [
    "print(gensim.__version__)"
   ]
  },
  {
   "cell_type": "markdown",
   "id": "0fa07dba",
   "metadata": {},
   "source": [
    "## 2. 데이터 불러오기"
   ]
  },
  {
   "cell_type": "code",
   "execution_count": 3,
   "id": "3570ec1b",
   "metadata": {},
   "outputs": [
    {
     "data": {
      "text/html": [
       "<div>\n",
       "<style scoped>\n",
       "    .dataframe tbody tr th:only-of-type {\n",
       "        vertical-align: middle;\n",
       "    }\n",
       "\n",
       "    .dataframe tbody tr th {\n",
       "        vertical-align: top;\n",
       "    }\n",
       "\n",
       "    .dataframe thead th {\n",
       "        text-align: right;\n",
       "    }\n",
       "</style>\n",
       "<table border=\"1\" class=\"dataframe\">\n",
       "  <thead>\n",
       "    <tr style=\"text-align: right;\">\n",
       "      <th></th>\n",
       "      <th>id</th>\n",
       "      <th>document</th>\n",
       "      <th>label</th>\n",
       "    </tr>\n",
       "  </thead>\n",
       "  <tbody>\n",
       "    <tr>\n",
       "      <th>0</th>\n",
       "      <td>9976970</td>\n",
       "      <td>아 더빙.. 진짜 짜증나네요 목소리</td>\n",
       "      <td>0</td>\n",
       "    </tr>\n",
       "    <tr>\n",
       "      <th>1</th>\n",
       "      <td>3819312</td>\n",
       "      <td>흠...포스터보고 초딩영화줄....오버연기조차 가볍지 않구나</td>\n",
       "      <td>1</td>\n",
       "    </tr>\n",
       "    <tr>\n",
       "      <th>2</th>\n",
       "      <td>10265843</td>\n",
       "      <td>너무재밓었다그래서보는것을추천한다</td>\n",
       "      <td>0</td>\n",
       "    </tr>\n",
       "    <tr>\n",
       "      <th>3</th>\n",
       "      <td>9045019</td>\n",
       "      <td>교도소 이야기구먼 ..솔직히 재미는 없다..평점 조정</td>\n",
       "      <td>0</td>\n",
       "    </tr>\n",
       "    <tr>\n",
       "      <th>4</th>\n",
       "      <td>6483659</td>\n",
       "      <td>사이몬페그의 익살스런 연기가 돋보였던 영화!스파이더맨에서 늙어보이기만 했던 커스틴 ...</td>\n",
       "      <td>1</td>\n",
       "    </tr>\n",
       "  </tbody>\n",
       "</table>\n",
       "</div>"
      ],
      "text/plain": [
       "         id                                           document  label\n",
       "0   9976970                                아 더빙.. 진짜 짜증나네요 목소리      0\n",
       "1   3819312                  흠...포스터보고 초딩영화줄....오버연기조차 가볍지 않구나      1\n",
       "2  10265843                                  너무재밓었다그래서보는것을추천한다      0\n",
       "3   9045019                      교도소 이야기구먼 ..솔직히 재미는 없다..평점 조정      0\n",
       "4   6483659  사이몬페그의 익살스런 연기가 돋보였던 영화!스파이더맨에서 늙어보이기만 했던 커스틴 ...      1"
      ]
     },
     "execution_count": 3,
     "metadata": {},
     "output_type": "execute_result"
    }
   ],
   "source": [
    "train_data = pd.read_table('~/aiffel/sentiment_classification/data/ratings_train.txt')\n",
    "test_data = pd.read_table('~/aiffel/sentiment_classification/data/ratings_test.txt')\n",
    "\n",
    "train_data.head()"
   ]
  },
  {
   "cell_type": "code",
   "execution_count": 4,
   "id": "68af0a8c",
   "metadata": {
    "scrolled": true
   },
   "outputs": [],
   "source": [
    "# data load 하여 X_train, y_train, X_test, y_test, word_to_index 리턴\n",
    "X_train, y_train, X_test, y_test, word_to_index = load_data(train_data, test_data) "
   ]
  },
  {
   "cell_type": "code",
   "execution_count": 5,
   "id": "86660628",
   "metadata": {},
   "outputs": [],
   "source": [
    "# index에서 word로 바꿔주는 dictionary\n",
    "index_to_word = {index:word for word, index in word_to_index.items()}"
   ]
  },
  {
   "cell_type": "code",
   "execution_count": 6,
   "id": "b321d51b",
   "metadata": {},
   "outputs": [
    {
     "data": {
      "text/plain": [
       "10000"
      ]
     },
     "execution_count": 6,
     "metadata": {},
     "output_type": "execute_result"
    }
   ],
   "source": [
    "len(word_to_index)"
   ]
  },
  {
   "cell_type": "markdown",
   "id": "d94d0571",
   "metadata": {},
   "source": [
    "저의 어디가 짱인가요?"
   ]
  },
  {
   "cell_type": "code",
   "execution_count": 7,
   "id": "fec904f3",
   "metadata": {},
   "outputs": [
    {
     "name": "stdout",
     "output_type": "stream",
     "text": [
      ". 진짜 짱 다 ♥\n",
      "라벨:  1\n"
     ]
    }
   ],
   "source": [
    "print(get_decoded_sentence(X_train[10], index_to_word))\n",
    "print('라벨: ', y_train[10])  # 3번째 리뷰데이터의 라벨"
   ]
  },
  {
   "cell_type": "markdown",
   "id": "c46982b9",
   "metadata": {},
   "source": [
    "## 3. 데이터 분석 및 가공"
   ]
  },
  {
   "cell_type": "code",
   "execution_count": 8,
   "id": "49c17888",
   "metadata": {},
   "outputs": [
    {
     "name": "stdout",
     "output_type": "stream",
     "text": [
      "문장길이 평균 :  15.96940191154864\n",
      "문장길이 최대 :  116\n",
      "문장길이 표준편차 :  12.843571191092\n",
      "pad_sequences maxlen :  41\n",
      "전체 문장의 0.9342988343341575%가 maxlen 설정값 이내에 포함됩니다. \n"
     ]
    }
   ],
   "source": [
    "total_data_text = list(X_train) + list(X_test)\n",
    "# 텍스트데이터 문장길이의 리스트를 생성한 후\n",
    "num_tokens = [len(tokens) for tokens in total_data_text]\n",
    "num_tokens = np.array(num_tokens)\n",
    "# 문장길이의 평균값, 최대값, 표준편차를 계산해 본다. \n",
    "print('문장길이 평균 : ', np.mean(num_tokens))\n",
    "print('문장길이 최대 : ', np.max(num_tokens))\n",
    "print('문장길이 표준편차 : ', np.std(num_tokens))\n",
    "\n",
    "# 예를들어, 최대 길이를 (평균 + 2*표준편차)로 한다면,  \n",
    "max_tokens = np.mean(num_tokens) + 2 * np.std(num_tokens)\n",
    "maxlen = int(max_tokens)\n",
    "print('pad_sequences maxlen : ', maxlen)\n",
    "print('전체 문장의 {}%가 maxlen 설정값 이내에 포함됩니다. '.format(np.sum(num_tokens < max_tokens) / len(num_tokens)))"
   ]
  },
  {
   "cell_type": "code",
   "execution_count": 9,
   "id": "078d0f52",
   "metadata": {},
   "outputs": [
    {
     "name": "stdout",
     "output_type": "stream",
     "text": [
      "(146182, 41)\n"
     ]
    }
   ],
   "source": [
    "X_train = keras.preprocessing.sequence.pad_sequences(X_train,\n",
    "                                                        value=word_to_index[\"<PAD>\"],\n",
    "                                                        padding='pre', \n",
    "                                                        maxlen=maxlen)\n",
    "\n",
    "X_test = keras.preprocessing.sequence.pad_sequences(X_test,\n",
    "                                                       value=word_to_index[\"<PAD>\"],\n",
    "                                                       padding='pre', \n",
    "                                                       maxlen=maxlen)\n",
    "\n",
    "print(X_train.shape)"
   ]
  },
  {
   "cell_type": "code",
   "execution_count": 10,
   "id": "157c35d4",
   "metadata": {},
   "outputs": [],
   "source": [
    "# Train, val data 분리\n",
    "partial_x_train, x_val, partial_y_train, y_val = train_test_split(X_train, y_train, test_size=0.25, random_state=718)"
   ]
  },
  {
   "cell_type": "markdown",
   "id": "bdde639d",
   "metadata": {},
   "source": [
    "## 4. 모델 데려오기"
   ]
  },
  {
   "cell_type": "markdown",
   "id": "254b2e38",
   "metadata": {},
   "source": [
    "### 4-1. GMP"
   ]
  },
  {
   "cell_type": "code",
   "execution_count": 11,
   "id": "3835ffc6",
   "metadata": {
    "scrolled": true
   },
   "outputs": [
    {
     "name": "stdout",
     "output_type": "stream",
     "text": [
      "Model: \"sequential\"\n",
      "_________________________________________________________________\n",
      "Layer (type)                 Output Shape              Param #   \n",
      "=================================================================\n",
      "embedding (Embedding)        (None, None, 64)          640000    \n",
      "_________________________________________________________________\n",
      "global_max_pooling1d (Global (None, 64)                0         \n",
      "_________________________________________________________________\n",
      "dense (Dense)                (None, 8)                 520       \n",
      "_________________________________________________________________\n",
      "dense_1 (Dense)              (None, 1)                 9         \n",
      "=================================================================\n",
      "Total params: 640,529\n",
      "Trainable params: 640,529\n",
      "Non-trainable params: 0\n",
      "_________________________________________________________________\n"
     ]
    }
   ],
   "source": [
    "vocab_size = 10000\n",
    "word_vector_dim = 64\n",
    "\n",
    "GMP_model = keras.Sequential()\n",
    "GMP_model.add(keras.layers.Embedding(vocab_size, word_vector_dim, input_shape=(None,)))\n",
    "GMP_model.add(keras.layers.GlobalMaxPooling1D())\n",
    "GMP_model.add(keras.layers.Dense(8, activation='gelu'))\n",
    "GMP_model.add(keras.layers.Dense(1, activation='sigmoid'))\n",
    "        \n",
    "\n",
    "GMP_model.summary()"
   ]
  },
  {
   "cell_type": "code",
   "execution_count": 12,
   "id": "acd43de9",
   "metadata": {
    "scrolled": true
   },
   "outputs": [
    {
     "name": "stdout",
     "output_type": "stream",
     "text": [
      "Epoch 1/5\n",
      "10964/10964 [==============================] - 40s 4ms/step - loss: 0.3836 - accuracy: 0.8275 - val_loss: 0.3483 - val_accuracy: 0.8493\n",
      "Epoch 2/5\n",
      "10964/10964 [==============================] - 39s 4ms/step - loss: 0.3089 - accuracy: 0.8687 - val_loss: 0.3402 - val_accuracy: 0.8540\n",
      "Epoch 3/5\n",
      "10964/10964 [==============================] - 39s 4ms/step - loss: 0.2742 - accuracy: 0.8869 - val_loss: 0.3443 - val_accuracy: 0.8546\n",
      "Epoch 4/5\n",
      "10964/10964 [==============================] - 39s 4ms/step - loss: 0.2476 - accuracy: 0.8990 - val_loss: 0.3548 - val_accuracy: 0.8531\n",
      "Epoch 5/5\n",
      "10964/10964 [==============================] - 39s 4ms/step - loss: 0.2259 - accuracy: 0.9093 - val_loss: 0.3679 - val_accuracy: 0.8509\n"
     ]
    }
   ],
   "source": [
    "GMP_model.compile(optimizer='adam',\n",
    "              loss='binary_crossentropy',\n",
    "              metrics=['accuracy'])\n",
    "\n",
    "GMP_history = GMP_model.fit(partial_x_train,\n",
    "                    partial_y_train,\n",
    "                    epochs=5,\n",
    "                    batch_size=10,\n",
    "                    validation_data=(x_val, y_val),\n",
    "                    verbose=1)"
   ]
  },
  {
   "cell_type": "code",
   "execution_count": 13,
   "id": "3a141e2a",
   "metadata": {},
   "outputs": [
    {
     "name": "stdout",
     "output_type": "stream",
     "text": [
      "1537/1537 - 2s - loss: 0.3760 - accuracy: 0.8462\n",
      "[0.37601760029792786, 0.8461866974830627]\n"
     ]
    }
   ],
   "source": [
    "results = GMP_model.evaluate(X_test,  y_test, verbose=2)\n",
    "\n",
    "print(results)"
   ]
  },
  {
   "cell_type": "code",
   "execution_count": 14,
   "id": "0e31d9bb",
   "metadata": {},
   "outputs": [
    {
     "name": "stdout",
     "output_type": "stream",
     "text": [
      "dict_keys(['loss', 'accuracy', 'val_loss', 'val_accuracy'])\n"
     ]
    }
   ],
   "source": [
    "GMP_history_dict = GMP_history.history\n",
    "print(GMP_history_dict.keys())"
   ]
  },
  {
   "cell_type": "code",
   "execution_count": 15,
   "id": "5d5b7955",
   "metadata": {},
   "outputs": [
    {
     "data": {
      "image/png": "[encoded data removed]",
      "text/plain": [
       "<Figure size 432x288 with 1 Axes>"
      ]
     },
     "metadata": {
      "needs_background": "light"
     },
     "output_type": "display_data"
    },
    {
     "data": {
      "image/png": "[encoded data removed]",
      "text/plain": [
       "<Figure size 432x288 with 1 Axes>"
      ]
     },
     "metadata": {
      "needs_background": "light"
     },
     "output_type": "display_data"
    }
   ],
   "source": [
    "acc = GMP_history_dict['accuracy']\n",
    "val_acc = GMP_history_dict['val_accuracy']\n",
    "loss = GMP_history_dict['loss']\n",
    "val_loss = GMP_history_dict['val_loss']\n",
    "\n",
    "epochs = range(1, len(acc) + 1)\n",
    "\n",
    "# \"bo\"는 \"파란색 점\"입니다\n",
    "plt.plot(epochs, loss, 'bo', label='Training loss')\n",
    "# b는 \"파란 실선\"입니다\n",
    "plt.plot(epochs, val_loss, 'b', label='Validation loss')\n",
    "plt.title('Training and validation loss')\n",
    "plt.xlabel('Epochs')\n",
    "plt.ylabel('Loss')\n",
    "plt.legend()\n",
    "\n",
    "plt.show()\n",
    "\n",
    "\n",
    "plt.clf()   # 그림을 초기화합니다\n",
    "\n",
    "plt.plot(epochs, acc, 'bo', label='Training acc')\n",
    "plt.plot(epochs, val_acc, 'b', label='Validation acc')\n",
    "plt.title('Training and validation accuracy')\n",
    "plt.xlabel('Epochs')\n",
    "plt.ylabel('Accuracy')\n",
    "plt.legend()\n",
    "\n",
    "plt.show()"
   ]
  },
  {
   "cell_type": "markdown",
   "id": "bfd7a05f",
   "metadata": {},
   "source": [
    "### 4-2. 1-D Convolution Neural Network(1-D CNN)"
   ]
  },
  {
   "cell_type": "code",
   "execution_count": 16,
   "id": "0eda3c71",
   "metadata": {},
   "outputs": [
    {
     "name": "stdout",
     "output_type": "stream",
     "text": [
      "Model: \"sequential_1\"\n",
      "_________________________________________________________________\n",
      "Layer (type)                 Output Shape              Param #   \n",
      "=================================================================\n",
      "embedding_1 (Embedding)      (None, None, 16)          160000    \n",
      "_________________________________________________________________\n",
      "conv1d (Conv1D)              (None, None, 16)          1808      \n",
      "_________________________________________________________________\n",
      "max_pooling1d (MaxPooling1D) (None, None, 16)          0         \n",
      "_________________________________________________________________\n",
      "conv1d_1 (Conv1D)            (None, None, 16)          1808      \n",
      "_________________________________________________________________\n",
      "global_max_pooling1d_1 (Glob (None, 16)                0         \n",
      "_________________________________________________________________\n",
      "dense_2 (Dense)              (None, 8)                 136       \n",
      "_________________________________________________________________\n",
      "dense_3 (Dense)              (None, 1)                 9         \n",
      "=================================================================\n",
      "Total params: 163,761\n",
      "Trainable params: 163,761\n",
      "Non-trainable params: 0\n",
      "_________________________________________________________________\n"
     ]
    }
   ],
   "source": [
    "vocab_size = 10000    # 어휘 사전의 크기입니다(10,000개의 단어)\n",
    "word_vector_dim = 16  # 워드 벡터의 차원수 (변경가능한 하이퍼파라미터)\n",
    "\n",
    "CNN_model = keras.Sequential()\n",
    "CNN_model.add(keras.layers.Embedding(vocab_size, word_vector_dim, input_shape=(None,)))\n",
    "CNN_model.add(keras.layers.Conv1D(16, 7, activation='gelu'))\n",
    "CNN_model.add(keras.layers.MaxPooling1D(5))\n",
    "CNN_model.add(keras.layers.Conv1D(16, 7, activation='gelu'))\n",
    "CNN_model.add(keras.layers.GlobalMaxPooling1D())\n",
    "CNN_model.add(keras.layers.Dense(8, activation='gelu'))\n",
    "CNN_model.add(keras.layers.Dense(1, activation='sigmoid'))  # 최종 출력은 긍정/부정을 나타내는 1dim 입니다.\n",
    "\n",
    "CNN_model.summary()"
   ]
  },
  {
   "cell_type": "code",
   "execution_count": 17,
   "id": "44ef878f",
   "metadata": {},
   "outputs": [
    {
     "name": "stdout",
     "output_type": "stream",
     "text": [
      "Epoch 1/5\n",
      "10964/10964 [==============================] - 56s 5ms/step - loss: 0.3732 - accuracy: 0.8305 - val_loss: 0.3324 - val_accuracy: 0.8549\n",
      "Epoch 2/5\n",
      "10964/10964 [==============================] - 54s 5ms/step - loss: 0.2852 - accuracy: 0.8805 - val_loss: 0.3203 - val_accuracy: 0.8614\n",
      "Epoch 3/5\n",
      "10964/10964 [==============================] - 54s 5ms/step - loss: 0.2371 - accuracy: 0.9042 - val_loss: 0.3417 - val_accuracy: 0.8557\n",
      "Epoch 4/5\n",
      "10964/10964 [==============================] - 54s 5ms/step - loss: 0.1948 - accuracy: 0.9237 - val_loss: 0.3718 - val_accuracy: 0.8539\n",
      "Epoch 5/5\n",
      "10964/10964 [==============================] - 54s 5ms/step - loss: 0.1577 - accuracy: 0.9400 - val_loss: 0.4092 - val_accuracy: 0.8510\n"
     ]
    }
   ],
   "source": [
    "CNN_model.compile(optimizer='adam',\n",
    "              loss='binary_crossentropy',\n",
    "              metrics=['accuracy'])\n",
    "\n",
    "\n",
    "CNN_history = CNN_model.fit(partial_x_train,\n",
    "                    partial_y_train,\n",
    "                    epochs=5,\n",
    "                    batch_size=10,\n",
    "                    validation_data=(x_val, y_val),\n",
    "                    verbose=1)"
   ]
  },
  {
   "cell_type": "code",
   "execution_count": 18,
   "id": "440a9fd1",
   "metadata": {},
   "outputs": [
    {
     "name": "stdout",
     "output_type": "stream",
     "text": [
      "1537/1537 - 3s - loss: 0.4211 - accuracy: 0.8442\n",
      "[0.421138733625412, 0.8442338109016418]\n"
     ]
    }
   ],
   "source": [
    "results = CNN_model.evaluate(X_test,  y_test, verbose=2)\n",
    "\n",
    "print(results)"
   ]
  },
  {
   "cell_type": "code",
   "execution_count": 19,
   "id": "53d276c0",
   "metadata": {},
   "outputs": [
    {
     "name": "stdout",
     "output_type": "stream",
     "text": [
      "dict_keys(['loss', 'accuracy', 'val_loss', 'val_accuracy'])\n"
     ]
    }
   ],
   "source": [
    "CNN_history_dict = CNN_history.history\n",
    "print(CNN_history_dict.keys())"
   ]
  },
  {
   "cell_type": "code",
   "execution_count": 20,
   "id": "8b31a5e7",
   "metadata": {},
   "outputs": [
    {
     "data": {
      "image/png": "[encoded data removed]",
      "text/plain": [
       "<Figure size 432x288 with 1 Axes>"
      ]
     },
     "metadata": {
      "needs_background": "light"
     },
     "output_type": "display_data"
    },
    {
     "data": {
      "image/png": "[encoded data removed]",
      "text/plain": [
       "<Figure size 432x288 with 1 Axes>"
      ]
     },
     "metadata": {
      "needs_background": "light"
     },
     "output_type": "display_data"
    }
   ],
   "source": [
    "acc = CNN_history_dict['accuracy']\n",
    "val_acc = CNN_history_dict['val_accuracy']\n",
    "loss = CNN_history_dict['loss']\n",
    "val_loss = CNN_history_dict['val_loss']\n",
    "\n",
    "epochs = range(1, len(acc) + 1)\n",
    "\n",
    "# \"bo\"는 \"파란색 점\"입니다\n",
    "plt.plot(epochs, loss, 'bo', label='Training loss')\n",
    "# b는 \"파란 실선\"입니다\n",
    "plt.plot(epochs, val_loss, 'b', label='Validation loss')\n",
    "plt.title('Training and validation loss')\n",
    "plt.xlabel('Epochs')\n",
    "plt.ylabel('Loss')\n",
    "plt.legend()\n",
    "\n",
    "plt.show()\n",
    "\n",
    "\n",
    "plt.clf()   # 그림을 초기화합니다\n",
    "\n",
    "plt.plot(epochs, acc, 'bo', label='Training acc')\n",
    "plt.plot(epochs, val_acc, 'b', label='Validation acc')\n",
    "plt.title('Training and validation accuracy')\n",
    "plt.xlabel('Epochs')\n",
    "plt.ylabel('Accuracy')\n",
    "plt.legend()\n",
    "\n",
    "plt.show()"
   ]
  },
  {
   "cell_type": "markdown",
   "id": "a528aa19",
   "metadata": {},
   "source": [
    "### 4-3. LSTM"
   ]
  },
  {
   "cell_type": "code",
   "execution_count": 21,
   "id": "ef4c172f",
   "metadata": {},
   "outputs": [
    {
     "name": "stdout",
     "output_type": "stream",
     "text": [
      "Model: \"sequential_2\"\n",
      "_________________________________________________________________\n",
      "Layer (type)                 Output Shape              Param #   \n",
      "=================================================================\n",
      "embedding_2 (Embedding)      (None, None, 128)         1280000   \n",
      "_________________________________________________________________\n",
      "lstm (LSTM)                  (None, 128)               131584    \n",
      "_________________________________________________________________\n",
      "dense_4 (Dense)              (None, 1)                 129       \n",
      "=================================================================\n",
      "Total params: 1,411,713\n",
      "Trainable params: 1,411,713\n",
      "Non-trainable params: 0\n",
      "_________________________________________________________________\n"
     ]
    }
   ],
   "source": [
    "vocab_size = 10000\n",
    "word_vector_dim = 128\n",
    "\n",
    "LSTM_model = keras.Sequential()\n",
    "LSTM_model.add(keras.layers.Embedding(vocab_size, word_vector_dim, input_shape=(None,)))\n",
    "LSTM_model.add(keras.layers.LSTM(128))\n",
    "LSTM_model.add(keras.layers.Dense(1, activation='sigmoid'))\n",
    "\n",
    "LSTM_model.summary()"
   ]
  },
  {
   "cell_type": "code",
   "execution_count": 22,
   "id": "ba0ce69c",
   "metadata": {},
   "outputs": [
    {
     "name": "stdout",
     "output_type": "stream",
     "text": [
      "Epoch 1/5\n",
      "7310/7310 [==============================] - 44s 6ms/step - loss: 0.3670 - accuracy: 0.8359 - val_loss: 0.3169 - val_accuracy: 0.8624\n",
      "Epoch 2/5\n",
      "7310/7310 [==============================] - 42s 6ms/step - loss: 0.2793 - accuracy: 0.8822 - val_loss: 0.3075 - val_accuracy: 0.8692\n",
      "Epoch 3/5\n",
      "7310/7310 [==============================] - 42s 6ms/step - loss: 0.2336 - accuracy: 0.9043 - val_loss: 0.3239 - val_accuracy: 0.8679\n",
      "Epoch 4/5\n",
      "7310/7310 [==============================] - 42s 6ms/step - loss: 0.1908 - accuracy: 0.9238 - val_loss: 0.3560 - val_accuracy: 0.8651\n",
      "Epoch 5/5\n",
      "7310/7310 [==============================] - 42s 6ms/step - loss: 0.1508 - accuracy: 0.9406 - val_loss: 0.3831 - val_accuracy: 0.8609\n"
     ]
    }
   ],
   "source": [
    "LSTM_model.compile(optimizer='adam',\n",
    "              loss='binary_crossentropy',\n",
    "              metrics=['accuracy'])\n",
    "\n",
    "\n",
    "LSTM_history = LSTM_model.fit(partial_x_train,\n",
    "                    partial_y_train,\n",
    "                    epochs=5,\n",
    "                    batch_size=15,\n",
    "                    validation_data=(x_val, y_val),\n",
    "                    verbose=1)"
   ]
  },
  {
   "cell_type": "code",
   "execution_count": 23,
   "id": "5c1f3d74",
   "metadata": {},
   "outputs": [
    {
     "name": "stdout",
     "output_type": "stream",
     "text": [
      "1537/1537 - 3s - loss: 0.3910 - accuracy: 0.8564\n",
      "[0.39098092913627625, 0.8563581705093384]\n"
     ]
    }
   ],
   "source": [
    "results = LSTM_model.evaluate(X_test,  y_test, verbose=2)\n",
    "\n",
    "print(results)"
   ]
  },
  {
   "cell_type": "code",
   "execution_count": 24,
   "id": "29d3bc04",
   "metadata": {},
   "outputs": [
    {
     "name": "stdout",
     "output_type": "stream",
     "text": [
      "dict_keys(['loss', 'accuracy', 'val_loss', 'val_accuracy'])\n"
     ]
    }
   ],
   "source": [
    "LSTM_history_dict = LSTM_history.history\n",
    "print(LSTM_history_dict.keys())"
   ]
  },
  {
   "cell_type": "code",
   "execution_count": 25,
   "id": "a507a61b",
   "metadata": {},
   "outputs": [
    {
     "data": {
      "image/png": "[encoded data removed]",
      "text/plain": [
       "<Figure size 432x288 with 1 Axes>"
      ]
     },
     "metadata": {
      "needs_background": "light"
     },
     "output_type": "display_data"
    },
    {
     "data": {
      "image/png": "[encoded data removed]",
      "text/plain": [
       "<Figure size 432x288 with 1 Axes>"
      ]
     },
     "metadata": {
      "needs_background": "light"
     },
     "output_type": "display_data"
    }
   ],
   "source": [
    "acc = LSTM_history_dict['accuracy']\n",
    "val_acc = LSTM_history_dict['val_accuracy']\n",
    "loss = LSTM_history_dict['loss']\n",
    "val_loss = LSTM_history_dict['val_loss']\n",
    "\n",
    "epochs = range(1, len(acc) + 1)\n",
    "\n",
    "# \"bo\"는 \"파란색 점\"입니다\n",
    "plt.plot(epochs, loss, 'bo', label='Training loss')\n",
    "# b는 \"파란 실선\"입니다\n",
    "plt.plot(epochs, val_loss, 'b', label='Validation loss')\n",
    "plt.title('Training and validation loss')\n",
    "plt.xlabel('Epochs')\n",
    "plt.ylabel('Loss')\n",
    "plt.legend()\n",
    "\n",
    "plt.show()\n",
    "\n",
    "\n",
    "plt.clf()   # 그림을 초기화합니다\n",
    "\n",
    "plt.plot(epochs, acc, 'bo', label='Training acc')\n",
    "plt.plot(epochs, val_acc, 'b', label='Validation acc')\n",
    "plt.title('Training and validation accuracy')\n",
    "plt.xlabel('Epochs')\n",
    "plt.ylabel('Accuracy')\n",
    "plt.legend()\n",
    "\n",
    "plt.show()"
   ]
  },
  {
   "cell_type": "markdown",
   "id": "74e9ae7c",
   "metadata": {},
   "source": [
    "## 5. Model Embeding Layer"
   ]
  },
  {
   "cell_type": "markdown",
   "id": "5f7f8ad2",
   "metadata": {},
   "source": [
    "### 5-1. GMP Embeding Layer"
   ]
  },
  {
   "cell_type": "code",
   "execution_count": 26,
   "id": "0e17eb5d",
   "metadata": {},
   "outputs": [
    {
     "data": {
      "text/plain": [
       "array([-0.22113968, -0.12694141, -0.29312173,  0.03483632,  0.08312398,\n",
       "       -0.21278925, -0.15625343, -0.04774884, -0.30220821, -0.10127614,\n",
       "       -0.06806089, -0.05472503, -0.09296846, -0.3940964 ,  0.07126135,\n",
       "       -0.04218333, -0.05337378, -0.01024793, -0.01795704,  0.09654897,\n",
       "       -0.23577753, -0.20309232, -0.15063038, -0.27517536, -0.09011236,\n",
       "       -0.21861365, -0.04741229, -0.32148007, -0.19164468, -0.16211766,\n",
       "       -0.16509032, -0.00950684, -0.08616982, -0.18122444, -0.14965853,\n",
       "       -0.14615071, -0.2638386 , -0.2518089 , -0.05288659,  0.13029408,\n",
       "        0.11463465, -0.03080468, -0.10311409, -0.09356839, -0.13687848,\n",
       "       -0.20700291, -0.04935448,  0.07986888, -0.278114  , -0.126108  ,\n",
       "       -0.18234877, -0.11377246, -0.13054256, -0.03597551,  0.1469785 ,\n",
       "        0.03539316,  0.03985135, -0.04243008, -0.3554609 , -0.20376275,\n",
       "        0.19944036,  0.00814247,  0.00471031, -0.26093534], dtype=float32)"
      ]
     },
     "execution_count": 26,
     "metadata": {},
     "output_type": "execute_result"
    }
   ],
   "source": [
    "embedding_layer = GMP_model.layers[0]\n",
    "weights = embedding_layer.get_weights()[0]\n",
    "vocab_size, word_vector_dim = weights.shape[0], weights.shape[1]\n",
    "\n",
    "word2vec_file_path = os.getenv('HOME')+'/aiffel/sentiment_classification/GMPword2vec.txt'\n",
    "f = open(word2vec_file_path, 'w')\n",
    "f.write('{} {}\\n'.format(vocab_size-4, word_vector_dim))\n",
    "\n",
    "vectors = GMP_model.get_weights()[0]\n",
    "for i in range(4,vocab_size):\n",
    "    f.write('{} {}\\n'.format(index_to_word[i], ' '.join(map(str, list(vectors[i, :])))))\n",
    "f.close()\n",
    "\n",
    "word_vectors = Word2VecKeyedVectors.load_word2vec_format(word2vec_file_path, binary=False)\n",
    "vector = word_vectors['컴퓨터']\n",
    "vector"
   ]
  },
  {
   "cell_type": "code",
   "execution_count": 27,
   "id": "233569f8",
   "metadata": {},
   "outputs": [
    {
     "data": {
      "text/plain": [
       "[('러브', 0.8180498480796814),\n",
       " ('애니메이션', 0.8170689940452576),\n",
       " ('전지현', 0.8121035695075989),\n",
       " ('고등학생', 0.8081047534942627),\n",
       " ('효주', 0.807597279548645),\n",
       " ('남', 0.7989218831062317),\n",
       " ('인물', 0.7957085371017456),\n",
       " ('소지섭', 0.7904224991798401),\n",
       " ('엄청난', 0.7837755084037781),\n",
       " ('로마', 0.7813882231712341)]"
      ]
     },
     "execution_count": 27,
     "metadata": {},
     "output_type": "execute_result"
    }
   ],
   "source": [
    "word_vectors.similar_by_word(\"로맨스\")"
   ]
  },
  {
   "cell_type": "code",
   "execution_count": 28,
   "id": "8d6b1d68",
   "metadata": {},
   "outputs": [
    {
     "data": {
      "text/plain": [
       "[('추모', 0.6651817560195923),\n",
       " ('신디', 0.6582660675048828),\n",
       " ('맷데이먼', 0.6561733484268188),\n",
       " ('을까요', 0.6559481024742126),\n",
       " ('은은', 0.6515401601791382),\n",
       " ('문자', 0.6417685151100159),\n",
       " ('더락', 0.6329723000526428),\n",
       " ('터짐', 0.6323300004005432),\n",
       " ('오감', 0.6265091896057129),\n",
       " ('햇살', 0.6236127018928528)]"
      ]
     },
     "execution_count": 28,
     "metadata": {},
     "output_type": "execute_result"
    }
   ],
   "source": [
    "word_vectors.similar_by_word(\"웅장\")"
   ]
  },
  {
   "cell_type": "markdown",
   "id": "ebf984de",
   "metadata": {},
   "source": [
    "### 5-2. 1-D Convolution Neural Network(1-D CNN) Embeding Layer"
   ]
  },
  {
   "cell_type": "code",
   "execution_count": 29,
   "id": "a73a95d4",
   "metadata": {},
   "outputs": [
    {
     "data": {
      "text/plain": [
       "array([-0.06690209,  0.03688405,  0.14775345, -0.32719925, -0.16572084,\n",
       "        0.20219867, -0.05386048,  0.06708226, -0.20284252,  0.01444786,\n",
       "        0.2850529 , -0.23931152, -0.16146237, -0.01825828, -0.13814928,\n",
       "        0.06261626], dtype=float32)"
      ]
     },
     "execution_count": 29,
     "metadata": {},
     "output_type": "execute_result"
    }
   ],
   "source": [
    "embedding_layer = CNN_model.layers[0]\n",
    "weights = embedding_layer.get_weights()[0]\n",
    "vocab_size, word_vector_dim = weights.shape[0], weights.shape[1]\n",
    "\n",
    "word2vec_file_path = os.getenv('HOME')+'/aiffel/sentiment_classification/CNNword2vec.txt'\n",
    "f = open(word2vec_file_path, 'w')\n",
    "f.write('{} {}\\n'.format(vocab_size-4, word_vector_dim))\n",
    "\n",
    "vectors = CNN_model.get_weights()[0]\n",
    "for i in range(4,vocab_size):\n",
    "    f.write('{} {}\\n'.format(index_to_word[i], ' '.join(map(str, list(vectors[i, :])))))\n",
    "f.close()\n",
    "\n",
    "word_vectors = Word2VecKeyedVectors.load_word2vec_format(word2vec_file_path, binary=False)\n",
    "vector = word_vectors['컴퓨터']\n",
    "vector"
   ]
  },
  {
   "cell_type": "code",
   "execution_count": 30,
   "id": "bff57382",
   "metadata": {},
   "outputs": [
    {
     "data": {
      "text/plain": [
       "[('여요', 0.8963820934295654),\n",
       " ('이쁘', 0.841665506362915),\n",
       " ('공', 0.8403950929641724),\n",
       " ('온전히', 0.8266507387161255),\n",
       " ('.;;', 0.8235249519348145),\n",
       " ('끝판', 0.8235189914703369),\n",
       " ('이래야', 0.7975306510925293),\n",
       " ('장백지', 0.7925132513046265),\n",
       " ('창조', 0.7893157601356506),\n",
       " ('세기', 0.7888184785842896)]"
      ]
     },
     "execution_count": 30,
     "metadata": {},
     "output_type": "execute_result"
    }
   ],
   "source": [
    "word_vectors.similar_by_word(\"로맨스\")"
   ]
  },
  {
   "cell_type": "code",
   "execution_count": 31,
   "id": "30e2b4c6",
   "metadata": {},
   "outputs": [
    {
     "data": {
      "text/plain": [
       "[('성찰', 0.9226086139678955),\n",
       " ('잔혹', 0.9189688563346863),\n",
       " ('감독판', 0.9107158184051514),\n",
       " ('호프만', 0.904621958732605),\n",
       " ('린치', 0.9020666480064392),\n",
       " ('전두환', 0.8999830484390259),\n",
       " ('눈빛', 0.8982130885124207),\n",
       " ('묵직', 0.897858738899231),\n",
       " ('이연희', 0.8962373733520508),\n",
       " ('서글픈', 0.8937170505523682)]"
      ]
     },
     "execution_count": 31,
     "metadata": {},
     "output_type": "execute_result"
    }
   ],
   "source": [
    "word_vectors.similar_by_word(\"웅장\")"
   ]
  },
  {
   "cell_type": "markdown",
   "id": "d9e70643",
   "metadata": {},
   "source": [
    "### 5-3. LSTM Embeding Layer "
   ]
  },
  {
   "cell_type": "code",
   "execution_count": 32,
   "id": "daaebcf8",
   "metadata": {},
   "outputs": [
    {
     "data": {
      "text/plain": [
       "array([ 0.07130896, -0.06814358, -0.12903866,  0.07860702,  0.11338665,\n",
       "       -0.22274256, -0.0405068 ,  0.1450776 , -0.0208589 ,  0.14494944,\n",
       "       -0.05593928, -0.23455693, -0.02007249, -0.03786215, -0.00380171,\n",
       "       -0.10576456,  0.11816386,  0.02580549, -0.05723673, -0.26270968,\n",
       "       -0.10073559,  0.1423215 ,  0.17127064,  0.06475413, -0.11040932,\n",
       "       -0.15269494, -0.18598273, -0.05519989,  0.27841094, -0.07280034,\n",
       "        0.09135974, -0.01911652,  0.08008239, -0.0287342 ,  0.1089934 ,\n",
       "       -0.20022625,  0.07598377,  0.11552721, -0.04900878, -0.01395044,\n",
       "        0.05289774,  0.00304849, -0.11380843, -0.13205032,  0.12638676,\n",
       "       -0.24646822,  0.03160975,  0.12236765,  0.02457389,  0.3375686 ,\n",
       "       -0.06734288, -0.1051321 ,  0.05330103,  0.07755196,  0.10267287,\n",
       "       -0.40080017,  0.21891545, -0.38753822, -0.10382024, -0.01568939,\n",
       "        0.19330089, -0.02036356,  0.24080801,  0.08189351, -0.15784864,\n",
       "        0.40968648, -0.04423502,  0.01282696, -0.00170878,  0.1830484 ,\n",
       "        0.03664192,  0.05745436,  0.10802153,  0.10055084,  0.22484799,\n",
       "        0.15854576, -0.06765285, -0.5342244 ,  0.18048707,  0.12903225,\n",
       "       -0.07246571, -0.19980393,  0.0301407 ,  0.14318773,  0.01801189,\n",
       "        0.06824788,  0.12853673,  0.04649488,  0.070048  , -0.07643124,\n",
       "       -0.40353587, -0.22885248, -0.03357681, -0.0602118 ,  0.09283233,\n",
       "       -0.24231473,  0.15638816, -0.12627552, -0.17552723,  0.01264988,\n",
       "       -0.33445442,  0.17826551, -0.20799792,  0.03360186, -0.10486182,\n",
       "        0.12786573, -0.0922235 , -0.05961825,  0.3508375 , -0.21832143,\n",
       "        0.04141239, -0.36031324,  0.27417418,  0.005802  ,  0.39740032,\n",
       "        0.2383132 , -0.20920387,  0.12105538,  0.02442967,  0.07576595,\n",
       "       -0.21661784, -0.06024797, -0.12697059, -0.08902732, -0.12587948,\n",
       "        0.12634103,  0.03964717,  0.09406271], dtype=float32)"
      ]
     },
     "execution_count": 32,
     "metadata": {},
     "output_type": "execute_result"
    }
   ],
   "source": [
    "embedding_layer = LSTM_model.layers[0]\n",
    "weights = embedding_layer.get_weights()[0]\n",
    "vocab_size, word_vector_dim = weights.shape[0], weights.shape[1]\n",
    "\n",
    "word2vec_file_path = os.getenv('HOME')+'/aiffel/sentiment_classification/LSTMword2vec.txt'\n",
    "f = open(word2vec_file_path, 'w')\n",
    "f.write('{} {}\\n'.format(vocab_size-4, word_vector_dim))\n",
    "\n",
    "vectors = LSTM_model.get_weights()[0]\n",
    "for i in range(4,vocab_size):\n",
    "    f.write('{} {}\\n'.format(index_to_word[i], ' '.join(map(str, list(vectors[i, :])))))\n",
    "f.close()\n",
    "\n",
    "word_vectors = Word2VecKeyedVectors.load_word2vec_format(word2vec_file_path, binary=False)\n",
    "vector = word_vectors['컴퓨터']\n",
    "vector"
   ]
  },
  {
   "cell_type": "code",
   "execution_count": 33,
   "id": "ec5d9e50",
   "metadata": {},
   "outputs": [
    {
     "data": {
      "text/plain": [
       "[('아아아', 0.736332356929779),\n",
       " ('이번', 0.7329647541046143),\n",
       " ('>', 0.7203007936477661),\n",
       " ('시대', 0.7052302956581116),\n",
       " ('앞', 0.6993193626403809),\n",
       " ('났', 0.6921488046646118),\n",
       " ('숨막히', 0.6918244361877441),\n",
       " ('영상미', 0.6859076023101807),\n",
       " ('이연걸', 0.6822570562362671),\n",
       " ('가수', 0.6815158128738403)]"
      ]
     },
     "execution_count": 33,
     "metadata": {},
     "output_type": "execute_result"
    }
   ],
   "source": [
    "word_vectors.similar_by_word(\"로맨스\")"
   ]
  },
  {
   "cell_type": "code",
   "execution_count": 34,
   "id": "7d4c3ee3",
   "metadata": {},
   "outputs": [
    {
     "data": {
      "text/plain": [
       "[('싱크로', 0.77757728099823),\n",
       " ('미스터', 0.7584331631660461),\n",
       " ('첩보', 0.7396438717842102),\n",
       " ('브라이언', 0.7391180992126465),\n",
       " ('이현우', 0.7363893985748291),\n",
       " ('감격', 0.7234395146369934),\n",
       " ('아무튼', 0.723291277885437),\n",
       " ('쟁쟁', 0.7201427221298218),\n",
       " ('세나', 0.7137171626091003),\n",
       " ('노년', 0.7131544947624207)]"
      ]
     },
     "execution_count": 34,
     "metadata": {},
     "output_type": "execute_result"
    }
   ],
   "source": [
    "word_vectors.similar_by_word(\"웅장\")"
   ]
  },
  {
   "cell_type": "markdown",
   "id": "11541288",
   "metadata": {},
   "source": [
    "## 6. 한국어 Word2Vec"
   ]
  },
  {
   "cell_type": "code",
   "execution_count": 35,
   "id": "c84fe42b",
   "metadata": {
    "scrolled": true
   },
   "outputs": [
    {
     "name": "stderr",
     "output_type": "stream",
     "text": [
      "/tmp/ipykernel_330/928192041.py:3: DeprecationWarning: Call to deprecated `__getitem__` (Method will be removed in 4.0.0, use self.wv.__getitem__() instead).\n",
      "  vector = word2vec['컴퓨터']\n"
     ]
    },
    {
     "data": {
      "text/plain": [
       "array([-1.517628  , -0.8935504 , -1.4352998 ,  1.5069847 , -1.5178334 ,\n",
       "        1.1542678 , -2.94064   ,  1.1850045 ,  0.19959009, -1.5288961 ,\n",
       "       -1.7067502 , -2.1892095 , -0.20728938, -2.2606812 , -2.2283888 ,\n",
       "        0.32318738, -0.2845471 , -0.07731772, -0.86269003, -1.1722927 ,\n",
       "       -0.91062415,  0.8440715 ,  0.903278  , -0.84685427,  0.7023384 ,\n",
       "       -2.1920419 , -0.47571626, -0.60159504, -0.68860835,  0.18944737,\n",
       "        0.5319404 ,  0.73058116, -0.9658133 , -1.0123725 , -0.36183038,\n",
       "        2.5851305 ,  0.66589296, -1.7231252 ,  1.7576753 ,  0.88845277,\n",
       "        1.5791365 , -4.430691  ,  0.36731872,  0.69481534, -0.46041563,\n",
       "        1.742655  , -1.5077016 ,  0.72209424, -0.04532204, -0.6557301 ,\n",
       "       -0.71276623,  0.26522732, -0.17656395, -2.4720876 , -0.845565  ,\n",
       "        0.23591152,  1.3414925 ,  0.77577615, -2.289371  , -0.8078124 ,\n",
       "        1.4359473 ,  0.22882733, -1.08867   ,  1.2607764 , -1.7469797 ,\n",
       "        0.06542054,  0.39896825, -0.3160832 , -1.7257563 ,  0.54638785,\n",
       "       -0.31753907, -0.48656994, -0.8225613 , -0.573065  ,  0.13175343,\n",
       "       -0.3924169 ,  0.55588305, -1.0773534 ,  0.55159163,  0.1352609 ,\n",
       "        0.88245326, -1.0127378 ,  0.14704451, -0.5254349 , -3.401769  ,\n",
       "       -0.42525592,  2.0031376 ,  0.36679608, -1.0043006 ,  1.3084906 ,\n",
       "        0.66252464, -0.48564675,  1.1390634 , -0.61399025, -0.50669813,\n",
       "        2.984564  ,  1.126494  ,  0.68590933, -0.2439008 , -1.317931  ,\n",
       "        0.826134  , -0.3985872 ,  0.509279  , -2.7423162 ,  2.1723568 ,\n",
       "        0.02191449, -0.16062206, -0.14502135, -0.32332814, -1.7890338 ,\n",
       "        1.8245052 , -1.3794106 ,  0.4879299 , -1.4982558 , -1.2389678 ,\n",
       "        1.1795257 , -1.54579   ,  0.07694028,  0.44653377,  0.27894926,\n",
       "       -1.9621123 ,  0.6149733 , -0.41162157, -1.0487087 , -1.7935017 ,\n",
       "        0.31845954,  0.14684801, -0.49587062,  1.6319822 ,  0.39944446,\n",
       "        0.434382  , -1.1794649 , -2.5206347 ,  0.6408292 , -0.62896025,\n",
       "        1.9872422 ,  1.2521076 , -0.21406372,  1.6773093 , -1.6608806 ,\n",
       "       -0.33801398, -0.88510543,  0.1943094 , -1.7670768 , -0.39440864,\n",
       "        1.5270631 , -1.1952105 , -0.60033166,  1.0510954 , -1.4626403 ,\n",
       "       -1.517039  ,  0.59476143,  0.36977595, -1.4121546 , -0.21997249,\n",
       "       -1.0658429 , -0.17150132,  0.8064618 ,  0.5093993 , -0.74832773,\n",
       "        1.2333933 , -1.9864655 , -0.8474578 , -1.1405545 , -3.6550071 ,\n",
       "       -1.556984  ,  1.8270527 ,  1.3725282 , -1.2329742 , -0.09723412,\n",
       "        0.34405386,  0.11565362, -0.9567215 ,  1.4773479 ,  2.169166  ,\n",
       "       -0.26613593, -1.4810696 ,  3.1457973 , -0.4415616 , -1.1940637 ,\n",
       "       -0.09637992, -0.05768079,  0.6716703 , -0.21914895,  0.56199044,\n",
       "       -1.129858  , -0.7972026 ,  0.73576796,  0.22356483,  0.9140782 ,\n",
       "       -1.4168789 ,  0.15810002, -0.79947495, -1.0691265 ,  1.4587201 ,\n",
       "       -0.5216996 ,  1.1812991 ,  0.37763026,  1.3513768 , -0.4241938 ],\n",
       "      dtype=float32)"
      ]
     },
     "execution_count": 35,
     "metadata": {},
     "output_type": "execute_result"
    }
   ],
   "source": [
    "word2vec_path = os.getenv('HOME')+'/aiffel/sentiment_classification/ko.bin'\n",
    "word2vec = gensim.models.Word2Vec.load(word2vec_path)\n",
    "vector = word2vec['컴퓨터']\n",
    "vector     # 무려 300dim의 워드 벡터입니다."
   ]
  },
  {
   "cell_type": "code",
   "execution_count": 36,
   "id": "ce31aa43",
   "metadata": {},
   "outputs": [
    {
     "data": {
      "text/plain": [
       "[('아아아', 0.736332356929779),\n",
       " ('이번', 0.7329647541046143),\n",
       " ('>', 0.7203007936477661),\n",
       " ('시대', 0.7052302956581116),\n",
       " ('앞', 0.6993193626403809),\n",
       " ('났', 0.6921488046646118),\n",
       " ('숨막히', 0.6918244361877441),\n",
       " ('영상미', 0.6859076023101807),\n",
       " ('이연걸', 0.6822570562362671),\n",
       " ('가수', 0.6815158128738403)]"
      ]
     },
     "execution_count": 36,
     "metadata": {},
     "output_type": "execute_result"
    }
   ],
   "source": [
    "word_vectors.similar_by_word(\"로맨스\")"
   ]
  },
  {
   "cell_type": "code",
   "execution_count": 37,
   "id": "b44fb51b",
   "metadata": {},
   "outputs": [
    {
     "data": {
      "text/plain": [
       "[('싱크로', 0.77757728099823),\n",
       " ('미스터', 0.7584331631660461),\n",
       " ('첩보', 0.7396438717842102),\n",
       " ('브라이언', 0.7391180992126465),\n",
       " ('이현우', 0.7363893985748291),\n",
       " ('감격', 0.7234395146369934),\n",
       " ('아무튼', 0.723291277885437),\n",
       " ('쟁쟁', 0.7201427221298218),\n",
       " ('세나', 0.7137171626091003),\n",
       " ('노년', 0.7131544947624207)]"
      ]
     },
     "execution_count": 37,
     "metadata": {},
     "output_type": "execute_result"
    }
   ],
   "source": [
    "word_vectors.similar_by_word(\"웅장\")"
   ]
  },
  {
   "cell_type": "code",
   "execution_count": 38,
   "id": "004f24eb",
   "metadata": {},
   "outputs": [
    {
     "name": "stderr",
     "output_type": "stream",
     "text": [
      "/tmp/ipykernel_330/903563256.py:8: DeprecationWarning: Call to deprecated `__contains__` (Method will be removed in 4.0.0, use self.wv.__contains__() instead).\n",
      "  if index_to_word[i] in word2vec:\n",
      "/tmp/ipykernel_330/903563256.py:9: DeprecationWarning: Call to deprecated `__getitem__` (Method will be removed in 4.0.0, use self.wv.__getitem__() instead).\n",
      "  embedding_matrix[i] = word2vec[index_to_word[i]]\n"
     ]
    }
   ],
   "source": [
    "# model에 사용할 embedding layer 만들기\n",
    "vocab_size = 10000\n",
    "word_vector_dim = 200\n",
    "\n",
    "embedding_matrix = np.random.rand(vocab_size, word_vector_dim)\n",
    "\n",
    "for i in range(4,vocab_size):\n",
    "    if index_to_word[i] in word2vec:\n",
    "        embedding_matrix[i] = word2vec[index_to_word[i]]"
   ]
  },
  {
   "cell_type": "markdown",
   "id": "b99468df",
   "metadata": {},
   "source": [
    "### 6-1 GMP"
   ]
  },
  {
   "cell_type": "code",
   "execution_count": 39,
   "id": "5b0a9484",
   "metadata": {
    "scrolled": true
   },
   "outputs": [
    {
     "name": "stdout",
     "output_type": "stream",
     "text": [
      "Model: \"sequential_3\"\n",
      "_________________________________________________________________\n",
      "Layer (type)                 Output Shape              Param #   \n",
      "=================================================================\n",
      "embedding_3 (Embedding)      (None, None, 64)          640000    \n",
      "_________________________________________________________________\n",
      "global_max_pooling1d_2 (Glob (None, 64)                0         \n",
      "_________________________________________________________________\n",
      "dense_5 (Dense)              (None, 8)                 520       \n",
      "_________________________________________________________________\n",
      "dense_6 (Dense)              (None, 1)                 9         \n",
      "=================================================================\n",
      "Total params: 640,529\n",
      "Trainable params: 640,529\n",
      "Non-trainable params: 0\n",
      "_________________________________________________________________\n"
     ]
    }
   ],
   "source": [
    "vocab_size = 10000\n",
    "word_vector_dim = 64\n",
    "\n",
    "GMP_model = keras.Sequential()\n",
    "GMP_model.add(keras.layers.Embedding(vocab_size, word_vector_dim, input_shape=(None,)))\n",
    "GMP_model.add(keras.layers.GlobalMaxPooling1D())\n",
    "GMP_model.add(keras.layers.Dense(8, activation='gelu'))\n",
    "GMP_model.add(keras.layers.Dense(1, activation='sigmoid'))\n",
    "        \n",
    "\n",
    "GMP_model.summary()"
   ]
  },
  {
   "cell_type": "code",
   "execution_count": 40,
   "id": "41fbfc3b",
   "metadata": {
    "scrolled": true
   },
   "outputs": [
    {
     "name": "stdout",
     "output_type": "stream",
     "text": [
      "Epoch 1/5\n",
      "13705/13705 [==============================] - 50s 4ms/step - loss: 0.3825 - accuracy: 0.8280 - val_loss: 0.3476 - val_accuracy: 0.8470\n",
      "Epoch 2/5\n",
      "13705/13705 [==============================] - 49s 4ms/step - loss: 0.3107 - accuracy: 0.8681 - val_loss: 0.3404 - val_accuracy: 0.8518\n",
      "Epoch 3/5\n",
      "13705/13705 [==============================] - 50s 4ms/step - loss: 0.2771 - accuracy: 0.8853 - val_loss: 0.3419 - val_accuracy: 0.8541\n",
      "Epoch 4/5\n",
      "13705/13705 [==============================] - 50s 4ms/step - loss: 0.2532 - accuracy: 0.8962 - val_loss: 0.3530 - val_accuracy: 0.8504\n",
      "Epoch 5/5\n",
      "13705/13705 [==============================] - 49s 4ms/step - loss: 0.2328 - accuracy: 0.9061 - val_loss: 0.3517 - val_accuracy: 0.8527\n"
     ]
    }
   ],
   "source": [
    "GMP_model.compile(optimizer='adam',\n",
    "              loss='binary_crossentropy',\n",
    "              metrics=['accuracy'])\n",
    "\n",
    "GMP_history = GMP_model.fit(partial_x_train,\n",
    "                    partial_y_train,\n",
    "                    epochs=5,\n",
    "                    batch_size=8,\n",
    "                    validation_data=(x_val, y_val),\n",
    "                    verbose=1)"
   ]
  },
  {
   "cell_type": "code",
   "execution_count": 41,
   "id": "868d6675",
   "metadata": {},
   "outputs": [
    {
     "name": "stdout",
     "output_type": "stream",
     "text": [
      "1537/1537 - 2s - loss: 0.3585 - accuracy: 0.8495\n",
      "[0.35846182703971863, 0.8495229482650757]\n"
     ]
    }
   ],
   "source": [
    "results = GMP_model.evaluate(X_test,  y_test, verbose=2)\n",
    "\n",
    "print(results)"
   ]
  },
  {
   "cell_type": "code",
   "execution_count": 42,
   "id": "6209b045",
   "metadata": {},
   "outputs": [
    {
     "name": "stdout",
     "output_type": "stream",
     "text": [
      "dict_keys(['loss', 'accuracy', 'val_loss', 'val_accuracy'])\n"
     ]
    }
   ],
   "source": [
    "GMP_history_dict = GMP_history.history\n",
    "print(GMP_history_dict.keys())"
   ]
  },
  {
   "cell_type": "code",
   "execution_count": 43,
   "id": "c28d6b80",
   "metadata": {},
   "outputs": [
    {
     "data": {
      "image/png": "[encoded data removed]",
      "text/plain": [
       "<Figure size 432x288 with 1 Axes>"
      ]
     },
     "metadata": {
      "needs_background": "light"
     },
     "output_type": "display_data"
    },
    {
     "data": {
      "image/png": "[encoded data removed]",
      "text/plain": [
       "<Figure size 432x288 with 1 Axes>"
      ]
     },
     "metadata": {
      "needs_background": "light"
     },
     "output_type": "display_data"
    }
   ],
   "source": [
    "acc = GMP_history_dict['accuracy']\n",
    "val_acc = GMP_history_dict['val_accuracy']\n",
    "loss = GMP_history_dict['loss']\n",
    "val_loss = GMP_history_dict['val_loss']\n",
    "\n",
    "epochs = range(1, len(acc) + 1)\n",
    "\n",
    "# \"bo\"는 \"파란색 점\"입니다\n",
    "plt.plot(epochs, loss, 'bo', label='Training loss')\n",
    "# b는 \"파란 실선\"입니다\n",
    "plt.plot(epochs, val_loss, 'b', label='Validation loss')\n",
    "plt.title('Training and validation loss')\n",
    "plt.xlabel('Epochs')\n",
    "plt.ylabel('Loss')\n",
    "plt.legend()\n",
    "\n",
    "plt.show()\n",
    "\n",
    "\n",
    "plt.clf()   # 그림을 초기화합니다\n",
    "\n",
    "plt.plot(epochs, acc, 'bo', label='Training acc')\n",
    "plt.plot(epochs, val_acc, 'b', label='Validation acc')\n",
    "plt.title('Training and validation accuracy')\n",
    "plt.xlabel('Epochs')\n",
    "plt.ylabel('Accuracy')\n",
    "plt.legend()\n",
    "\n",
    "plt.show()"
   ]
  },
  {
   "cell_type": "markdown",
   "id": "495d7563",
   "metadata": {},
   "source": [
    "### 6-2. 1-D Convolution Neural Network(1-D CNN)"
   ]
  },
  {
   "cell_type": "code",
   "execution_count": 44,
   "id": "ba8c2f08",
   "metadata": {},
   "outputs": [
    {
     "name": "stdout",
     "output_type": "stream",
     "text": [
      "Model: \"sequential_4\"\n",
      "_________________________________________________________________\n",
      "Layer (type)                 Output Shape              Param #   \n",
      "=================================================================\n",
      "embedding_4 (Embedding)      (None, None, 16)          160000    \n",
      "_________________________________________________________________\n",
      "conv1d_2 (Conv1D)            (None, None, 16)          1808      \n",
      "_________________________________________________________________\n",
      "max_pooling1d_1 (MaxPooling1 (None, None, 16)          0         \n",
      "_________________________________________________________________\n",
      "conv1d_3 (Conv1D)            (None, None, 16)          1808      \n",
      "_________________________________________________________________\n",
      "global_max_pooling1d_3 (Glob (None, 16)                0         \n",
      "_________________________________________________________________\n",
      "dense_7 (Dense)              (None, 8)                 136       \n",
      "_________________________________________________________________\n",
      "dense_8 (Dense)              (None, 1)                 9         \n",
      "=================================================================\n",
      "Total params: 163,761\n",
      "Trainable params: 163,761\n",
      "Non-trainable params: 0\n",
      "_________________________________________________________________\n"
     ]
    }
   ],
   "source": [
    "vocab_size = 10000    # 어휘 사전의 크기입니다(10,000개의 단어)\n",
    "word_vector_dim = 16  # 워드 벡터의 차원수 (변경가능한 하이퍼파라미터)\n",
    "\n",
    "CNN_model = keras.Sequential()\n",
    "CNN_model.add(keras.layers.Embedding(vocab_size, word_vector_dim, input_shape=(None,)))\n",
    "CNN_model.add(keras.layers.Conv1D(16, 7, activation='gelu'))\n",
    "CNN_model.add(keras.layers.MaxPooling1D(5))\n",
    "CNN_model.add(keras.layers.Conv1D(16, 7, activation='gelu'))\n",
    "CNN_model.add(keras.layers.GlobalMaxPooling1D())\n",
    "CNN_model.add(keras.layers.Dense(8, activation='gelu'))\n",
    "CNN_model.add(keras.layers.Dense(1, activation='sigmoid'))  # 최종 출력은 긍정/부정을 나타내는 1dim 입니다.\n",
    "\n",
    "CNN_model.summary()"
   ]
  },
  {
   "cell_type": "code",
   "execution_count": 45,
   "id": "923170b5",
   "metadata": {},
   "outputs": [
    {
     "name": "stdout",
     "output_type": "stream",
     "text": [
      "Epoch 1/5\n",
      "13705/13705 [==============================] - 69s 5ms/step - loss: 0.3727 - accuracy: 0.8304 - val_loss: 0.3265 - val_accuracy: 0.8590\n",
      "Epoch 2/5\n",
      "13705/13705 [==============================] - 68s 5ms/step - loss: 0.2836 - accuracy: 0.8807 - val_loss: 0.3218 - val_accuracy: 0.8605\n",
      "Epoch 3/5\n",
      "13705/13705 [==============================] - 67s 5ms/step - loss: 0.2351 - accuracy: 0.9039 - val_loss: 0.3310 - val_accuracy: 0.8586\n",
      "Epoch 4/5\n",
      "13705/13705 [==============================] - 68s 5ms/step - loss: 0.1952 - accuracy: 0.9224 - val_loss: 0.3541 - val_accuracy: 0.8540\n",
      "Epoch 5/5\n",
      "13705/13705 [==============================] - 67s 5ms/step - loss: 0.1617 - accuracy: 0.9372 - val_loss: 0.4320 - val_accuracy: 0.8429\n"
     ]
    }
   ],
   "source": [
    "CNN_model.compile(optimizer='adam',\n",
    "              loss='binary_crossentropy',\n",
    "              metrics=['accuracy'])\n",
    "\n",
    "\n",
    "CNN_history = CNN_model.fit(partial_x_train,\n",
    "                    partial_y_train,\n",
    "                    epochs=5,\n",
    "                    batch_size=8,\n",
    "                    validation_data=(x_val, y_val),\n",
    "                    verbose=1)"
   ]
  },
  {
   "cell_type": "code",
   "execution_count": 46,
   "id": "84c40b29",
   "metadata": {},
   "outputs": [
    {
     "name": "stdout",
     "output_type": "stream",
     "text": [
      "1537/1537 - 3s - loss: 0.4403 - accuracy: 0.8410\n",
      "[0.44034820795059204, 0.8410195708274841]\n"
     ]
    }
   ],
   "source": [
    "results = CNN_model.evaluate(X_test,  y_test, verbose=2)\n",
    "\n",
    "print(results)"
   ]
  },
  {
   "cell_type": "code",
   "execution_count": 47,
   "id": "a781c8f4",
   "metadata": {},
   "outputs": [
    {
     "name": "stdout",
     "output_type": "stream",
     "text": [
      "dict_keys(['loss', 'accuracy', 'val_loss', 'val_accuracy'])\n"
     ]
    }
   ],
   "source": [
    "CNN_history_dict = CNN_history.history\n",
    "print(CNN_history_dict.keys())"
   ]
  },
  {
   "cell_type": "code",
   "execution_count": 48,
   "id": "c1f4da16",
   "metadata": {},
   "outputs": [
    {
     "data": {
      "image/png": "[encoded data removed]",
      "text/plain": [
       "<Figure size 432x288 with 1 Axes>"
      ]
     },
     "metadata": {
      "needs_background": "light"
     },
     "output_type": "display_data"
    },
    {
     "data": {
      "image/png": "[encoded data removed]",
      "text/plain": [
       "<Figure size 432x288 with 1 Axes>"
      ]
     },
     "metadata": {
      "needs_background": "light"
     },
     "output_type": "display_data"
    }
   ],
   "source": [
    "acc = CNN_history_dict['accuracy']\n",
    "val_acc = CNN_history_dict['val_accuracy']\n",
    "loss = CNN_history_dict['loss']\n",
    "val_loss = CNN_history_dict['val_loss']\n",
    "\n",
    "epochs = range(1, len(acc) + 1)\n",
    "\n",
    "# \"bo\"는 \"파란색 점\"입니다\n",
    "plt.plot(epochs, loss, 'bo', label='Training loss')\n",
    "# b는 \"파란 실선\"입니다\n",
    "plt.plot(epochs, val_loss, 'b', label='Validation loss')\n",
    "plt.title('Training and validation loss')\n",
    "plt.xlabel('Epochs')\n",
    "plt.ylabel('Loss')\n",
    "plt.legend()\n",
    "\n",
    "plt.show()\n",
    "\n",
    "\n",
    "plt.clf()   # 그림을 초기화합니다\n",
    "\n",
    "plt.plot(epochs, acc, 'bo', label='Training acc')\n",
    "plt.plot(epochs, val_acc, 'b', label='Validation acc')\n",
    "plt.title('Training and validation accuracy')\n",
    "plt.xlabel('Epochs')\n",
    "plt.ylabel('Accuracy')\n",
    "plt.legend()\n",
    "\n",
    "plt.show()"
   ]
  },
  {
   "cell_type": "markdown",
   "id": "2c107c1c",
   "metadata": {},
   "source": [
    "### 6-3. LSTM"
   ]
  },
  {
   "cell_type": "code",
   "execution_count": 49,
   "id": "ad78ead6",
   "metadata": {},
   "outputs": [
    {
     "name": "stdout",
     "output_type": "stream",
     "text": [
      "Model: \"sequential_5\"\n",
      "_________________________________________________________________\n",
      "Layer (type)                 Output Shape              Param #   \n",
      "=================================================================\n",
      "embedding_5 (Embedding)      (None, None, 128)         1280000   \n",
      "_________________________________________________________________\n",
      "lstm_1 (LSTM)                (None, 128)               131584    \n",
      "_________________________________________________________________\n",
      "dense_9 (Dense)              (None, 1)                 129       \n",
      "=================================================================\n",
      "Total params: 1,411,713\n",
      "Trainable params: 1,411,713\n",
      "Non-trainable params: 0\n",
      "_________________________________________________________________\n"
     ]
    }
   ],
   "source": [
    "vocab_size = 10000\n",
    "word_vector_dim = 128\n",
    "\n",
    "LSTM_model = keras.Sequential()\n",
    "LSTM_model.add(keras.layers.Embedding(vocab_size, word_vector_dim, input_shape=(None,)))\n",
    "LSTM_model.add(keras.layers.LSTM(128))\n",
    "LSTM_model.add(keras.layers.Dense(1, activation='sigmoid'))\n",
    "\n",
    "LSTM_model.summary()"
   ]
  },
  {
   "cell_type": "code",
   "execution_count": 50,
   "id": "8df4efc8",
   "metadata": {},
   "outputs": [
    {
     "name": "stdout",
     "output_type": "stream",
     "text": [
      "Epoch 1/5\n",
      "9137/9137 [==============================] - 55s 6ms/step - loss: 0.3660 - accuracy: 0.8378 - val_loss: 0.3196 - val_accuracy: 0.8609\n",
      "Epoch 2/5\n",
      "9137/9137 [==============================] - 53s 6ms/step - loss: 0.2803 - accuracy: 0.8822 - val_loss: 0.3057 - val_accuracy: 0.8698\n",
      "Epoch 3/5\n",
      "9137/9137 [==============================] - 53s 6ms/step - loss: 0.2347 - accuracy: 0.9034 - val_loss: 0.3137 - val_accuracy: 0.8676\n",
      "Epoch 4/5\n",
      "9137/9137 [==============================] - 53s 6ms/step - loss: 0.1930 - accuracy: 0.9233 - val_loss: 0.3429 - val_accuracy: 0.8630\n",
      "Epoch 5/5\n",
      "9137/9137 [==============================] - 53s 6ms/step - loss: 0.1532 - accuracy: 0.9405 - val_loss: 0.3759 - val_accuracy: 0.8604\n"
     ]
    }
   ],
   "source": [
    "LSTM_model.compile(optimizer='adam',\n",
    "              loss='binary_crossentropy',\n",
    "              metrics=['accuracy'])\n",
    "\n",
    "\n",
    "LSTM_history = LSTM_model.fit(partial_x_train,\n",
    "                    partial_y_train,\n",
    "                    epochs=5,\n",
    "                    batch_size=12,\n",
    "                    validation_data=(x_val, y_val),\n",
    "                    verbose=1)"
   ]
  },
  {
   "cell_type": "code",
   "execution_count": 51,
   "id": "e802ff78",
   "metadata": {},
   "outputs": [
    {
     "name": "stdout",
     "output_type": "stream",
     "text": [
      "1537/1537 - 3s - loss: 0.3849 - accuracy: 0.8553\n",
      "[0.3848874568939209, 0.8552800416946411]\n"
     ]
    }
   ],
   "source": [
    "results = LSTM_model.evaluate(X_test,  y_test, verbose=2)\n",
    "\n",
    "print(results)"
   ]
  },
  {
   "cell_type": "code",
   "execution_count": 52,
   "id": "d0a82414",
   "metadata": {},
   "outputs": [
    {
     "name": "stdout",
     "output_type": "stream",
     "text": [
      "dict_keys(['loss', 'accuracy', 'val_loss', 'val_accuracy'])\n"
     ]
    }
   ],
   "source": [
    "LSTM_history_dict = LSTM_history.history\n",
    "print(LSTM_history_dict.keys())"
   ]
  },
  {
   "cell_type": "code",
   "execution_count": 53,
   "id": "44c10663",
   "metadata": {},
   "outputs": [
    {
     "data": {
      "image/png": "[encoded data removed]",
      "text/plain": [
       "<Figure size 432x288 with 1 Axes>"
      ]
     },
     "metadata": {
      "needs_background": "light"
     },
     "output_type": "display_data"
    },
    {
     "data": {
      "image/png": "[encoded data removed]",
      "text/plain": [
       "<Figure size 432x288 with 1 Axes>"
      ]
     },
     "metadata": {
      "needs_background": "light"
     },
     "output_type": "display_data"
    }
   ],
   "source": [
    "acc = LSTM_history_dict['accuracy']\n",
    "val_acc = LSTM_history_dict['val_accuracy']\n",
    "loss = LSTM_history_dict['loss']\n",
    "val_loss = LSTM_history_dict['val_loss']\n",
    "\n",
    "epochs = range(1, len(acc) + 1)\n",
    "\n",
    "# \"bo\"는 \"파란색 점\"입니다\n",
    "plt.plot(epochs, loss, 'bo', label='Training loss')\n",
    "# b는 \"파란 실선\"입니다\n",
    "plt.plot(epochs, val_loss, 'b', label='Validation loss')\n",
    "plt.title('Training and validation loss')\n",
    "plt.xlabel('Epochs')\n",
    "plt.ylabel('Loss')\n",
    "plt.legend()\n",
    "\n",
    "plt.show()\n",
    "\n",
    "\n",
    "plt.clf()   # 그림을 초기화합니다\n",
    "\n",
    "plt.plot(epochs, acc, 'bo', label='Training acc')\n",
    "plt.plot(epochs, val_acc, 'b', label='Validation acc')\n",
    "plt.title('Training and validation accuracy')\n",
    "plt.xlabel('Epochs')\n",
    "plt.ylabel('Accuracy')\n",
    "plt.legend()\n",
    "\n",
    "plt.show()"
   ]
  },
  {
   "cell_type": "markdown",
   "id": "0051ddce",
   "metadata": {},
   "source": [
    "## 회고"
   ]
  },
  {
   "attachments": {
    "image.png": {
     "image/png": "[encoded data removed]"
    }
   },
   "cell_type": "markdown",
   "id": "f91e8e1c",
   "metadata": {},
   "source": [
    "1. NLP 오늘 설문조사에서 NLP를 선택했는데 NLP너무 어렵습니다.  \n",
    "후회 하고있어요.. 그래도 최근 NLP를 경험 하면서 토큰화 하는 부분에 대해서는 어느 정도 익숙해 진 것 같습니다.  \n",
    "그래도 앞으로의 익스를 통해 NLP 부분에서 다양한 경험을 했으면 좋겠습니다.  \n",
    "\n",
    "2. epoch, batch size\n",
    "배치 사이즈를 처음에는 2의 배수로 해야 한 다는 말을 들었는데 큰 의미는 없었던 것 같습니다. 또한 에포크를 늘리거나 줄이는 것 보다 중요한건 적정한 배치 사이즈를 찾는 것 같습니다.  \n",
    "\n",
    "3. gensim 버전\n",
    "처음 버전을 굳이 신경쓰지 않고 돌렸는데 오류 때문에 한참을 해매었고 버전을 조정하니 잘 되었습니다.  버전의 중요성을 다시금 알게 되었습니다.  \n",
    "\n",
    "\n",
    "4. 데이터 선택\n",
    "데이터는 많으면 많을 수록 좋다고 생각했습니다.  \n",
    "하지만 이번 데이터 'ko.bin' 파일을 선택하는 부분은 2가지가 있었습니다.  \n",
    "구글 드라이브와 드롭박스에서 선택 하는 것이였는데요  \n",
    "드롭박스는 1GB가 넘는 많은 데이터 였고 구글 드라이브 파일은 약 70MB 남짓이였습니다.  그래서 처음에는 드롭박스로 진행을 했었는데 ![image.png](attachment:image.png) 이러한 오류가 나왔습니다.  \n",
    "검색을 해도 나오지 않았고 코드를 수정해도 좋은 결과가 나오지 않았습니다.  \n",
    "결과적으로 문제는 단순 '파일'의 문제였습니다.  \n",
    "그렇기 때문에 이번 프로젝트에서 파일 즉 데이터의 중요성을 다시금 깨닫게 되었습니다."
   ]
  },
  {
   "cell_type": "markdown",
   "id": "8b74e678",
   "metadata": {},
   "source": [
    "루브릭 기준 달성\n",
    "다행히 루브릭 기준의 만족 가능 한 숫자인 LSTM에서 0.8553 나왔습니다."
   ]
  },
  {
   "cell_type": "code",
   "execution_count": null,
   "id": "77cfe754",
   "metadata": {},
   "outputs": [],
   "source": []
  }
 ],
 "metadata": {
  "kernelspec": {
   "display_name": "Python 3 (ipykernel)",
   "language": "python",
   "name": "python3"
  },
  "language_info": {
   "codemirror_mode": {
    "name": "ipython",
    "version": 3
   },
   "file_extension": ".py",
   "mimetype": "text/x-python",
   "name": "python",
   "nbconvert_exporter": "python",
   "pygments_lexer": "ipython3",
   "version": "3.9.7"
  }
 },
 "nbformat": 4,
 "nbformat_minor": 5
}
