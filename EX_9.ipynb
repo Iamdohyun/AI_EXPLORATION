{
 "cells": [
  {
   "cell_type": "markdown",
   "id": "26abb8a8",
   "metadata": {},
   "source": [
    "## 1. Import 및 데이터 로더 구성"
   ]
  },
  {
   "cell_type": "code",
   "execution_count": 1,
   "id": "57ace6f8",
   "metadata": {},
   "outputs": [],
   "source": [
    "import os\n",
    "import re\n",
    "import pandas as pd\n",
    "import numpy as np\n",
    "\n",
    "import urllib.request\n",
    "import matplotlib.pyplot as plt\n",
    "%matplotlib inline\n",
    "\n",
    "\n",
    "from konlpy.tag import Okt\n",
    "from konlpy.tag import Mecab\n",
    "\n",
    "from tensorflow import keras\n",
    "from tensorflow.keras.preprocessing.text import Tokenizer\n",
    "from tensorflow.keras.preprocessing.sequence import pad_sequences\n",
    "from tensorflow.keras.initializers import Constant\n",
    "from tensorflow.keras.callbacks import EarlyStopping, ModelCheckpoint\n",
    "from tensorflow.keras.models import load_model\n",
    "\n",
    "from collections import Counter\n",
    "import gensim\n",
    "from gensim.models import KeyedVectors\n",
    "from gensim.models.keyedvectors import Word2VecKeyedVectors\n",
    "from sklearn.model_selection import train_test_split\n",
    "\n",
    "# tokenizer, 불용어 선언\n",
    "tokenizer = Mecab()\n",
    "stopwords = ['의','가','이','은','들','는','좀','잘','걍','과','도','를','으로','자','에','와','한','하다']\n",
    "\n",
    "# pre-processing and loading data\n",
    "def load_data(train_data, test_data, num_words=10000):\n",
    "    '''\n",
    "    1. 데이터의 중복 제거\n",
    "    2. NaN 결측치 제거\n",
    "    3. 한국어 토크나이저로 토큰화\n",
    "    4. 불용어(Stopwords) 제거\n",
    "    5. 사전word_to_index 구성\n",
    "    6. 텍스트 스트링을 사전 인덱스 스트링으로 변환\n",
    "    7. Return: X_train, y_train, X_test, y_test, word_to_index\n",
    "    '''\n",
    "    \n",
    "    train_data.drop_duplicates(subset=['document'], inplace=True) #1\n",
    "    train_data = train_data.dropna(how = 'any') #2\n",
    "    test_data.drop_duplicates(subset=['document'], inplace=True) #1\n",
    "    test_data = test_data.dropna(how = 'any') #2\n",
    "    \n",
    "    #3,4 \n",
    "    X_train = []\n",
    "    for sentence in train_data['document']:\n",
    "        temp_X = tokenizer.morphs(sentence)\n",
    "        temp_X = [word for word in temp_X if not word in stopwords]\n",
    "        X_train.append(temp_X)\n",
    "\n",
    "    X_test = []\n",
    "    for sentence in test_data['document']:\n",
    "        temp_X = tokenizer.morphs(sentence)\n",
    "        temp_X = [word for word in temp_X if not word in stopwords]\n",
    "        X_test.append(temp_X)\n",
    "\n",
    "    words = np.concatenate(X_train).tolist()\n",
    "    counter = Counter(words)\n",
    "    counter = counter.most_common(10000-4)\n",
    "    vocab = ['<PAD>', '<BOS>', '<UNK>', '<UNUSED>'] + [key for key, _ in counter]\n",
    "    word_to_index = {word:index for index, word in enumerate(vocab)}\n",
    "    \n",
    "    #5\n",
    "    def wordlist_to_indexlist(wordlist):\n",
    "        return [word_to_index[word] if word in word_to_index else word_to_index['<UNK>'] for word in wordlist]\n",
    "    #6\n",
    "    X_train = list(map(wordlist_to_indexlist, X_train))\n",
    "    X_test = list(map(wordlist_to_indexlist, X_test))\n",
    "\n",
    "    return X_train, np.array(list(train_data['label'])), X_test, np.array(list(test_data['label'])), word_to_index\n",
    "\n",
    "# 문장 1개를 활용할 딕셔너리와 함께 주면, 단어 인덱스 리스트 벡터로 변환해 주는 함수입니다. \n",
    "# 단, 모든 문장은 <BOS>로 시작하는 것으로 합니다. \n",
    "def get_encoded_sentence(sentence, word_to_index):\n",
    "    return [word_to_index['<BOS>']]+[word_to_index[word] if word in word_to_index else word_to_index['<UNK>'] for word in sentence.split()]\n",
    "\n",
    "# 여러 개의 문장 리스트를 한꺼번에 단어 인덱스 리스트 벡터로 encode해 주는 함수입니다. \n",
    "def get_encoded_sentences(sentences, word_to_index):\n",
    "    return [get_encoded_sentence(sentence, word_to_index) for sentence in sentences]\n",
    "\n",
    "# 숫자 벡터로 encode된 문장을 원래대로 decode하는 함수입니다. \n",
    "def get_decoded_sentence(encoded_sentence, index_to_word):\n",
    "    return ' '.join(index_to_word[index] if index in index_to_word else '<UNK>' for index in encoded_sentence[1:])  #[1:]를 통해 <BOS>를 제외\n",
    "\n",
    "# 여러 개의 숫자 벡터로 encode된 문장을 한꺼번에 원래대로 decode하는 함수입니다. \n",
    "def get_decoded_sentences(encoded_sentences, index_to_word):\n",
    "    return [get_decoded_sentence(encoded_sentence, index_to_word) for encoded_sentence in encoded_sentences]"
   ]
  },
  {
   "cell_type": "markdown",
   "id": "0911d614",
   "metadata": {},
   "source": [
    "## 2. 데이터 불러오기"
   ]
  },
  {
   "cell_type": "code",
   "execution_count": 2,
   "id": "b2491961",
   "metadata": {},
   "outputs": [
    {
     "data": {
      "text/html": [
       "<div>\n",
       "<style scoped>\n",
       "    .dataframe tbody tr th:only-of-type {\n",
       "        vertical-align: middle;\n",
       "    }\n",
       "\n",
       "    .dataframe tbody tr th {\n",
       "        vertical-align: top;\n",
       "    }\n",
       "\n",
       "    .dataframe thead th {\n",
       "        text-align: right;\n",
       "    }\n",
       "</style>\n",
       "<table border=\"1\" class=\"dataframe\">\n",
       "  <thead>\n",
       "    <tr style=\"text-align: right;\">\n",
       "      <th></th>\n",
       "      <th>id</th>\n",
       "      <th>document</th>\n",
       "      <th>label</th>\n",
       "    </tr>\n",
       "  </thead>\n",
       "  <tbody>\n",
       "    <tr>\n",
       "      <th>0</th>\n",
       "      <td>9976970</td>\n",
       "      <td>아 더빙.. 진짜 짜증나네요 목소리</td>\n",
       "      <td>0</td>\n",
       "    </tr>\n",
       "    <tr>\n",
       "      <th>1</th>\n",
       "      <td>3819312</td>\n",
       "      <td>흠...포스터보고 초딩영화줄....오버연기조차 가볍지 않구나</td>\n",
       "      <td>1</td>\n",
       "    </tr>\n",
       "    <tr>\n",
       "      <th>2</th>\n",
       "      <td>10265843</td>\n",
       "      <td>너무재밓었다그래서보는것을추천한다</td>\n",
       "      <td>0</td>\n",
       "    </tr>\n",
       "    <tr>\n",
       "      <th>3</th>\n",
       "      <td>9045019</td>\n",
       "      <td>교도소 이야기구먼 ..솔직히 재미는 없다..평점 조정</td>\n",
       "      <td>0</td>\n",
       "    </tr>\n",
       "    <tr>\n",
       "      <th>4</th>\n",
       "      <td>6483659</td>\n",
       "      <td>사이몬페그의 익살스런 연기가 돋보였던 영화!스파이더맨에서 늙어보이기만 했던 커스틴 ...</td>\n",
       "      <td>1</td>\n",
       "    </tr>\n",
       "  </tbody>\n",
       "</table>\n",
       "</div>"
      ],
      "text/plain": [
       "         id                                           document  label\n",
       "0   9976970                                아 더빙.. 진짜 짜증나네요 목소리      0\n",
       "1   3819312                  흠...포스터보고 초딩영화줄....오버연기조차 가볍지 않구나      1\n",
       "2  10265843                                  너무재밓었다그래서보는것을추천한다      0\n",
       "3   9045019                      교도소 이야기구먼 ..솔직히 재미는 없다..평점 조정      0\n",
       "4   6483659  사이몬페그의 익살스런 연기가 돋보였던 영화!스파이더맨에서 늙어보이기만 했던 커스틴 ...      1"
      ]
     },
     "execution_count": 2,
     "metadata": {},
     "output_type": "execute_result"
    }
   ],
   "source": [
    "train_data = pd.read_table('~/aiffel/sentiment_classification/data/ratings_train.txt')\n",
    "test_data = pd.read_table('~/aiffel/sentiment_classification/data/ratings_test.txt')\n",
    "\n",
    "train_data.head()"
   ]
  },
  {
   "cell_type": "code",
   "execution_count": 3,
   "id": "a015bd87",
   "metadata": {},
   "outputs": [],
   "source": [
    "# data load 하여 X_train, y_train, X_test, y_test, word_to_index 리턴\n",
    "X_train, y_train, X_test, y_test, word_to_index = load_data(train_data, test_data) "
   ]
  },
  {
   "cell_type": "code",
   "execution_count": 4,
   "id": "3d50727c",
   "metadata": {},
   "outputs": [],
   "source": [
    "# index에서 word로 바꿔주는 dictionary\n",
    "index_to_word = {index:word for word, index in word_to_index.items()}"
   ]
  },
  {
   "cell_type": "code",
   "execution_count": 5,
   "id": "409a4eb7",
   "metadata": {},
   "outputs": [
    {
     "data": {
      "text/plain": [
       "10000"
      ]
     },
     "execution_count": 5,
     "metadata": {},
     "output_type": "execute_result"
    }
   ],
   "source": [
    "len(word_to_index)"
   ]
  },
  {
   "cell_type": "markdown",
   "id": "e11e07b0",
   "metadata": {},
   "source": [
    "저의 어디가 짱인가요?"
   ]
  },
  {
   "cell_type": "code",
   "execution_count": 6,
   "id": "6bb04aa4",
   "metadata": {},
   "outputs": [
    {
     "name": "stdout",
     "output_type": "stream",
     "text": [
      ". 진짜 짱 다 ♥\n",
      "라벨:  1\n"
     ]
    }
   ],
   "source": [
    "print(get_decoded_sentence(X_train[10], index_to_word))\n",
    "print('라벨: ', y_train[10])  # 3번째 리뷰데이터의 라벨"
   ]
  },
  {
   "cell_type": "markdown",
   "id": "388e1551",
   "metadata": {},
   "source": [
    "## 3. 데이터 분석 및 가공"
   ]
  },
  {
   "cell_type": "code",
   "execution_count": 7,
   "id": "ff2b2d20",
   "metadata": {},
   "outputs": [
    {
     "name": "stdout",
     "output_type": "stream",
     "text": [
      "문장길이 평균 :  15.96940191154864\n",
      "문장길이 최대 :  116\n",
      "문장길이 표준편차 :  12.843571191092\n",
      "pad_sequences maxlen :  41\n",
      "전체 문장의 0.9342988343341575%가 maxlen 설정값 이내에 포함됩니다. \n"
     ]
    }
   ],
   "source": [
    "total_data_text = list(X_train) + list(X_test)\n",
    "# 텍스트데이터 문장길이의 리스트를 생성한 후\n",
    "num_tokens = [len(tokens) for tokens in total_data_text]\n",
    "num_tokens = np.array(num_tokens)\n",
    "# 문장길이의 평균값, 최대값, 표준편차를 계산해 본다. \n",
    "print('문장길이 평균 : ', np.mean(num_tokens))\n",
    "print('문장길이 최대 : ', np.max(num_tokens))\n",
    "print('문장길이 표준편차 : ', np.std(num_tokens))\n",
    "\n",
    "# 예를들어, 최대 길이를 (평균 + 2*표준편차)로 한다면,  \n",
    "max_tokens = np.mean(num_tokens) + 2 * np.std(num_tokens)\n",
    "maxlen = int(max_tokens)\n",
    "print('pad_sequences maxlen : ', maxlen)\n",
    "print('전체 문장의 {}%가 maxlen 설정값 이내에 포함됩니다. '.format(np.sum(num_tokens < max_tokens) / len(num_tokens)))"
   ]
  },
  {
   "cell_type": "code",
   "execution_count": 8,
   "id": "70201ec4",
   "metadata": {},
   "outputs": [
    {
     "name": "stdout",
     "output_type": "stream",
     "text": [
      "(146182, 41)\n"
     ]
    }
   ],
   "source": [
    "X_train = keras.preprocessing.sequence.pad_sequences(X_train,\n",
    "                                                        value=word_to_index[\"<PAD>\"],\n",
    "                                                        padding='pre', \n",
    "                                                        maxlen=maxlen)\n",
    "\n",
    "X_test = keras.preprocessing.sequence.pad_sequences(X_test,\n",
    "                                                       value=word_to_index[\"<PAD>\"],\n",
    "                                                       padding='pre', \n",
    "                                                       maxlen=maxlen)\n",
    "\n",
    "print(X_train.shape)"
   ]
  },
  {
   "cell_type": "code",
   "execution_count": 9,
   "id": "8bca35f6",
   "metadata": {},
   "outputs": [],
   "source": [
    "# Train, val data 분리\n",
    "partial_x_train, x_val, partial_y_train, y_val = train_test_split(X_train, y_train, test_size=0.25, random_state=718)"
   ]
  },
  {
   "cell_type": "markdown",
   "id": "d2ea61de",
   "metadata": {},
   "source": [
    "## 4. 모델 데려오기"
   ]
  },
  {
   "cell_type": "markdown",
   "id": "2d727ac0",
   "metadata": {},
   "source": [
    "### 4-1. GMP"
   ]
  },
  {
   "cell_type": "code",
   "execution_count": 10,
   "id": "ec0664cd",
   "metadata": {
    "scrolled": true
   },
   "outputs": [
    {
     "name": "stdout",
     "output_type": "stream",
     "text": [
      "Model: \"sequential\"\n",
      "_________________________________________________________________\n",
      "Layer (type)                 Output Shape              Param #   \n",
      "=================================================================\n",
      "embedding (Embedding)        (None, None, 64)          640000    \n",
      "_________________________________________________________________\n",
      "global_max_pooling1d (Global (None, 64)                0         \n",
      "_________________________________________________________________\n",
      "dense (Dense)                (None, 8)                 520       \n",
      "_________________________________________________________________\n",
      "dense_1 (Dense)              (None, 1)                 9         \n",
      "=================================================================\n",
      "Total params: 640,529\n",
      "Trainable params: 640,529\n",
      "Non-trainable params: 0\n",
      "_________________________________________________________________\n"
     ]
    }
   ],
   "source": [
    "vocab_size = 10000\n",
    "word_vector_dim = 64\n",
    "\n",
    "GMP_model = keras.Sequential()\n",
    "GMP_model.add(keras.layers.Embedding(vocab_size, word_vector_dim, input_shape=(None,)))\n",
    "GMP_model.add(keras.layers.GlobalMaxPooling1D())\n",
    "GMP_model.add(keras.layers.Dense(8, activation='gelu'))\n",
    "GMP_model.add(keras.layers.Dense(1, activation='sigmoid'))\n",
    "        \n",
    "\n",
    "GMP_model.summary()"
   ]
  },
  {
   "cell_type": "code",
   "execution_count": 11,
   "id": "dd2e46db",
   "metadata": {
    "scrolled": true
   },
   "outputs": [
    {
     "name": "stdout",
     "output_type": "stream",
     "text": [
      "Epoch 1/10\n",
      "10964/10964 [==============================] - 40s 4ms/step - loss: 0.3858 - accuracy: 0.8267 - val_loss: 0.3494 - val_accuracy: 0.8486\n",
      "Epoch 2/10\n",
      "10964/10964 [==============================] - 39s 4ms/step - loss: 0.3105 - accuracy: 0.8692 - val_loss: 0.3439 - val_accuracy: 0.8518\n",
      "Epoch 3/10\n",
      "10964/10964 [==============================] - 38s 4ms/step - loss: 0.2758 - accuracy: 0.8856 - val_loss: 0.3465 - val_accuracy: 0.8524\n",
      "Epoch 4/10\n",
      "10964/10964 [==============================] - 38s 3ms/step - loss: 0.2487 - accuracy: 0.8988 - val_loss: 0.3577 - val_accuracy: 0.8526\n",
      "Epoch 5/10\n",
      "10964/10964 [==============================] - 38s 4ms/step - loss: 0.2271 - accuracy: 0.9089 - val_loss: 0.3718 - val_accuracy: 0.8521\n",
      "Epoch 6/10\n",
      "10964/10964 [==============================] - 38s 4ms/step - loss: 0.2078 - accuracy: 0.9182 - val_loss: 0.3884 - val_accuracy: 0.8496\n",
      "Epoch 7/10\n",
      "10964/10964 [==============================] - 39s 4ms/step - loss: 0.1912 - accuracy: 0.9261 - val_loss: 0.3936 - val_accuracy: 0.8476\n",
      "Epoch 8/10\n",
      "10964/10964 [==============================] - 39s 4ms/step - loss: 0.1764 - accuracy: 0.9326 - val_loss: 0.4103 - val_accuracy: 0.8465\n",
      "Epoch 9/10\n",
      "10964/10964 [==============================] - 39s 4ms/step - loss: 0.1633 - accuracy: 0.9387 - val_loss: 0.4359 - val_accuracy: 0.8430\n",
      "Epoch 10/10\n",
      "10964/10964 [==============================] - 38s 4ms/step - loss: 0.1514 - accuracy: 0.9436 - val_loss: 0.4414 - val_accuracy: 0.8409\n"
     ]
    }
   ],
   "source": [
    "GMP_model.compile(optimizer='adam',\n",
    "              loss='binary_crossentropy',\n",
    "              metrics=['accuracy'])\n",
    "\n",
    "GMP_history = GMP_model.fit(partial_x_train,\n",
    "                    partial_y_train,\n",
    "                    epochs=10,\n",
    "                    batch_size=10,\n",
    "                    validation_data=(x_val, y_val),\n",
    "                    verbose=1)"
   ]
  },
  {
   "cell_type": "code",
   "execution_count": 12,
   "id": "df7a8253",
   "metadata": {},
   "outputs": [
    {
     "name": "stdout",
     "output_type": "stream",
     "text": [
      "1537/1537 - 2s - loss: 0.4502 - accuracy: 0.8385\n",
      "[0.45022299885749817, 0.838456392288208]\n"
     ]
    }
   ],
   "source": [
    "results = GMP_model.evaluate(X_test,  y_test, verbose=2)\n",
    "\n",
    "print(results)"
   ]
  },
  {
   "cell_type": "code",
   "execution_count": 13,
   "id": "7c2f9baa",
   "metadata": {},
   "outputs": [
    {
     "name": "stdout",
     "output_type": "stream",
     "text": [
      "dict_keys(['loss', 'accuracy', 'val_loss', 'val_accuracy'])\n"
     ]
    }
   ],
   "source": [
    "GMP_history_dict = GMP_history.history\n",
    "print(GMP_history_dict.keys())"
   ]
  },
  {
   "cell_type": "code",
   "execution_count": 14,
   "id": "22e40014",
   "metadata": {},
   "outputs": [
    {
     "data": {
      "image/png": "[encoded data removed]",
      "text/plain": [
       "<Figure size 432x288 with 1 Axes>"
      ]
     },
     "metadata": {
      "needs_background": "light"
     },
     "output_type": "display_data"
    },
    {
     "data": {
      "image/png": "[encoded data removed]",
      "text/plain": [
       "<Figure size 432x288 with 1 Axes>"
      ]
     },
     "metadata": {
      "needs_background": "light"
     },
     "output_type": "display_data"
    }
   ],
   "source": [
    "acc = GMP_history_dict['accuracy']\n",
    "val_acc = GMP_history_dict['val_accuracy']\n",
    "loss = GMP_history_dict['loss']\n",
    "val_loss = GMP_history_dict['val_loss']\n",
    "\n",
    "epochs = range(1, len(acc) + 1)\n",
    "\n",
    "# \"bo\"는 \"파란색 점\"입니다\n",
    "plt.plot(epochs, loss, 'bo', label='Training loss')\n",
    "# b는 \"파란 실선\"입니다\n",
    "plt.plot(epochs, val_loss, 'b', label='Validation loss')\n",
    "plt.title('Training and validation loss')\n",
    "plt.xlabel('Epochs')\n",
    "plt.ylabel('Loss')\n",
    "plt.legend()\n",
    "\n",
    "plt.show()\n",
    "\n",
    "\n",
    "plt.clf()   # 그림을 초기화합니다\n",
    "\n",
    "plt.plot(epochs, acc, 'bo', label='Training acc')\n",
    "plt.plot(epochs, val_acc, 'b', label='Validation acc')\n",
    "plt.title('Training and validation accuracy')\n",
    "plt.xlabel('Epochs')\n",
    "plt.ylabel('Accuracy')\n",
    "plt.legend()\n",
    "\n",
    "plt.show()"
   ]
  },
  {
   "cell_type": "markdown",
   "id": "6ec58961",
   "metadata": {},
   "source": [
    "### 4-2. 1-D Convolution Neural Network(1-D CNN)"
   ]
  },
  {
   "cell_type": "code",
   "execution_count": 15,
   "id": "c8827e37",
   "metadata": {},
   "outputs": [
    {
     "name": "stdout",
     "output_type": "stream",
     "text": [
      "Model: \"sequential_1\"\n",
      "_________________________________________________________________\n",
      "Layer (type)                 Output Shape              Param #   \n",
      "=================================================================\n",
      "embedding_1 (Embedding)      (None, None, 16)          160000    \n",
      "_________________________________________________________________\n",
      "conv1d (Conv1D)              (None, None, 16)          1808      \n",
      "_________________________________________________________________\n",
      "max_pooling1d (MaxPooling1D) (None, None, 16)          0         \n",
      "_________________________________________________________________\n",
      "conv1d_1 (Conv1D)            (None, None, 16)          1808      \n",
      "_________________________________________________________________\n",
      "global_max_pooling1d_1 (Glob (None, 16)                0         \n",
      "_________________________________________________________________\n",
      "dense_2 (Dense)              (None, 8)                 136       \n",
      "_________________________________________________________________\n",
      "dense_3 (Dense)              (None, 1)                 9         \n",
      "=================================================================\n",
      "Total params: 163,761\n",
      "Trainable params: 163,761\n",
      "Non-trainable params: 0\n",
      "_________________________________________________________________\n"
     ]
    }
   ],
   "source": [
    "vocab_size = 10000    # 어휘 사전의 크기입니다(10,000개의 단어)\n",
    "word_vector_dim = 16  # 워드 벡터의 차원수 (변경가능한 하이퍼파라미터)\n",
    "\n",
    "CNN_model = keras.Sequential()\n",
    "CNN_model.add(keras.layers.Embedding(vocab_size, word_vector_dim, input_shape=(None,)))\n",
    "CNN_model.add(keras.layers.Conv1D(16, 7, activation='gelu'))\n",
    "CNN_model.add(keras.layers.MaxPooling1D(5))\n",
    "CNN_model.add(keras.layers.Conv1D(16, 7, activation='gelu'))\n",
    "CNN_model.add(keras.layers.GlobalMaxPooling1D())\n",
    "CNN_model.add(keras.layers.Dense(8, activation='gelu'))\n",
    "CNN_model.add(keras.layers.Dense(1, activation='sigmoid'))  # 최종 출력은 긍정/부정을 나타내는 1dim 입니다.\n",
    "\n",
    "CNN_model.summary()"
   ]
  },
  {
   "cell_type": "code",
   "execution_count": 16,
   "id": "e420a888",
   "metadata": {},
   "outputs": [
    {
     "name": "stdout",
     "output_type": "stream",
     "text": [
      "Epoch 1/10\n",
      "10964/10964 [==============================] - 57s 5ms/step - loss: 0.3735 - accuracy: 0.8301 - val_loss: 0.3253 - val_accuracy: 0.8589\n",
      "Epoch 2/10\n",
      "10964/10964 [==============================] - 54s 5ms/step - loss: 0.2862 - accuracy: 0.8801 - val_loss: 0.3155 - val_accuracy: 0.8630\n",
      "Epoch 3/10\n",
      "10964/10964 [==============================] - 54s 5ms/step - loss: 0.2360 - accuracy: 0.9047 - val_loss: 0.3355 - val_accuracy: 0.8595\n",
      "Epoch 4/10\n",
      "10964/10964 [==============================] - 54s 5ms/step - loss: 0.1909 - accuracy: 0.9257 - val_loss: 0.3644 - val_accuracy: 0.8528\n",
      "Epoch 5/10\n",
      "10964/10964 [==============================] - 54s 5ms/step - loss: 0.1546 - accuracy: 0.9411 - val_loss: 0.4545 - val_accuracy: 0.8467\n",
      "Epoch 6/10\n",
      "10964/10964 [==============================] - 53s 5ms/step - loss: 0.1291 - accuracy: 0.9516 - val_loss: 0.5015 - val_accuracy: 0.8418\n",
      "Epoch 7/10\n",
      "10964/10964 [==============================] - 54s 5ms/step - loss: 0.1102 - accuracy: 0.9584 - val_loss: 0.5728 - val_accuracy: 0.8430\n",
      "Epoch 8/10\n",
      "10964/10964 [==============================] - 54s 5ms/step - loss: 0.0945 - accuracy: 0.9651 - val_loss: 0.5920 - val_accuracy: 0.8368\n",
      "Epoch 9/10\n",
      "10964/10964 [==============================] - 53s 5ms/step - loss: 0.0833 - accuracy: 0.9693 - val_loss: 0.6429 - val_accuracy: 0.8350\n",
      "Epoch 10/10\n",
      "10964/10964 [==============================] - 54s 5ms/step - loss: 0.0731 - accuracy: 0.9729 - val_loss: 0.7127 - val_accuracy: 0.8316\n"
     ]
    }
   ],
   "source": [
    "CNN_model.compile(optimizer='adam',\n",
    "              loss='binary_crossentropy',\n",
    "              metrics=['accuracy'])\n",
    "\n",
    "\n",
    "CNN_history = CNN_model.fit(partial_x_train,\n",
    "                    partial_y_train,\n",
    "                    epochs=10,\n",
    "                    batch_size=10,\n",
    "                    validation_data=(x_val, y_val),\n",
    "                    verbose=1)"
   ]
  },
  {
   "cell_type": "code",
   "execution_count": 17,
   "id": "da40c69b",
   "metadata": {},
   "outputs": [
    {
     "name": "stdout",
     "output_type": "stream",
     "text": [
      "1537/1537 - 3s - loss: 0.7188 - accuracy: 0.8282\n",
      "[0.7187612652778625, 0.8282238245010376]\n"
     ]
    }
   ],
   "source": [
    "results = CNN_model.evaluate(X_test,  y_test, verbose=2)\n",
    "\n",
    "print(results)"
   ]
  },
  {
   "cell_type": "code",
   "execution_count": 18,
   "id": "0d66cf19",
   "metadata": {},
   "outputs": [
    {
     "name": "stdout",
     "output_type": "stream",
     "text": [
      "dict_keys(['loss', 'accuracy', 'val_loss', 'val_accuracy'])\n"
     ]
    }
   ],
   "source": [
    "CNN_history_dict = CNN_history.history\n",
    "print(CNN_history_dict.keys())"
   ]
  },
  {
   "cell_type": "code",
   "execution_count": 19,
   "id": "0fc83952",
   "metadata": {},
   "outputs": [
    {
     "data": {
      "image/png": "[encoded data removed]",
      "text/plain": [
       "<Figure size 432x288 with 1 Axes>"
      ]
     },
     "metadata": {
      "needs_background": "light"
     },
     "output_type": "display_data"
    },
    {
     "data": {
      "image/png": "[encoded data removed]",
      "text/plain": [
       "<Figure size 432x288 with 1 Axes>"
      ]
     },
     "metadata": {
      "needs_background": "light"
     },
     "output_type": "display_data"
    }
   ],
   "source": [
    "acc = CNN_history_dict['accuracy']\n",
    "val_acc = CNN_history_dict['val_accuracy']\n",
    "loss = CNN_history_dict['loss']\n",
    "val_loss = CNN_history_dict['val_loss']\n",
    "\n",
    "epochs = range(1, len(acc) + 1)\n",
    "\n",
    "# \"bo\"는 \"파란색 점\"입니다\n",
    "plt.plot(epochs, loss, 'bo', label='Training loss')\n",
    "# b는 \"파란 실선\"입니다\n",
    "plt.plot(epochs, val_loss, 'b', label='Validation loss')\n",
    "plt.title('Training and validation loss')\n",
    "plt.xlabel('Epochs')\n",
    "plt.ylabel('Loss')\n",
    "plt.legend()\n",
    "\n",
    "plt.show()\n",
    "\n",
    "\n",
    "plt.clf()   # 그림을 초기화합니다\n",
    "\n",
    "plt.plot(epochs, acc, 'bo', label='Training acc')\n",
    "plt.plot(epochs, val_acc, 'b', label='Validation acc')\n",
    "plt.title('Training and validation accuracy')\n",
    "plt.xlabel('Epochs')\n",
    "plt.ylabel('Accuracy')\n",
    "plt.legend()\n",
    "\n",
    "plt.show()"
   ]
  },
  {
   "cell_type": "markdown",
   "id": "b9100439",
   "metadata": {},
   "source": [
    "### 4-3. LSTM"
   ]
  },
  {
   "cell_type": "code",
   "execution_count": 20,
   "id": "fb15c5c8",
   "metadata": {},
   "outputs": [
    {
     "name": "stdout",
     "output_type": "stream",
     "text": [
      "Model: \"sequential_2\"\n",
      "_________________________________________________________________\n",
      "Layer (type)                 Output Shape              Param #   \n",
      "=================================================================\n",
      "embedding_2 (Embedding)      (None, None, 128)         1280000   \n",
      "_________________________________________________________________\n",
      "lstm (LSTM)                  (None, 128)               131584    \n",
      "_________________________________________________________________\n",
      "dense_4 (Dense)              (None, 1)                 129       \n",
      "=================================================================\n",
      "Total params: 1,411,713\n",
      "Trainable params: 1,411,713\n",
      "Non-trainable params: 0\n",
      "_________________________________________________________________\n"
     ]
    }
   ],
   "source": [
    "vocab_size = 10000\n",
    "word_vector_dim = 128\n",
    "\n",
    "LSTM_model = keras.Sequential()\n",
    "LSTM_model.add(keras.layers.Embedding(vocab_size, word_vector_dim, input_shape=(None,)))\n",
    "LSTM_model.add(keras.layers.LSTM(128))\n",
    "LSTM_model.add(keras.layers.Dense(1, activation='sigmoid'))\n",
    "\n",
    "LSTM_model.summary()"
   ]
  },
  {
   "cell_type": "code",
   "execution_count": 21,
   "id": "142d6538",
   "metadata": {},
   "outputs": [
    {
     "name": "stdout",
     "output_type": "stream",
     "text": [
      "Epoch 1/10\n",
      "7310/7310 [==============================] - 44s 6ms/step - loss: 0.3667 - accuracy: 0.8365 - val_loss: 0.3233 - val_accuracy: 0.8592\n",
      "Epoch 2/10\n",
      "7310/7310 [==============================] - 42s 6ms/step - loss: 0.2818 - accuracy: 0.8808 - val_loss: 0.3094 - val_accuracy: 0.8673\n",
      "Epoch 3/10\n",
      "7310/7310 [==============================] - 42s 6ms/step - loss: 0.2350 - accuracy: 0.9039 - val_loss: 0.3207 - val_accuracy: 0.8666\n",
      "Epoch 4/10\n",
      "7310/7310 [==============================] - 42s 6ms/step - loss: 0.1923 - accuracy: 0.9230 - val_loss: 0.3395 - val_accuracy: 0.8639\n",
      "Epoch 5/10\n",
      "7310/7310 [==============================] - 41s 6ms/step - loss: 0.1523 - accuracy: 0.9402 - val_loss: 0.3917 - val_accuracy: 0.8593\n",
      "Epoch 6/10\n",
      "7310/7310 [==============================] - 41s 6ms/step - loss: 0.1154 - accuracy: 0.9561 - val_loss: 0.4712 - val_accuracy: 0.8561\n",
      "Epoch 7/10\n",
      "7310/7310 [==============================] - 42s 6ms/step - loss: 0.0874 - accuracy: 0.9673 - val_loss: 0.5392 - val_accuracy: 0.8544\n",
      "Epoch 8/10\n",
      "7310/7310 [==============================] - 42s 6ms/step - loss: 0.0676 - accuracy: 0.9743 - val_loss: 0.5891 - val_accuracy: 0.8489\n",
      "Epoch 9/10\n",
      "7310/7310 [==============================] - 42s 6ms/step - loss: 0.0524 - accuracy: 0.9804 - val_loss: 0.6444 - val_accuracy: 0.8487\n",
      "Epoch 10/10\n",
      "7310/7310 [==============================] - 41s 6ms/step - loss: 0.0419 - accuracy: 0.9844 - val_loss: 0.7042 - val_accuracy: 0.8484\n"
     ]
    }
   ],
   "source": [
    "LSTM_model.compile(optimizer='adam',\n",
    "              loss='binary_crossentropy',\n",
    "              metrics=['accuracy'])\n",
    "\n",
    "\n",
    "LSTM_history = LSTM_model.fit(partial_x_train,\n",
    "                    partial_y_train,\n",
    "                    epochs=10,\n",
    "                    batch_size=15,\n",
    "                    validation_data=(x_val, y_val),\n",
    "                    verbose=1)"
   ]
  },
  {
   "cell_type": "code",
   "execution_count": 22,
   "id": "2edb9f5c",
   "metadata": {},
   "outputs": [
    {
     "name": "stdout",
     "output_type": "stream",
     "text": [
      "1537/1537 - 4s - loss: 0.7155 - accuracy: 0.8455\n",
      "[0.715498149394989, 0.8454543352127075]\n"
     ]
    }
   ],
   "source": [
    "results = LSTM_model.evaluate(X_test,  y_test, verbose=2)\n",
    "\n",
    "print(results)"
   ]
  },
  {
   "cell_type": "code",
   "execution_count": 23,
   "id": "a318c678",
   "metadata": {},
   "outputs": [
    {
     "name": "stdout",
     "output_type": "stream",
     "text": [
      "dict_keys(['loss', 'accuracy', 'val_loss', 'val_accuracy'])\n"
     ]
    }
   ],
   "source": [
    "LSTM_history_dict = LSTM_history.history\n",
    "print(LSTM_history_dict.keys())"
   ]
  },
  {
   "cell_type": "code",
   "execution_count": 24,
   "id": "9ed72127",
   "metadata": {},
   "outputs": [
    {
     "data": {
      "image/png": "[encoded data removed]",
      "text/plain": [
       "<Figure size 432x288 with 1 Axes>"
      ]
     },
     "metadata": {
      "needs_background": "light"
     },
     "output_type": "display_data"
    },
    {
     "data": {
      "image/png": "[encoded data removed]",
      "text/plain": [
       "<Figure size 432x288 with 1 Axes>"
      ]
     },
     "metadata": {
      "needs_background": "light"
     },
     "output_type": "display_data"
    }
   ],
   "source": [
    "acc = LSTM_history_dict['accuracy']\n",
    "val_acc = LSTM_history_dict['val_accuracy']\n",
    "loss = LSTM_history_dict['loss']\n",
    "val_loss = LSTM_history_dict['val_loss']\n",
    "\n",
    "epochs = range(1, len(acc) + 1)\n",
    "\n",
    "# \"bo\"는 \"파란색 점\"입니다\n",
    "plt.plot(epochs, loss, 'bo', label='Training loss')\n",
    "# b는 \"파란 실선\"입니다\n",
    "plt.plot(epochs, val_loss, 'b', label='Validation loss')\n",
    "plt.title('Training and validation loss')\n",
    "plt.xlabel('Epochs')\n",
    "plt.ylabel('Loss')\n",
    "plt.legend()\n",
    "\n",
    "plt.show()\n",
    "\n",
    "\n",
    "plt.clf()   # 그림을 초기화합니다\n",
    "\n",
    "plt.plot(epochs, acc, 'bo', label='Training acc')\n",
    "plt.plot(epochs, val_acc, 'b', label='Validation acc')\n",
    "plt.title('Training and validation accuracy')\n",
    "plt.xlabel('Epochs')\n",
    "plt.ylabel('Accuracy')\n",
    "plt.legend()\n",
    "\n",
    "plt.show()"
   ]
  },
  {
   "cell_type": "markdown",
   "id": "fb5871ae",
   "metadata": {},
   "source": [
    "## 5. Model Embeding Layer"
   ]
  },
  {
   "cell_type": "markdown",
   "id": "674524e9",
   "metadata": {},
   "source": [
    "### 5-1. GMP Embeding Layer"
   ]
  },
  {
   "cell_type": "code",
   "execution_count": 25,
   "id": "dbd84383",
   "metadata": {},
   "outputs": [
    {
     "data": {
      "text/plain": [
       "array([-0.263909  , -0.07179452,  0.01076479, -0.2979549 , -0.19863583,\n",
       "       -0.7938351 , -0.402496  , -0.10836612,  0.10747761, -0.07581551,\n",
       "       -0.06577241, -0.72911006, -0.11974704,  0.03897558, -0.2685276 ,\n",
       "       -0.2915965 ,  0.40105563,  0.3168754 , -0.23681864,  0.34005675,\n",
       "        0.00625468, -0.40031624, -0.07394085,  0.38268948, -0.14381437,\n",
       "       -0.38845935, -0.210257  , -0.06894301, -0.00989592,  0.38692203,\n",
       "       -0.33437183, -0.33918685,  0.07835234, -0.31993714,  0.00321553,\n",
       "        0.02924945, -0.15119767, -0.09862905, -0.17295489,  0.09116422,\n",
       "        0.0154097 ,  0.01210982,  0.5484016 , -0.07441784, -0.19516027,\n",
       "       -0.4024645 ,  0.02621701, -0.3569073 , -0.36968392,  0.29329753,\n",
       "       -0.08907441, -0.31757548, -0.28604785, -0.08522928, -0.14075913,\n",
       "        0.02952431, -0.14321433, -0.2968629 , -0.00847918, -0.3081112 ,\n",
       "        0.18349966, -0.5827539 , -0.52432287, -0.22656074], dtype=float32)"
      ]
     },
     "execution_count": 25,
     "metadata": {},
     "output_type": "execute_result"
    }
   ],
   "source": [
    "embedding_layer = GMP_model.layers[0]\n",
    "weights = embedding_layer.get_weights()[0]\n",
    "vocab_size, word_vector_dim = weights.shape[0], weights.shape[1]\n",
    "\n",
    "word2vec_file_path = os.getenv('HOME')+'/aiffel/sentiment_classification/GMPword2vec.txt'\n",
    "f = open(word2vec_file_path, 'w')\n",
    "f.write('{} {}\\n'.format(vocab_size-4, word_vector_dim))\n",
    "\n",
    "vectors = GMP_model.get_weights()[0]\n",
    "for i in range(4,vocab_size):\n",
    "    f.write('{} {}\\n'.format(index_to_word[i], ' '.join(map(str, list(vectors[i, :])))))\n",
    "f.close()\n",
    "\n",
    "word_vectors = Word2VecKeyedVectors.load_word2vec_format(word2vec_file_path, binary=False)\n",
    "vector = word_vectors['컴퓨터']\n",
    "vector"
   ]
  },
  {
   "cell_type": "code",
   "execution_count": 26,
   "id": "f2a3dbac",
   "metadata": {},
   "outputs": [
    {
     "data": {
      "text/plain": [
       "[('무지', 0.8614296913146973),\n",
       " ('제대로', 0.823021650314331),\n",
       " ('손예진', 0.8228848576545715),\n",
       " ('가장', 0.8219496607780457),\n",
       " ('애니메이션', 0.8152667284011841),\n",
       " ('항', 0.8149174451828003),\n",
       " ('T', 0.8063861131668091),\n",
       " ('구', 0.8057791590690613),\n",
       " ('김혜수', 0.8038126230239868),\n",
       " ('지나', 0.8028079271316528)]"
      ]
     },
     "execution_count": 26,
     "metadata": {},
     "output_type": "execute_result"
    }
   ],
   "source": [
    "word_vectors.similar_by_word(\"로맨스\")"
   ]
  },
  {
   "cell_type": "code",
   "execution_count": 27,
   "id": "35f584a0",
   "metadata": {},
   "outputs": [
    {
     "data": {
      "text/plain": [
       "[('ㅠㅜ', 0.6947008371353149),\n",
       " ('~~~!!!', 0.693863034248352),\n",
       " ('미남', 0.6629481911659241),\n",
       " ('숨소리', 0.6611161231994629),\n",
       " ('^^*', 0.6502512693405151),\n",
       " ('그걸로', 0.6334148645401001),\n",
       " ('ㅠㅠㅠㅠㅠㅠ', 0.6322643160820007),\n",
       " ('-)', 0.6311658620834351),\n",
       " ('들어도', 0.6309466361999512),\n",
       " ('동방', 0.6248376965522766)]"
      ]
     },
     "execution_count": 27,
     "metadata": {},
     "output_type": "execute_result"
    }
   ],
   "source": [
    "word_vectors.similar_by_word(\"웅장\")"
   ]
  },
  {
   "cell_type": "markdown",
   "id": "cf4f6586",
   "metadata": {},
   "source": [
    "### 5-2. 1-D Convolution Neural Network(1-D CNN) Embeding Layer"
   ]
  },
  {
   "cell_type": "code",
   "execution_count": 28,
   "id": "3a3059c6",
   "metadata": {},
   "outputs": [
    {
     "data": {
      "text/plain": [
       "array([ 0.05323403, -0.50206196, -0.00343801,  0.03519301,  0.398647  ,\n",
       "        0.01390853,  0.2360691 , -0.14744359, -0.44722348, -0.00327308,\n",
       "       -0.37682763,  0.16477612, -0.02899205,  0.2261435 , -0.00763206,\n",
       "        0.26468602], dtype=float32)"
      ]
     },
     "execution_count": 28,
     "metadata": {},
     "output_type": "execute_result"
    }
   ],
   "source": [
    "embedding_layer = CNN_model.layers[0]\n",
    "weights = embedding_layer.get_weights()[0]\n",
    "vocab_size, word_vector_dim = weights.shape[0], weights.shape[1]\n",
    "\n",
    "word2vec_file_path = os.getenv('HOME')+'/aiffel/sentiment_classification/CNNword2vec.txt'\n",
    "f = open(word2vec_file_path, 'w')\n",
    "f.write('{} {}\\n'.format(vocab_size-4, word_vector_dim))\n",
    "\n",
    "vectors = CNN_model.get_weights()[0]\n",
    "for i in range(4,vocab_size):\n",
    "    f.write('{} {}\\n'.format(index_to_word[i], ' '.join(map(str, list(vectors[i, :])))))\n",
    "f.close()\n",
    "\n",
    "word_vectors = Word2VecKeyedVectors.load_word2vec_format(word2vec_file_path, binary=False)\n",
    "vector = word_vectors['컴퓨터']\n",
    "vector"
   ]
  },
  {
   "cell_type": "code",
   "execution_count": 29,
   "id": "e59a8e1d",
   "metadata": {},
   "outputs": [
    {
     "data": {
      "text/plain": [
       "[('남녀', 0.8434394598007202),\n",
       " ('흘려', 0.8324430584907532),\n",
       " ('덤', 0.8304213285446167),\n",
       " ('스러움', 0.819277822971344),\n",
       " ('트릭', 0.8161237835884094),\n",
       " ('땅', 0.8144189119338989),\n",
       " ('85', 0.8133703470230103),\n",
       " ('구요', 0.8107796907424927),\n",
       " ('했어요', 0.8094900846481323),\n",
       " ('큽니다', 0.8044037818908691)]"
      ]
     },
     "execution_count": 29,
     "metadata": {},
     "output_type": "execute_result"
    }
   ],
   "source": [
    "word_vectors.similar_by_word(\"로맨스\")"
   ]
  },
  {
   "cell_type": "code",
   "execution_count": 30,
   "id": "d48e8197",
   "metadata": {},
   "outputs": [
    {
     "data": {
      "text/plain": [
       "[('기타노', 0.960159957408905),\n",
       " ('두고두고', 0.9457173347473145),\n",
       " ('화해', 0.943234920501709),\n",
       " ('서편제', 0.936833381652832),\n",
       " ('고조', 0.9225594997406006),\n",
       " ('수능', 0.9177306890487671),\n",
       " ('기막힌', 0.9091829657554626),\n",
       " ('전쟁터', 0.9090713262557983),\n",
       " ('놀라웠', 0.9085719585418701),\n",
       " ('이편', 0.9072648286819458)]"
      ]
     },
     "execution_count": 30,
     "metadata": {},
     "output_type": "execute_result"
    }
   ],
   "source": [
    "word_vectors.similar_by_word(\"웅장\")"
   ]
  },
  {
   "cell_type": "markdown",
   "id": "5e059407",
   "metadata": {},
   "source": [
    "### 5-3. LSTM Embeding Layer "
   ]
  },
  {
   "cell_type": "code",
   "execution_count": 31,
   "id": "e3033d04",
   "metadata": {},
   "outputs": [
    {
     "data": {
      "text/plain": [
       "array([-0.25258306, -0.3718354 ,  0.25200456, -0.21803643, -0.06790319,\n",
       "       -0.1920804 ,  0.24799412,  0.05645293, -0.1687148 ,  0.17752744,\n",
       "       -0.23201254, -0.00628985,  0.15266062, -0.03589423,  0.07201884,\n",
       "       -0.2799823 ,  0.28123993, -0.4233578 , -0.17551407, -0.00760167,\n",
       "       -0.005877  , -0.20859899, -0.19128346, -0.05787129,  0.07003045,\n",
       "        0.21686797,  0.16164604,  0.18491432, -0.2027307 ,  0.11217866,\n",
       "        0.2013765 , -0.10161617, -0.22751999, -0.06827288,  0.05738201,\n",
       "        0.16062859, -0.4332063 , -0.1494697 ,  0.11712965,  0.02449181,\n",
       "       -0.31302896,  0.06921658, -0.09484756,  0.03005462,  0.12519528,\n",
       "       -0.2948246 ,  0.25844404, -0.0666163 , -0.09002657,  0.09750071,\n",
       "       -0.5611412 ,  0.2178916 , -0.00812568, -0.46449205, -0.07571104,\n",
       "        0.02958357,  0.06721988, -0.35671425,  0.14947805, -0.14691298,\n",
       "        0.1694215 , -0.04638088, -0.22941178,  0.02428637,  0.08717655,\n",
       "        0.03057555,  0.15369388,  0.14802963, -0.04004068, -0.23785347,\n",
       "        0.06782401, -0.14621156, -0.12327852, -0.12247254, -0.10821527,\n",
       "       -0.21779321,  0.06061273,  0.09082843, -0.00472603,  0.10936696,\n",
       "        0.34709343, -0.04240709, -0.18707268,  0.33867535, -0.5505347 ,\n",
       "       -0.31185588,  0.35651708, -0.33606124, -0.3122606 ,  0.03523975,\n",
       "        0.2672651 , -0.15006909,  0.26051885,  0.08061398, -0.16443624,\n",
       "        0.03885151, -0.00672139,  0.03959513, -0.0283406 ,  0.00831682,\n",
       "       -0.10858119,  0.39996892, -0.01094793, -0.22383498,  0.32028475,\n",
       "       -0.03878363,  0.05384085, -0.16036972,  0.01167799,  0.31703573,\n",
       "       -0.16766877, -0.35143414,  0.15913145, -0.14315568, -0.13153613,\n",
       "        0.11023149,  0.02883798, -0.13464193, -0.29600692,  0.01253752,\n",
       "        0.18192074, -0.23832224, -0.0517288 , -0.23499776, -0.19129531,\n",
       "       -0.14765063,  0.1227918 ,  0.43575168], dtype=float32)"
      ]
     },
     "execution_count": 31,
     "metadata": {},
     "output_type": "execute_result"
    }
   ],
   "source": [
    "embedding_layer = LSTM_model.layers[0]\n",
    "weights = embedding_layer.get_weights()[0]\n",
    "vocab_size, word_vector_dim = weights.shape[0], weights.shape[1]\n",
    "\n",
    "word2vec_file_path = os.getenv('HOME')+'/aiffel/sentiment_classification/LSTMword2vec.txt'\n",
    "f = open(word2vec_file_path, 'w')\n",
    "f.write('{} {}\\n'.format(vocab_size-4, word_vector_dim))\n",
    "\n",
    "vectors = LSTM_model.get_weights()[0]\n",
    "for i in range(4,vocab_size):\n",
    "    f.write('{} {}\\n'.format(index_to_word[i], ' '.join(map(str, list(vectors[i, :])))))\n",
    "f.close()\n",
    "\n",
    "word_vectors = Word2VecKeyedVectors.load_word2vec_format(word2vec_file_path, binary=False)\n",
    "vector = word_vectors['컴퓨터']\n",
    "vector"
   ]
  },
  {
   "cell_type": "code",
   "execution_count": 32,
   "id": "6420e674",
   "metadata": {},
   "outputs": [
    {
     "data": {
      "text/plain": [
       "[('개인', 0.6772579550743103),\n",
       " ('서사', 0.675258994102478),\n",
       " ('됨', 0.6288029551506042),\n",
       " ('댓', 0.6263906955718994),\n",
       " ('사극', 0.6188029050827026),\n",
       " ('끝판', 0.6116044521331787),\n",
       " ('낸다', 0.6085836887359619),\n",
       " ('수업', 0.6062968969345093),\n",
       " ('보냈', 0.6057153940200806),\n",
       " ('걸까요', 0.5954259634017944)]"
      ]
     },
     "execution_count": 32,
     "metadata": {},
     "output_type": "execute_result"
    }
   ],
   "source": [
    "word_vectors.similar_by_word(\"로맨스\")"
   ]
  },
  {
   "cell_type": "code",
   "execution_count": 33,
   "id": "b6234896",
   "metadata": {},
   "outputs": [
    {
     "data": {
      "text/plain": [
       "[('그리움', 0.8284088969230652),\n",
       " ('미소', 0.8263537883758545),\n",
       " ('탄탄', 0.8215636610984802),\n",
       " ('부패', 0.8038657903671265),\n",
       " ('색다르', 0.803693413734436),\n",
       " ('남다른', 0.78977370262146),\n",
       " ('서늘', 0.7842044830322266),\n",
       " ('독립', 0.7837396860122681),\n",
       " ('찰스', 0.7834223508834839),\n",
       " ('열혈', 0.7833724021911621)]"
      ]
     },
     "execution_count": 33,
     "metadata": {},
     "output_type": "execute_result"
    }
   ],
   "source": [
    "word_vectors.similar_by_word(\"웅장\")"
   ]
  },
  {
   "cell_type": "markdown",
   "id": "3ecc2d7f",
   "metadata": {},
   "source": [
    "## 6. 한국어 Word2Vec"
   ]
  },
  {
   "cell_type": "code",
   "execution_count": 35,
   "id": "14038271",
   "metadata": {
    "scrolled": true
   },
   "outputs": [
    {
     "name": "stderr",
     "output_type": "stream",
     "text": [
      "/tmp/ipykernel_2325/928192041.py:3: DeprecationWarning: Call to deprecated `__getitem__` (Method will be removed in 4.0.0, use self.wv.__getitem__() instead).\n",
      "  vector = word2vec['컴퓨터']\n"
     ]
    },
    {
     "data": {
      "text/plain": [
       "array([-1.517628  , -0.8935504 , -1.4352998 ,  1.5069847 , -1.5178334 ,\n",
       "        1.1542678 , -2.94064   ,  1.1850045 ,  0.19959009, -1.5288961 ,\n",
       "       -1.7067502 , -2.1892095 , -0.20728938, -2.2606812 , -2.2283888 ,\n",
       "        0.32318738, -0.2845471 , -0.07731772, -0.86269003, -1.1722927 ,\n",
       "       -0.91062415,  0.8440715 ,  0.903278  , -0.84685427,  0.7023384 ,\n",
       "       -2.1920419 , -0.47571626, -0.60159504, -0.68860835,  0.18944737,\n",
       "        0.5319404 ,  0.73058116, -0.9658133 , -1.0123725 , -0.36183038,\n",
       "        2.5851305 ,  0.66589296, -1.7231252 ,  1.7576753 ,  0.88845277,\n",
       "        1.5791365 , -4.430691  ,  0.36731872,  0.69481534, -0.46041563,\n",
       "        1.742655  , -1.5077016 ,  0.72209424, -0.04532204, -0.6557301 ,\n",
       "       -0.71276623,  0.26522732, -0.17656395, -2.4720876 , -0.845565  ,\n",
       "        0.23591152,  1.3414925 ,  0.77577615, -2.289371  , -0.8078124 ,\n",
       "        1.4359473 ,  0.22882733, -1.08867   ,  1.2607764 , -1.7469797 ,\n",
       "        0.06542054,  0.39896825, -0.3160832 , -1.7257563 ,  0.54638785,\n",
       "       -0.31753907, -0.48656994, -0.8225613 , -0.573065  ,  0.13175343,\n",
       "       -0.3924169 ,  0.55588305, -1.0773534 ,  0.55159163,  0.1352609 ,\n",
       "        0.88245326, -1.0127378 ,  0.14704451, -0.5254349 , -3.401769  ,\n",
       "       -0.42525592,  2.0031376 ,  0.36679608, -1.0043006 ,  1.3084906 ,\n",
       "        0.66252464, -0.48564675,  1.1390634 , -0.61399025, -0.50669813,\n",
       "        2.984564  ,  1.126494  ,  0.68590933, -0.2439008 , -1.317931  ,\n",
       "        0.826134  , -0.3985872 ,  0.509279  , -2.7423162 ,  2.1723568 ,\n",
       "        0.02191449, -0.16062206, -0.14502135, -0.32332814, -1.7890338 ,\n",
       "        1.8245052 , -1.3794106 ,  0.4879299 , -1.4982558 , -1.2389678 ,\n",
       "        1.1795257 , -1.54579   ,  0.07694028,  0.44653377,  0.27894926,\n",
       "       -1.9621123 ,  0.6149733 , -0.41162157, -1.0487087 , -1.7935017 ,\n",
       "        0.31845954,  0.14684801, -0.49587062,  1.6319822 ,  0.39944446,\n",
       "        0.434382  , -1.1794649 , -2.5206347 ,  0.6408292 , -0.62896025,\n",
       "        1.9872422 ,  1.2521076 , -0.21406372,  1.6773093 , -1.6608806 ,\n",
       "       -0.33801398, -0.88510543,  0.1943094 , -1.7670768 , -0.39440864,\n",
       "        1.5270631 , -1.1952105 , -0.60033166,  1.0510954 , -1.4626403 ,\n",
       "       -1.517039  ,  0.59476143,  0.36977595, -1.4121546 , -0.21997249,\n",
       "       -1.0658429 , -0.17150132,  0.8064618 ,  0.5093993 , -0.74832773,\n",
       "        1.2333933 , -1.9864655 , -0.8474578 , -1.1405545 , -3.6550071 ,\n",
       "       -1.556984  ,  1.8270527 ,  1.3725282 , -1.2329742 , -0.09723412,\n",
       "        0.34405386,  0.11565362, -0.9567215 ,  1.4773479 ,  2.169166  ,\n",
       "       -0.26613593, -1.4810696 ,  3.1457973 , -0.4415616 , -1.1940637 ,\n",
       "       -0.09637992, -0.05768079,  0.6716703 , -0.21914895,  0.56199044,\n",
       "       -1.129858  , -0.7972026 ,  0.73576796,  0.22356483,  0.9140782 ,\n",
       "       -1.4168789 ,  0.15810002, -0.79947495, -1.0691265 ,  1.4587201 ,\n",
       "       -0.5216996 ,  1.1812991 ,  0.37763026,  1.3513768 , -0.4241938 ],\n",
       "      dtype=float32)"
      ]
     },
     "execution_count": 35,
     "metadata": {},
     "output_type": "execute_result"
    }
   ],
   "source": [
    "word2vec_path = os.getenv('HOME')+'/aiffel/sentiment_classification/ko.bin'\n",
    "word2vec = gensim.models.Word2Vec.load(word2vec_path)\n",
    "vector = word2vec['컴퓨터']\n",
    "vector     # 무려 300dim의 워드 벡터입니다."
   ]
  },
  {
   "cell_type": "code",
   "execution_count": 36,
   "id": "7c3a5092",
   "metadata": {},
   "outputs": [
    {
     "data": {
      "text/plain": [
       "[('개인', 0.6772579550743103),\n",
       " ('서사', 0.675258994102478),\n",
       " ('됨', 0.6288029551506042),\n",
       " ('댓', 0.6263906955718994),\n",
       " ('사극', 0.6188029050827026),\n",
       " ('끝판', 0.6116044521331787),\n",
       " ('낸다', 0.6085836887359619),\n",
       " ('수업', 0.6062968969345093),\n",
       " ('보냈', 0.6057153940200806),\n",
       " ('걸까요', 0.5954259634017944)]"
      ]
     },
     "execution_count": 36,
     "metadata": {},
     "output_type": "execute_result"
    }
   ],
   "source": [
    "word_vectors.similar_by_word(\"로맨스\")"
   ]
  },
  {
   "cell_type": "code",
   "execution_count": 37,
   "id": "1c211542",
   "metadata": {},
   "outputs": [
    {
     "data": {
      "text/plain": [
       "[('그리움', 0.8284088969230652),\n",
       " ('미소', 0.8263537883758545),\n",
       " ('탄탄', 0.8215636610984802),\n",
       " ('부패', 0.8038657903671265),\n",
       " ('색다르', 0.803693413734436),\n",
       " ('남다른', 0.78977370262146),\n",
       " ('서늘', 0.7842044830322266),\n",
       " ('독립', 0.7837396860122681),\n",
       " ('찰스', 0.7834223508834839),\n",
       " ('열혈', 0.7833724021911621)]"
      ]
     },
     "execution_count": 37,
     "metadata": {},
     "output_type": "execute_result"
    }
   ],
   "source": [
    "word_vectors.similar_by_word(\"웅장\")"
   ]
  },
  {
   "cell_type": "code",
   "execution_count": 38,
   "id": "06bd9bc0",
   "metadata": {},
   "outputs": [
    {
     "name": "stderr",
     "output_type": "stream",
     "text": [
      "/tmp/ipykernel_2325/903563256.py:8: DeprecationWarning: Call to deprecated `__contains__` (Method will be removed in 4.0.0, use self.wv.__contains__() instead).\n",
      "  if index_to_word[i] in word2vec:\n",
      "/tmp/ipykernel_2325/903563256.py:9: DeprecationWarning: Call to deprecated `__getitem__` (Method will be removed in 4.0.0, use self.wv.__getitem__() instead).\n",
      "  embedding_matrix[i] = word2vec[index_to_word[i]]\n"
     ]
    }
   ],
   "source": [
    "# model에 사용할 embedding layer 만들기\n",
    "vocab_size = 10000\n",
    "word_vector_dim = 200\n",
    "\n",
    "embedding_matrix = np.random.rand(vocab_size, word_vector_dim)\n",
    "\n",
    "for i in range(4,vocab_size):\n",
    "    if index_to_word[i] in word2vec:\n",
    "        embedding_matrix[i] = word2vec[index_to_word[i]]"
   ]
  },
  {
   "cell_type": "markdown",
   "id": "357ae9e5",
   "metadata": {},
   "source": [
    "### 6-1 GMP"
   ]
  },
  {
   "cell_type": "code",
   "execution_count": 39,
   "id": "11c99fdb",
   "metadata": {
    "scrolled": true
   },
   "outputs": [
    {
     "name": "stdout",
     "output_type": "stream",
     "text": [
      "Model: \"sequential_3\"\n",
      "_________________________________________________________________\n",
      "Layer (type)                 Output Shape              Param #   \n",
      "=================================================================\n",
      "embedding_3 (Embedding)      (None, None, 64)          640000    \n",
      "_________________________________________________________________\n",
      "global_max_pooling1d_2 (Glob (None, 64)                0         \n",
      "_________________________________________________________________\n",
      "dense_5 (Dense)              (None, 8)                 520       \n",
      "_________________________________________________________________\n",
      "dense_6 (Dense)              (None, 1)                 9         \n",
      "=================================================================\n",
      "Total params: 640,529\n",
      "Trainable params: 640,529\n",
      "Non-trainable params: 0\n",
      "_________________________________________________________________\n"
     ]
    }
   ],
   "source": [
    "vocab_size = 10000\n",
    "word_vector_dim = 64\n",
    "\n",
    "GMP_model = keras.Sequential()\n",
    "GMP_model.add(keras.layers.Embedding(vocab_size, word_vector_dim, input_shape=(None,)))\n",
    "GMP_model.add(keras.layers.GlobalMaxPooling1D())\n",
    "GMP_model.add(keras.layers.Dense(8, activation='gelu'))\n",
    "GMP_model.add(keras.layers.Dense(1, activation='sigmoid'))\n",
    "        \n",
    "\n",
    "GMP_model.summary()"
   ]
  },
  {
   "cell_type": "code",
   "execution_count": 40,
   "id": "1ee87192",
   "metadata": {
    "scrolled": true
   },
   "outputs": [
    {
     "name": "stdout",
     "output_type": "stream",
     "text": [
      "Epoch 1/10\n",
      "10964/10964 [==============================] - 40s 4ms/step - loss: 0.3843 - accuracy: 0.8257 - val_loss: 0.3463 - val_accuracy: 0.8476\n",
      "Epoch 2/10\n",
      "10964/10964 [==============================] - 39s 4ms/step - loss: 0.3090 - accuracy: 0.8691 - val_loss: 0.3429 - val_accuracy: 0.8535\n",
      "Epoch 3/10\n",
      "10964/10964 [==============================] - 39s 4ms/step - loss: 0.2748 - accuracy: 0.8865 - val_loss: 0.3556 - val_accuracy: 0.8511\n",
      "Epoch 4/10\n",
      "10964/10964 [==============================] - 39s 4ms/step - loss: 0.2493 - accuracy: 0.8977 - val_loss: 0.3504 - val_accuracy: 0.8528\n",
      "Epoch 5/10\n",
      "10964/10964 [==============================] - 39s 4ms/step - loss: 0.2279 - accuracy: 0.9090 - val_loss: 0.3677 - val_accuracy: 0.8489\n",
      "Epoch 6/10\n",
      "10964/10964 [==============================] - 39s 4ms/step - loss: 0.2097 - accuracy: 0.9169 - val_loss: 0.3755 - val_accuracy: 0.8486\n",
      "Epoch 7/10\n",
      "10964/10964 [==============================] - 39s 4ms/step - loss: 0.1942 - accuracy: 0.9242 - val_loss: 0.3877 - val_accuracy: 0.8454\n",
      "Epoch 8/10\n",
      "10964/10964 [==============================] - 39s 4ms/step - loss: 0.1801 - accuracy: 0.9299 - val_loss: 0.4164 - val_accuracy: 0.8442\n",
      "Epoch 9/10\n",
      "10964/10964 [==============================] - 39s 4ms/step - loss: 0.1681 - accuracy: 0.9362 - val_loss: 0.4303 - val_accuracy: 0.8439\n",
      "Epoch 10/10\n",
      "10964/10964 [==============================] - 39s 4ms/step - loss: 0.1568 - accuracy: 0.9406 - val_loss: 0.4378 - val_accuracy: 0.8420\n"
     ]
    }
   ],
   "source": [
    "GMP_model.compile(optimizer='adam',\n",
    "              loss='binary_crossentropy',\n",
    "              metrics=['accuracy'])\n",
    "\n",
    "GMP_history = GMP_model.fit(partial_x_train,\n",
    "                    partial_y_train,\n",
    "                    epochs=10,\n",
    "                    batch_size=10,\n",
    "                    validation_data=(x_val, y_val),\n",
    "                    verbose=1)"
   ]
  },
  {
   "cell_type": "code",
   "execution_count": 41,
   "id": "9ae54887",
   "metadata": {},
   "outputs": [
    {
     "name": "stdout",
     "output_type": "stream",
     "text": [
      "1537/1537 - 2s - loss: 0.4441 - accuracy: 0.8404\n",
      "[0.4440546929836273, 0.8404092788696289]\n"
     ]
    }
   ],
   "source": [
    "results = GMP_model.evaluate(X_test,  y_test, verbose=2)\n",
    "\n",
    "print(results)"
   ]
  },
  {
   "cell_type": "code",
   "execution_count": 42,
   "id": "f251a117",
   "metadata": {},
   "outputs": [
    {
     "name": "stdout",
     "output_type": "stream",
     "text": [
      "dict_keys(['loss', 'accuracy', 'val_loss', 'val_accuracy'])\n"
     ]
    }
   ],
   "source": [
    "GMP_history_dict = GMP_history.history\n",
    "print(GMP_history_dict.keys())"
   ]
  },
  {
   "cell_type": "code",
   "execution_count": 43,
   "id": "374f3b7d",
   "metadata": {},
   "outputs": [
    {
     "data": {
      "image/png": "[encoded data removed]",
      "text/plain": [
       "<Figure size 432x288 with 1 Axes>"
      ]
     },
     "metadata": {
      "needs_background": "light"
     },
     "output_type": "display_data"
    },
    {
     "data": {
      "image/png": "[encoded data removed]",
      "text/plain": [
       "<Figure size 432x288 with 1 Axes>"
      ]
     },
     "metadata": {
      "needs_background": "light"
     },
     "output_type": "display_data"
    }
   ],
   "source": [
    "acc = GMP_history_dict['accuracy']\n",
    "val_acc = GMP_history_dict['val_accuracy']\n",
    "loss = GMP_history_dict['loss']\n",
    "val_loss = GMP_history_dict['val_loss']\n",
    "\n",
    "epochs = range(1, len(acc) + 1)\n",
    "\n",
    "# \"bo\"는 \"파란색 점\"입니다\n",
    "plt.plot(epochs, loss, 'bo', label='Training loss')\n",
    "# b는 \"파란 실선\"입니다\n",
    "plt.plot(epochs, val_loss, 'b', label='Validation loss')\n",
    "plt.title('Training and validation loss')\n",
    "plt.xlabel('Epochs')\n",
    "plt.ylabel('Loss')\n",
    "plt.legend()\n",
    "\n",
    "plt.show()\n",
    "\n",
    "\n",
    "plt.clf()   # 그림을 초기화합니다\n",
    "\n",
    "plt.plot(epochs, acc, 'bo', label='Training acc')\n",
    "plt.plot(epochs, val_acc, 'b', label='Validation acc')\n",
    "plt.title('Training and validation accuracy')\n",
    "plt.xlabel('Epochs')\n",
    "plt.ylabel('Accuracy')\n",
    "plt.legend()\n",
    "\n",
    "plt.show()"
   ]
  },
  {
   "cell_type": "markdown",
   "id": "e862b5ea",
   "metadata": {},
   "source": [
    "### 6-2. 1-D Convolution Neural Network(1-D CNN)"
   ]
  },
  {
   "cell_type": "code",
   "execution_count": 44,
   "id": "2e78e05c",
   "metadata": {},
   "outputs": [
    {
     "name": "stdout",
     "output_type": "stream",
     "text": [
      "Model: \"sequential_4\"\n",
      "_________________________________________________________________\n",
      "Layer (type)                 Output Shape              Param #   \n",
      "=================================================================\n",
      "embedding_4 (Embedding)      (None, None, 16)          160000    \n",
      "_________________________________________________________________\n",
      "conv1d_2 (Conv1D)            (None, None, 16)          1808      \n",
      "_________________________________________________________________\n",
      "max_pooling1d_1 (MaxPooling1 (None, None, 16)          0         \n",
      "_________________________________________________________________\n",
      "conv1d_3 (Conv1D)            (None, None, 16)          1808      \n",
      "_________________________________________________________________\n",
      "global_max_pooling1d_3 (Glob (None, 16)                0         \n",
      "_________________________________________________________________\n",
      "dense_7 (Dense)              (None, 8)                 136       \n",
      "_________________________________________________________________\n",
      "dense_8 (Dense)              (None, 1)                 9         \n",
      "=================================================================\n",
      "Total params: 163,761\n",
      "Trainable params: 163,761\n",
      "Non-trainable params: 0\n",
      "_________________________________________________________________\n"
     ]
    }
   ],
   "source": [
    "vocab_size = 10000    # 어휘 사전의 크기입니다(10,000개의 단어)\n",
    "word_vector_dim = 16  # 워드 벡터의 차원수 (변경가능한 하이퍼파라미터)\n",
    "\n",
    "CNN_model = keras.Sequential()\n",
    "CNN_model.add(keras.layers.Embedding(vocab_size, word_vector_dim, input_shape=(None,)))\n",
    "CNN_model.add(keras.layers.Conv1D(16, 7, activation='gelu'))\n",
    "CNN_model.add(keras.layers.MaxPooling1D(5))\n",
    "CNN_model.add(keras.layers.Conv1D(16, 7, activation='gelu'))\n",
    "CNN_model.add(keras.layers.GlobalMaxPooling1D())\n",
    "CNN_model.add(keras.layers.Dense(8, activation='gelu'))\n",
    "CNN_model.add(keras.layers.Dense(1, activation='sigmoid'))  # 최종 출력은 긍정/부정을 나타내는 1dim 입니다.\n",
    "\n",
    "CNN_model.summary()"
   ]
  },
  {
   "cell_type": "code",
   "execution_count": 45,
   "id": "e542a035",
   "metadata": {},
   "outputs": [
    {
     "name": "stdout",
     "output_type": "stream",
     "text": [
      "Epoch 1/10\n",
      "10964/10964 [==============================] - 55s 5ms/step - loss: 0.3748 - accuracy: 0.8280 - val_loss: 0.3298 - val_accuracy: 0.8577\n",
      "Epoch 2/10\n",
      "10964/10964 [==============================] - 54s 5ms/step - loss: 0.2862 - accuracy: 0.8805 - val_loss: 0.3204 - val_accuracy: 0.8622\n",
      "Epoch 3/10\n",
      "10964/10964 [==============================] - 54s 5ms/step - loss: 0.2360 - accuracy: 0.9043 - val_loss: 0.3358 - val_accuracy: 0.8606\n",
      "Epoch 4/10\n",
      "10964/10964 [==============================] - 54s 5ms/step - loss: 0.1924 - accuracy: 0.9248 - val_loss: 0.3635 - val_accuracy: 0.8560\n",
      "Epoch 5/10\n",
      "10964/10964 [==============================] - 54s 5ms/step - loss: 0.1557 - accuracy: 0.9417 - val_loss: 0.4081 - val_accuracy: 0.8493\n",
      "Epoch 6/10\n",
      "10964/10964 [==============================] - 54s 5ms/step - loss: 0.1294 - accuracy: 0.9516 - val_loss: 0.4546 - val_accuracy: 0.8394\n",
      "Epoch 7/10\n",
      "10964/10964 [==============================] - 54s 5ms/step - loss: 0.1089 - accuracy: 0.9602 - val_loss: 0.4936 - val_accuracy: 0.8427\n",
      "Epoch 8/10\n",
      "10964/10964 [==============================] - 53s 5ms/step - loss: 0.0941 - accuracy: 0.9653 - val_loss: 0.5646 - val_accuracy: 0.8396\n",
      "Epoch 9/10\n",
      "10964/10964 [==============================] - 54s 5ms/step - loss: 0.0815 - accuracy: 0.9704 - val_loss: 0.6280 - val_accuracy: 0.8365\n",
      "Epoch 10/10\n",
      "10964/10964 [==============================] - 53s 5ms/step - loss: 0.0736 - accuracy: 0.9730 - val_loss: 0.7105 - val_accuracy: 0.8331\n"
     ]
    }
   ],
   "source": [
    "CNN_model.compile(optimizer='adam',\n",
    "              loss='binary_crossentropy',\n",
    "              metrics=['accuracy'])\n",
    "\n",
    "\n",
    "CNN_history = CNN_model.fit(partial_x_train,\n",
    "                    partial_y_train,\n",
    "                    epochs=10,\n",
    "                    batch_size=10,\n",
    "                    validation_data=(x_val, y_val),\n",
    "                    verbose=1)"
   ]
  },
  {
   "cell_type": "code",
   "execution_count": 46,
   "id": "c809eb2a",
   "metadata": {},
   "outputs": [
    {
     "name": "stdout",
     "output_type": "stream",
     "text": [
      "1537/1537 - 3s - loss: 0.7293 - accuracy: 0.8275\n",
      "[0.7292622923851013, 0.8274508118629456]\n"
     ]
    }
   ],
   "source": [
    "results = CNN_model.evaluate(X_test,  y_test, verbose=2)\n",
    "\n",
    "print(results)"
   ]
  },
  {
   "cell_type": "code",
   "execution_count": 47,
   "id": "1fb7ae30",
   "metadata": {},
   "outputs": [
    {
     "name": "stdout",
     "output_type": "stream",
     "text": [
      "dict_keys(['loss', 'accuracy', 'val_loss', 'val_accuracy'])\n"
     ]
    }
   ],
   "source": [
    "CNN_history_dict = CNN_history.history\n",
    "print(CNN_history_dict.keys())"
   ]
  },
  {
   "cell_type": "code",
   "execution_count": 48,
   "id": "5c78eea8",
   "metadata": {},
   "outputs": [
    {
     "data": {
      "image/png": "[encoded data removed]",
      "text/plain": [
       "<Figure size 432x288 with 1 Axes>"
      ]
     },
     "metadata": {
      "needs_background": "light"
     },
     "output_type": "display_data"
    },
    {
     "data": {
      "image/png": "[encoded data removed]",
      "text/plain": [
       "<Figure size 432x288 with 1 Axes>"
      ]
     },
     "metadata": {
      "needs_background": "light"
     },
     "output_type": "display_data"
    }
   ],
   "source": [
    "acc = CNN_history_dict['accuracy']\n",
    "val_acc = CNN_history_dict['val_accuracy']\n",
    "loss = CNN_history_dict['loss']\n",
    "val_loss = CNN_history_dict['val_loss']\n",
    "\n",
    "epochs = range(1, len(acc) + 1)\n",
    "\n",
    "# \"bo\"는 \"파란색 점\"입니다\n",
    "plt.plot(epochs, loss, 'bo', label='Training loss')\n",
    "# b는 \"파란 실선\"입니다\n",
    "plt.plot(epochs, val_loss, 'b', label='Validation loss')\n",
    "plt.title('Training and validation loss')\n",
    "plt.xlabel('Epochs')\n",
    "plt.ylabel('Loss')\n",
    "plt.legend()\n",
    "\n",
    "plt.show()\n",
    "\n",
    "\n",
    "plt.clf()   # 그림을 초기화합니다\n",
    "\n",
    "plt.plot(epochs, acc, 'bo', label='Training acc')\n",
    "plt.plot(epochs, val_acc, 'b', label='Validation acc')\n",
    "plt.title('Training and validation accuracy')\n",
    "plt.xlabel('Epochs')\n",
    "plt.ylabel('Accuracy')\n",
    "plt.legend()\n",
    "\n",
    "plt.show()"
   ]
  },
  {
   "cell_type": "markdown",
   "id": "64cc7052",
   "metadata": {},
   "source": [
    "### 6-3. LSTM"
   ]
  },
  {
   "cell_type": "code",
   "execution_count": 49,
   "id": "f76cc7f6",
   "metadata": {},
   "outputs": [
    {
     "name": "stdout",
     "output_type": "stream",
     "text": [
      "Model: \"sequential_5\"\n",
      "_________________________________________________________________\n",
      "Layer (type)                 Output Shape              Param #   \n",
      "=================================================================\n",
      "embedding_5 (Embedding)      (None, None, 128)         1280000   \n",
      "_________________________________________________________________\n",
      "lstm_1 (LSTM)                (None, 128)               131584    \n",
      "_________________________________________________________________\n",
      "dense_9 (Dense)              (None, 1)                 129       \n",
      "=================================================================\n",
      "Total params: 1,411,713\n",
      "Trainable params: 1,411,713\n",
      "Non-trainable params: 0\n",
      "_________________________________________________________________\n"
     ]
    }
   ],
   "source": [
    "vocab_size = 10000\n",
    "word_vector_dim = 128\n",
    "\n",
    "LSTM_model = keras.Sequential()\n",
    "LSTM_model.add(keras.layers.Embedding(vocab_size, word_vector_dim, input_shape=(None,)))\n",
    "LSTM_model.add(keras.layers.LSTM(128))\n",
    "LSTM_model.add(keras.layers.Dense(1, activation='sigmoid'))\n",
    "\n",
    "LSTM_model.summary()"
   ]
  },
  {
   "cell_type": "code",
   "execution_count": 50,
   "id": "cc95fac6",
   "metadata": {},
   "outputs": [
    {
     "name": "stdout",
     "output_type": "stream",
     "text": [
      "Epoch 1/10\n",
      "7310/7310 [==============================] - 43s 6ms/step - loss: 0.3677 - accuracy: 0.8357 - val_loss: 0.3266 - val_accuracy: 0.8583\n",
      "Epoch 2/10\n",
      "7310/7310 [==============================] - 42s 6ms/step - loss: 0.2809 - accuracy: 0.8814 - val_loss: 0.3198 - val_accuracy: 0.8658\n",
      "Epoch 3/10\n",
      "7310/7310 [==============================] - 42s 6ms/step - loss: 0.2345 - accuracy: 0.9032 - val_loss: 0.3146 - val_accuracy: 0.8686\n",
      "Epoch 4/10\n",
      "7310/7310 [==============================] - 42s 6ms/step - loss: 0.1917 - accuracy: 0.9241 - val_loss: 0.3465 - val_accuracy: 0.8643\n",
      "Epoch 5/10\n",
      "7310/7310 [==============================] - 41s 6ms/step - loss: 0.1510 - accuracy: 0.9405 - val_loss: 0.3880 - val_accuracy: 0.8597\n",
      "Epoch 6/10\n",
      "7310/7310 [==============================] - 41s 6ms/step - loss: 0.1150 - accuracy: 0.9558 - val_loss: 0.4369 - val_accuracy: 0.8545\n",
      "Epoch 7/10\n",
      "7310/7310 [==============================] - 41s 6ms/step - loss: 0.0858 - accuracy: 0.9677 - val_loss: 0.5302 - val_accuracy: 0.8491\n",
      "Epoch 8/10\n",
      "7310/7310 [==============================] - 41s 6ms/step - loss: 0.0665 - accuracy: 0.9753 - val_loss: 0.5839 - val_accuracy: 0.8479\n",
      "Epoch 9/10\n",
      "7310/7310 [==============================] - 41s 6ms/step - loss: 0.0495 - accuracy: 0.9815 - val_loss: 0.7054 - val_accuracy: 0.8480\n",
      "Epoch 10/10\n",
      "7310/7310 [==============================] - 42s 6ms/step - loss: 0.0396 - accuracy: 0.9852 - val_loss: 0.7663 - val_accuracy: 0.8453\n"
     ]
    }
   ],
   "source": [
    "LSTM_model.compile(optimizer='adam',\n",
    "              loss='binary_crossentropy',\n",
    "              metrics=['accuracy'])\n",
    "\n",
    "\n",
    "LSTM_history = LSTM_model.fit(partial_x_train,\n",
    "                    partial_y_train,\n",
    "                    epochs=10,\n",
    "                    batch_size=15,\n",
    "                    validation_data=(x_val, y_val),\n",
    "                    verbose=1)"
   ]
  },
  {
   "cell_type": "code",
   "execution_count": 51,
   "id": "a795642a",
   "metadata": {},
   "outputs": [
    {
     "name": "stdout",
     "output_type": "stream",
     "text": [
      "1537/1537 - 4s - loss: 0.7587 - accuracy: 0.8449\n",
      "[0.758712887763977, 0.8449254631996155]\n"
     ]
    }
   ],
   "source": [
    "results = LSTM_model.evaluate(X_test,  y_test, verbose=2)\n",
    "\n",
    "print(results)"
   ]
  },
  {
   "cell_type": "code",
   "execution_count": 52,
   "id": "d12e59b7",
   "metadata": {},
   "outputs": [
    {
     "name": "stdout",
     "output_type": "stream",
     "text": [
      "dict_keys(['loss', 'accuracy', 'val_loss', 'val_accuracy'])\n"
     ]
    }
   ],
   "source": [
    "LSTM_history_dict = LSTM_history.history\n",
    "print(LSTM_history_dict.keys())"
   ]
  },
  {
   "cell_type": "code",
   "execution_count": 53,
   "id": "c1b60817",
   "metadata": {},
   "outputs": [
    {
     "data": {
      "image/png": "[encoded data removed]",
      "text/plain": [
       "<Figure size 432x288 with 1 Axes>"
      ]
     },
     "metadata": {
      "needs_background": "light"
     },
     "output_type": "display_data"
    },
    {
     "data": {
      "image/png": "[encoded data removed]",
      "text/plain": [
       "<Figure size 432x288 with 1 Axes>"
      ]
     },
     "metadata": {
      "needs_background": "light"
     },
     "output_type": "display_data"
    }
   ],
   "source": [
    "acc = LSTM_history_dict['accuracy']\n",
    "val_acc = LSTM_history_dict['val_accuracy']\n",
    "loss = LSTM_history_dict['loss']\n",
    "val_loss = LSTM_history_dict['val_loss']\n",
    "\n",
    "epochs = range(1, len(acc) + 1)\n",
    "\n",
    "# \"bo\"는 \"파란색 점\"입니다\n",
    "plt.plot(epochs, loss, 'bo', label='Training loss')\n",
    "# b는 \"파란 실선\"입니다\n",
    "plt.plot(epochs, val_loss, 'b', label='Validation loss')\n",
    "plt.title('Training and validation loss')\n",
    "plt.xlabel('Epochs')\n",
    "plt.ylabel('Loss')\n",
    "plt.legend()\n",
    "\n",
    "plt.show()\n",
    "\n",
    "\n",
    "plt.clf()   # 그림을 초기화합니다\n",
    "\n",
    "plt.plot(epochs, acc, 'bo', label='Training acc')\n",
    "plt.plot(epochs, val_acc, 'b', label='Validation acc')\n",
    "plt.title('Training and validation accuracy')\n",
    "plt.xlabel('Epochs')\n",
    "plt.ylabel('Accuracy')\n",
    "plt.legend()\n",
    "\n",
    "plt.show()"
   ]
  },
  {
   "cell_type": "markdown",
   "id": "62886069",
   "metadata": {},
   "source": [
    "## 회고"
   ]
  },
  {
   "attachments": {
    "image.png": {
     "image/png": "[encoded data removed]"
    }
   },
   "cell_type": "markdown",
   "id": "b8d57a5a",
   "metadata": {},
   "source": [
    "1. NLP 오늘 설문조사에서 NLP를 선택했는데 NLP너무 어렵습니다.  \n",
    "후회 하고있어요.. 그래도 최근 NLP를 경험 하면서 토큰화 하는 부분에 대해서는 어느 정도 익숙해 진 것 같습니다.  \n",
    "그래도 앞으로의 익스를 통해 NLP 부분에서 다양한 경험을 했으면 좋겠습니다.  \n",
    "\n",
    "2. epoch, batch size\n",
    "배치 사이즈를 처음에는 2의 배수로 해야 한 다는 말을 들었는데 큰 의미는 없었던 것 같습니다. 또한 에포크를 늘리거나 줄이는 것 보다 중요한건 적정한 배치 사이즈를 찾는 것 같습니다.  \n",
    "\n",
    "3. gensim 버전\n",
    "처음 버전을 굳이 신경쓰지 않고 돌렸는데 오류 때문에 한참을 해매었고 버전을 조정하니 잘 되었습니다.  버전의 중요성을 다시금 알게 되었습니다.  \n",
    "\n",
    "\n",
    "4. 데이터 선택\n",
    "데이터는 많으면 많을 수록 좋다고 생각했습니다.  \n",
    "하지만 이번 데이터 'ko.bin' 파일을 선택하는 부분은 2가지가 있었습니다.  \n",
    "구글 드라이브와 드롭박스에서 선택 하는 것이였는데요  \n",
    "드롭박스는 1GB가 넘는 많은 데이터 였고 구글 드라이브 파일은 약 70MB 남짓이였습니다.  그래서 처음에는 드롭박스로 진행을 했었는데 ![image.png](attachment:image.png) 이러한 오류가 나왔습니다.  \n",
    "검색을 해도 나오지 않았고 코드를 수정해도 좋은 결과가 나오지 않았습니다.  \n",
    "결과적으로 문제는 단순 '파일'의 문제였습니다.  \n",
    "그렇기 때문에 이번 프로젝트에서 파일 즉 데이터의 중요성을 다시금 깨닫게 되었습니다."
   ]
  },
  {
   "cell_type": "code",
   "execution_count": null,
   "id": "faad83e4",
   "metadata": {},
   "outputs": [],
   "source": []
  }
 ],
 "metadata": {
  "kernelspec": {
   "display_name": "Python 3 (ipykernel)",
   "language": "python",
   "name": "python3"
  },
  "language_info": {
   "codemirror_mode": {
    "name": "ipython",
    "version": 3
   },
   "file_extension": ".py",
   "mimetype": "text/x-python",
   "name": "python",
   "nbconvert_exporter": "python",
   "pygments_lexer": "ipython3",
   "version": "3.9.7"
  }
 },
 "nbformat": 4,
 "nbformat_minor": 5
}
