{
 "cells": [
  {
   "cell_type": "markdown",
   "id": "4d3d399c",
   "metadata": {},
   "source": [
    "# 17. 다음에 볼 영화 예측하기 - Movielens 영화 SBR"
   ]
  },
  {
   "cell_type": "markdown",
   "id": "4292beab",
   "metadata": {},
   "source": [
    "## __0. IMPORT__"
   ]
  },
  {
   "cell_type": "code",
   "execution_count": 1,
   "id": "f5d58707",
   "metadata": {},
   "outputs": [],
   "source": [
    "import datetime as dt\n",
    "from pathlib import Path\n",
    "import os\n",
    "\n",
    "import numpy as np\n",
    "import pandas as pd\n",
    "import warnings\n",
    "warnings.filterwarnings('ignore')\n",
    "\n",
    "import matplotlib.pyplot as plt\n",
    "\n",
    "import tensorflow as tf\n",
    "from tensorflow.keras.layers import Input, Dense, Dropout, GRU\n",
    "from tensorflow.keras.losses import categorical_crossentropy\n",
    "from tensorflow.keras.models import Model\n",
    "from tensorflow.keras.optimizers import Adam\n",
    "from tensorflow.keras.utils import to_categorical\n",
    "from tqdm import tqdm\n",
    "from datetime import datetime"
   ]
  },
  {
   "cell_type": "markdown",
   "id": "b5fde787",
   "metadata": {},
   "source": [
    "## __1. DATA__"
   ]
  },
  {
   "cell_type": "markdown",
   "id": "022bc720",
   "metadata": {},
   "source": [
    "### __1. DATA Load__"
   ]
  },
  {
   "cell_type": "code",
   "execution_count": 2,
   "id": "dc6fb8a8",
   "metadata": {},
   "outputs": [
    {
     "data": {
      "text/html": [
       "<div>\n",
       "<style scoped>\n",
       "    .dataframe tbody tr th:only-of-type {\n",
       "        vertical-align: middle;\n",
       "    }\n",
       "\n",
       "    .dataframe tbody tr th {\n",
       "        vertical-align: top;\n",
       "    }\n",
       "\n",
       "    .dataframe thead th {\n",
       "        text-align: right;\n",
       "    }\n",
       "</style>\n",
       "<table border=\"1\" class=\"dataframe\">\n",
       "  <thead>\n",
       "    <tr style=\"text-align: right;\">\n",
       "      <th></th>\n",
       "      <th>UserId</th>\n",
       "      <th>ItemId</th>\n",
       "      <th>Rating</th>\n",
       "      <th>Time</th>\n",
       "    </tr>\n",
       "  </thead>\n",
       "  <tbody>\n",
       "    <tr>\n",
       "      <th>31</th>\n",
       "      <td>1</td>\n",
       "      <td>3186</td>\n",
       "      <td>4</td>\n",
       "      <td>978300019</td>\n",
       "    </tr>\n",
       "    <tr>\n",
       "      <th>22</th>\n",
       "      <td>1</td>\n",
       "      <td>1270</td>\n",
       "      <td>5</td>\n",
       "      <td>978300055</td>\n",
       "    </tr>\n",
       "    <tr>\n",
       "      <th>27</th>\n",
       "      <td>1</td>\n",
       "      <td>1721</td>\n",
       "      <td>4</td>\n",
       "      <td>978300055</td>\n",
       "    </tr>\n",
       "    <tr>\n",
       "      <th>37</th>\n",
       "      <td>1</td>\n",
       "      <td>1022</td>\n",
       "      <td>5</td>\n",
       "      <td>978300055</td>\n",
       "    </tr>\n",
       "    <tr>\n",
       "      <th>24</th>\n",
       "      <td>1</td>\n",
       "      <td>2340</td>\n",
       "      <td>3</td>\n",
       "      <td>978300103</td>\n",
       "    </tr>\n",
       "    <tr>\n",
       "      <th>...</th>\n",
       "      <td>...</td>\n",
       "      <td>...</td>\n",
       "      <td>...</td>\n",
       "      <td>...</td>\n",
       "    </tr>\n",
       "    <tr>\n",
       "      <th>1000019</th>\n",
       "      <td>6040</td>\n",
       "      <td>2917</td>\n",
       "      <td>4</td>\n",
       "      <td>997454429</td>\n",
       "    </tr>\n",
       "    <tr>\n",
       "      <th>999988</th>\n",
       "      <td>6040</td>\n",
       "      <td>1921</td>\n",
       "      <td>4</td>\n",
       "      <td>997454464</td>\n",
       "    </tr>\n",
       "    <tr>\n",
       "      <th>1000172</th>\n",
       "      <td>6040</td>\n",
       "      <td>1784</td>\n",
       "      <td>3</td>\n",
       "      <td>997454464</td>\n",
       "    </tr>\n",
       "    <tr>\n",
       "      <th>1000167</th>\n",
       "      <td>6040</td>\n",
       "      <td>161</td>\n",
       "      <td>3</td>\n",
       "      <td>997454486</td>\n",
       "    </tr>\n",
       "    <tr>\n",
       "      <th>1000042</th>\n",
       "      <td>6040</td>\n",
       "      <td>1221</td>\n",
       "      <td>4</td>\n",
       "      <td>998315055</td>\n",
       "    </tr>\n",
       "  </tbody>\n",
       "</table>\n",
       "<p>1000209 rows × 4 columns</p>\n",
       "</div>"
      ],
      "text/plain": [
       "         UserId  ItemId  Rating       Time\n",
       "31            1    3186       4  978300019\n",
       "22            1    1270       5  978300055\n",
       "27            1    1721       4  978300055\n",
       "37            1    1022       5  978300055\n",
       "24            1    2340       3  978300103\n",
       "...         ...     ...     ...        ...\n",
       "1000019    6040    2917       4  997454429\n",
       "999988     6040    1921       4  997454464\n",
       "1000172    6040    1784       3  997454464\n",
       "1000167    6040     161       3  997454486\n",
       "1000042    6040    1221       4  998315055\n",
       "\n",
       "[1000209 rows x 4 columns]"
      ]
     },
     "execution_count": 2,
     "metadata": {},
     "output_type": "execute_result"
    }
   ],
   "source": [
    "data_path = Path(os.getenv('HOME')+'/aiffel/yoochoose/data/') \n",
    "train_path = data_path / 'ratings.dat'\n",
    "\n",
    "def load_data(data_path: Path, nrows=None):\n",
    "    data = pd.read_csv(data_path, sep='::', header=None, usecols=[0, 1, 2, 3], \n",
    "                       dtype={0: np.int32, 1: np.int32, 2: np.int32}, nrows=nrows)\n",
    "    \n",
    "    data.columns = ['UserId', 'ItemId', 'Rating', 'Time']\n",
    "    return data\n",
    "\n",
    "data = load_data(train_path, None)\n",
    "# data를 id와 시간 순서로 정렬해줍니다.\n",
    "data.sort_values(['UserId', 'Time'], inplace=True)  \n",
    "data"
   ]
  },
  {
   "cell_type": "code",
   "execution_count": 3,
   "id": "a94a8f10",
   "metadata": {
    "scrolled": true
   },
   "outputs": [
    {
     "data": {
      "text/plain": [
       "(6040, 3706)"
      ]
     },
     "execution_count": 3,
     "metadata": {},
     "output_type": "execute_result"
    }
   ],
   "source": [
    "data['UserId'].nunique(), data['ItemId'].nunique()"
   ]
  },
  {
   "cell_type": "markdown",
   "id": "7a885dad",
   "metadata": {},
   "source": [
    "### 2. DATA Preprocessing"
   ]
  },
  {
   "cell_type": "markdown",
   "id": "650b8b2e",
   "metadata": {},
   "source": [
    " 항목별 기본 분석, session length, session time, cleaning 등의 작업을 진행  \n",
    "   \n",
    "   \n",
    " * 주의 할 점 Session이 아닌 UserID 단위로 데이터가 생성되어 있으므로, 이를 Session 단위로 어떻게 해석할지에 주의"
   ]
  },
  {
   "cell_type": "markdown",
   "id": "e8b10d92",
   "metadata": {},
   "source": [
    "#### 2.1 Session Length"
   ]
  },
  {
   "cell_type": "code",
   "execution_count": 4,
   "id": "593cd234",
   "metadata": {},
   "outputs": [
    {
     "data": {
      "text/plain": [
       "UserId\n",
       "1        53\n",
       "2       129\n",
       "3        51\n",
       "4        21\n",
       "5       198\n",
       "       ... \n",
       "6036    888\n",
       "6037    202\n",
       "6038     20\n",
       "6039    123\n",
       "6040    341\n",
       "Length: 6040, dtype: int64"
      ]
     },
     "execution_count": 4,
     "metadata": {},
     "output_type": "execute_result"
    }
   ],
   "source": [
    "session_length = data.groupby('UserId').size()\n",
    "session_length"
   ]
  },
  {
   "cell_type": "code",
   "execution_count": 5,
   "id": "30945d92",
   "metadata": {},
   "outputs": [
    {
     "name": "stdout",
     "output_type": "stream",
     "text": [
      "Median: 96.0\n",
      "Mean: 165.5975165562914\n",
      "Minimum: 20\n",
      "Maximum: 2314\n",
      "99.9% 세션의 길이: 1343.181000000005\n"
     ]
    }
   ],
   "source": [
    "print(f'Median: {session_length.median()}')\n",
    "print(f'Mean: {session_length.mean()}')\n",
    "print(f'Minimum: {session_length.min()}')\n",
    "print(f'Maximum: {session_length.max()}')\n",
    "print(f'99.9% 세션의 길이: {session_length.quantile(0.999)}')"
   ]
  },
  {
   "cell_type": "code",
   "execution_count": 6,
   "id": "23579d27",
   "metadata": {},
   "outputs": [
    {
     "data": {
      "text/plain": [
       "20      0.014238\n",
       "21      0.029305\n",
       "22      0.042053\n",
       "23      0.055464\n",
       "24      0.068874\n",
       "          ...   \n",
       "1271    0.998179\n",
       "1277    0.998344\n",
       "1286    0.998510\n",
       "1302    0.998675\n",
       "1323    0.998841\n",
       "Length: 736, dtype: float64"
      ]
     },
     "execution_count": 6,
     "metadata": {},
     "output_type": "execute_result"
    }
   ],
   "source": [
    "length_count = session_length.groupby(session_length).size()\n",
    "length_percent_cumsum = length_count.cumsum() / length_count.sum()\n",
    "length_percent_cumsum_999 = length_percent_cumsum[length_percent_cumsum < 0.999]\n",
    "\n",
    "length_percent_cumsum_999"
   ]
  },
  {
   "cell_type": "code",
   "execution_count": 7,
   "id": "e7f52998",
   "metadata": {},
   "outputs": [
    {
     "data": {
      "text/plain": [
       "(96.0, 165.5975165562914)"
      ]
     },
     "execution_count": 7,
     "metadata": {},
     "output_type": "execute_result"
    }
   ],
   "source": [
    "session_length.median(), session_length.mean()"
   ]
  },
  {
   "cell_type": "code",
   "execution_count": 8,
   "id": "f6dab61d",
   "metadata": {},
   "outputs": [
    {
     "data": {
      "text/plain": [
       "(20, 2314)"
      ]
     },
     "execution_count": 8,
     "metadata": {},
     "output_type": "execute_result"
    }
   ],
   "source": [
    "session_length.min(), session_length.max()"
   ]
  },
  {
   "cell_type": "code",
   "execution_count": 9,
   "id": "a7580c41",
   "metadata": {},
   "outputs": [
    {
     "data": {
      "image/png": "[encoded data removed]",
      "text/plain": [
       "<Figure size 1440x720 with 1 Axes>"
      ]
     },
     "metadata": {
      "needs_background": "light"
     },
     "output_type": "display_data"
    }
   ],
   "source": [
    "plt.figure(figsize=(20, 10))\n",
    "plt.bar(x=length_percent_cumsum_999.index,\n",
    "        height=length_percent_cumsum_999, color='Purple')\n",
    "plt.xticks(length_percent_cumsum_999.index)\n",
    "plt.yticks(np.arange(0, 1.01, 0.05))\n",
    "plt.title('Cumsum Percentage Until 0.999', size=20)\n",
    "plt.show()"
   ]
  },
  {
   "cell_type": "markdown",
   "id": "4513b07c",
   "metadata": {},
   "source": [
    "#### __2. 2 Session Time__"
   ]
  },
  {
   "cell_type": "code",
   "execution_count": 10,
   "id": "d1c7c041",
   "metadata": {},
   "outputs": [
    {
     "data": {
      "text/html": [
       "<div>\n",
       "<style scoped>\n",
       "    .dataframe tbody tr th:only-of-type {\n",
       "        vertical-align: middle;\n",
       "    }\n",
       "\n",
       "    .dataframe tbody tr th {\n",
       "        vertical-align: top;\n",
       "    }\n",
       "\n",
       "    .dataframe thead th {\n",
       "        text-align: right;\n",
       "    }\n",
       "</style>\n",
       "<table border=\"1\" class=\"dataframe\">\n",
       "  <thead>\n",
       "    <tr style=\"text-align: right;\">\n",
       "      <th></th>\n",
       "      <th>UserId</th>\n",
       "      <th>ItemId</th>\n",
       "      <th>Rating</th>\n",
       "      <th>Time</th>\n",
       "    </tr>\n",
       "  </thead>\n",
       "  <tbody>\n",
       "    <tr>\n",
       "      <th>31</th>\n",
       "      <td>1</td>\n",
       "      <td>3186</td>\n",
       "      <td>4</td>\n",
       "      <td>2000-12-31 22:00:19</td>\n",
       "    </tr>\n",
       "    <tr>\n",
       "      <th>22</th>\n",
       "      <td>1</td>\n",
       "      <td>1270</td>\n",
       "      <td>5</td>\n",
       "      <td>2000-12-31 22:00:55</td>\n",
       "    </tr>\n",
       "    <tr>\n",
       "      <th>27</th>\n",
       "      <td>1</td>\n",
       "      <td>1721</td>\n",
       "      <td>4</td>\n",
       "      <td>2000-12-31 22:00:55</td>\n",
       "    </tr>\n",
       "    <tr>\n",
       "      <th>37</th>\n",
       "      <td>1</td>\n",
       "      <td>1022</td>\n",
       "      <td>5</td>\n",
       "      <td>2000-12-31 22:00:55</td>\n",
       "    </tr>\n",
       "    <tr>\n",
       "      <th>24</th>\n",
       "      <td>1</td>\n",
       "      <td>2340</td>\n",
       "      <td>3</td>\n",
       "      <td>2000-12-31 22:01:43</td>\n",
       "    </tr>\n",
       "  </tbody>\n",
       "</table>\n",
       "</div>"
      ],
      "text/plain": [
       "    UserId  ItemId  Rating                Time\n",
       "31       1    3186       4 2000-12-31 22:00:19\n",
       "22       1    1270       5 2000-12-31 22:00:55\n",
       "27       1    1721       4 2000-12-31 22:00:55\n",
       "37       1    1022       5 2000-12-31 22:00:55\n",
       "24       1    2340       3 2000-12-31 22:01:43"
      ]
     },
     "execution_count": 10,
     "metadata": {},
     "output_type": "execute_result"
    }
   ],
   "source": [
    "change_date = []\n",
    "for time in data['Time']:\n",
    "    temp = dt.datetime.fromtimestamp(time)\n",
    "    change_date.append(temp)\n",
    "\n",
    "data['Time'] = change_date\n",
    "data.head()"
   ]
  },
  {
   "cell_type": "code",
   "execution_count": 11,
   "id": "988ac477",
   "metadata": {},
   "outputs": [
    {
     "name": "stdout",
     "output_type": "stream",
     "text": [
      "2000-04-25 23:05:32\n",
      "2003-02-28 17:49:50\n"
     ]
    }
   ],
   "source": [
    "oldest, latest = data['Time'].min(), data['Time'].max()\n",
    "print(oldest) \n",
    "print(latest)"
   ]
  },
  {
   "cell_type": "markdown",
   "id": "34853c77",
   "metadata": {},
   "source": [
    "#### __2.3 Rating__"
   ]
  },
  {
   "cell_type": "code",
   "execution_count": 12,
   "id": "92061fb4",
   "metadata": {},
   "outputs": [
    {
     "data": {
      "image/png": "[encoded data removed]",
      "text/plain": [
       "<Figure size 432x288 with 1 Axes>"
      ]
     },
     "metadata": {
      "needs_background": "light"
     },
     "output_type": "display_data"
    }
   ],
   "source": [
    "plt.hist(data['Rating'], bins=5)\n",
    "plt.yticks(data['Rating'].value_counts())\n",
    "plt.show()"
   ]
  },
  {
   "cell_type": "code",
   "execution_count": 13,
   "id": "e72d92ca",
   "metadata": {},
   "outputs": [
    {
     "name": "stdout",
     "output_type": "stream",
     "text": [
      "<class 'pandas.core.frame.DataFrame'>\n",
      "Int64Index: 575281 entries, 31 to 1000042\n",
      "Data columns (total 4 columns):\n",
      " #   Column  Non-Null Count   Dtype         \n",
      "---  ------  --------------   -----         \n",
      " 0   UserId  575281 non-null  int32         \n",
      " 1   ItemId  575281 non-null  int32         \n",
      " 2   Rating  575281 non-null  int32         \n",
      " 3   Time    575281 non-null  datetime64[ns]\n",
      "dtypes: datetime64[ns](1), int32(3)\n",
      "memory usage: 15.4 MB\n"
     ]
    }
   ],
   "source": [
    "data = data[data['Rating']>=4]\n",
    "data.info()"
   ]
  },
  {
   "cell_type": "markdown",
   "id": "732ca0f7",
   "metadata": {},
   "source": [
    "#### __2.4 Cleansing__"
   ]
  },
  {
   "cell_type": "code",
   "execution_count": 14,
   "id": "629bf4b9",
   "metadata": {},
   "outputs": [],
   "source": [
    "# short_session을 제거한 다음 unpopular item을 제거하면 다시 길이가 1인 session이 생길 수 있습니다.\n",
    "# 이를 위해 반복문을 통해 지속적으로 제거 합니다.\n",
    "def cleanse_recursive(data: pd.DataFrame, shortest, least_click) -> pd.DataFrame:\n",
    "    while True:\n",
    "        before_len = len(data)\n",
    "        data = cleanse_short_session(data, shortest)\n",
    "        data = cleanse_unpopular_item(data, least_click)\n",
    "        after_len = len(data)\n",
    "        if before_len == after_len:\n",
    "            break\n",
    "    return data\n",
    "\n",
    "\n",
    "def cleanse_short_session(data: pd.DataFrame, shortest):\n",
    "    session_len = data.groupby('UserId').size()\n",
    "    session_use = session_len[session_len >= shortest].index\n",
    "    data = data[data['UserId'].isin(session_use)]\n",
    "    return data\n",
    "\n",
    "\n",
    "def cleanse_unpopular_item(data: pd.DataFrame, least_click):\n",
    "    item_popular = data.groupby('ItemId').size()\n",
    "    item_use = item_popular[item_popular >= least_click].index\n",
    "    data = data[data['ItemId'].isin(item_use)]\n",
    "    return data"
   ]
  },
  {
   "cell_type": "code",
   "execution_count": 15,
   "id": "a65e95df",
   "metadata": {},
   "outputs": [
    {
     "data": {
      "text/html": [
       "<div>\n",
       "<style scoped>\n",
       "    .dataframe tbody tr th:only-of-type {\n",
       "        vertical-align: middle;\n",
       "    }\n",
       "\n",
       "    .dataframe tbody tr th {\n",
       "        vertical-align: top;\n",
       "    }\n",
       "\n",
       "    .dataframe thead th {\n",
       "        text-align: right;\n",
       "    }\n",
       "</style>\n",
       "<table border=\"1\" class=\"dataframe\">\n",
       "  <thead>\n",
       "    <tr style=\"text-align: right;\">\n",
       "      <th></th>\n",
       "      <th>UserId</th>\n",
       "      <th>ItemId</th>\n",
       "      <th>Rating</th>\n",
       "      <th>Time</th>\n",
       "    </tr>\n",
       "  </thead>\n",
       "  <tbody>\n",
       "    <tr>\n",
       "      <th>31</th>\n",
       "      <td>1</td>\n",
       "      <td>3186</td>\n",
       "      <td>4</td>\n",
       "      <td>2000-12-31 22:00:19</td>\n",
       "    </tr>\n",
       "    <tr>\n",
       "      <th>22</th>\n",
       "      <td>1</td>\n",
       "      <td>1270</td>\n",
       "      <td>5</td>\n",
       "      <td>2000-12-31 22:00:55</td>\n",
       "    </tr>\n",
       "    <tr>\n",
       "      <th>27</th>\n",
       "      <td>1</td>\n",
       "      <td>1721</td>\n",
       "      <td>4</td>\n",
       "      <td>2000-12-31 22:00:55</td>\n",
       "    </tr>\n",
       "    <tr>\n",
       "      <th>37</th>\n",
       "      <td>1</td>\n",
       "      <td>1022</td>\n",
       "      <td>5</td>\n",
       "      <td>2000-12-31 22:00:55</td>\n",
       "    </tr>\n",
       "    <tr>\n",
       "      <th>36</th>\n",
       "      <td>1</td>\n",
       "      <td>1836</td>\n",
       "      <td>5</td>\n",
       "      <td>2000-12-31 22:02:52</td>\n",
       "    </tr>\n",
       "    <tr>\n",
       "      <th>...</th>\n",
       "      <td>...</td>\n",
       "      <td>...</td>\n",
       "      <td>...</td>\n",
       "      <td>...</td>\n",
       "    </tr>\n",
       "    <tr>\n",
       "      <th>1000119</th>\n",
       "      <td>6040</td>\n",
       "      <td>3671</td>\n",
       "      <td>4</td>\n",
       "      <td>2001-08-10 14:39:27</td>\n",
       "    </tr>\n",
       "    <tr>\n",
       "      <th>999923</th>\n",
       "      <td>6040</td>\n",
       "      <td>232</td>\n",
       "      <td>5</td>\n",
       "      <td>2001-08-10 14:39:58</td>\n",
       "    </tr>\n",
       "    <tr>\n",
       "      <th>1000019</th>\n",
       "      <td>6040</td>\n",
       "      <td>2917</td>\n",
       "      <td>4</td>\n",
       "      <td>2001-08-10 14:40:29</td>\n",
       "    </tr>\n",
       "    <tr>\n",
       "      <th>999988</th>\n",
       "      <td>6040</td>\n",
       "      <td>1921</td>\n",
       "      <td>4</td>\n",
       "      <td>2001-08-10 14:41:04</td>\n",
       "    </tr>\n",
       "    <tr>\n",
       "      <th>1000042</th>\n",
       "      <td>6040</td>\n",
       "      <td>1221</td>\n",
       "      <td>4</td>\n",
       "      <td>2001-08-20 13:44:15</td>\n",
       "    </tr>\n",
       "  </tbody>\n",
       "</table>\n",
       "<p>574069 rows × 4 columns</p>\n",
       "</div>"
      ],
      "text/plain": [
       "         UserId  ItemId  Rating                Time\n",
       "31            1    3186       4 2000-12-31 22:00:19\n",
       "22            1    1270       5 2000-12-31 22:00:55\n",
       "27            1    1721       4 2000-12-31 22:00:55\n",
       "37            1    1022       5 2000-12-31 22:00:55\n",
       "36            1    1836       5 2000-12-31 22:02:52\n",
       "...         ...     ...     ...                 ...\n",
       "1000119    6040    3671       4 2001-08-10 14:39:27\n",
       "999923     6040     232       5 2001-08-10 14:39:58\n",
       "1000019    6040    2917       4 2001-08-10 14:40:29\n",
       "999988     6040    1921       4 2001-08-10 14:41:04\n",
       "1000042    6040    1221       4 2001-08-20 13:44:15\n",
       "\n",
       "[574069 rows x 4 columns]"
      ]
     },
     "execution_count": 15,
     "metadata": {},
     "output_type": "execute_result"
    }
   ],
   "source": [
    "data = cleanse_recursive(data, shortest=2, least_click=6)\n",
    "data"
   ]
  },
  {
   "cell_type": "markdown",
   "id": "acaae1be",
   "metadata": {},
   "source": [
    "#### __2.5 DATA Split__"
   ]
  },
  {
   "cell_type": "code",
   "execution_count": 16,
   "id": "b20fd63b",
   "metadata": {},
   "outputs": [
    {
     "data": {
      "text/html": [
       "<div>\n",
       "<style scoped>\n",
       "    .dataframe tbody tr th:only-of-type {\n",
       "        vertical-align: middle;\n",
       "    }\n",
       "\n",
       "    .dataframe tbody tr th {\n",
       "        vertical-align: top;\n",
       "    }\n",
       "\n",
       "    .dataframe thead th {\n",
       "        text-align: right;\n",
       "    }\n",
       "</style>\n",
       "<table border=\"1\" class=\"dataframe\">\n",
       "  <thead>\n",
       "    <tr style=\"text-align: right;\">\n",
       "      <th></th>\n",
       "      <th>UserId</th>\n",
       "      <th>ItemId</th>\n",
       "      <th>Rating</th>\n",
       "      <th>Time</th>\n",
       "    </tr>\n",
       "  </thead>\n",
       "  <tbody>\n",
       "    <tr>\n",
       "      <th>1000138</th>\n",
       "      <td>6040</td>\n",
       "      <td>858</td>\n",
       "      <td>4</td>\n",
       "      <td>2000-04-25 23:05:32</td>\n",
       "    </tr>\n",
       "    <tr>\n",
       "      <th>999873</th>\n",
       "      <td>6040</td>\n",
       "      <td>593</td>\n",
       "      <td>5</td>\n",
       "      <td>2000-04-25 23:05:54</td>\n",
       "    </tr>\n",
       "    <tr>\n",
       "      <th>1000153</th>\n",
       "      <td>6040</td>\n",
       "      <td>2384</td>\n",
       "      <td>4</td>\n",
       "      <td>2000-04-25 23:05:54</td>\n",
       "    </tr>\n",
       "    <tr>\n",
       "      <th>1000007</th>\n",
       "      <td>6040</td>\n",
       "      <td>1961</td>\n",
       "      <td>4</td>\n",
       "      <td>2000-04-25 23:06:17</td>\n",
       "    </tr>\n",
       "    <tr>\n",
       "      <th>1000192</th>\n",
       "      <td>6040</td>\n",
       "      <td>2019</td>\n",
       "      <td>5</td>\n",
       "      <td>2000-04-25 23:06:17</td>\n",
       "    </tr>\n",
       "    <tr>\n",
       "      <th>999868</th>\n",
       "      <td>6040</td>\n",
       "      <td>573</td>\n",
       "      <td>4</td>\n",
       "      <td>2000-04-25 23:07:36</td>\n",
       "    </tr>\n",
       "    <tr>\n",
       "      <th>999967</th>\n",
       "      <td>6040</td>\n",
       "      <td>3111</td>\n",
       "      <td>5</td>\n",
       "      <td>2000-04-25 23:07:36</td>\n",
       "    </tr>\n",
       "    <tr>\n",
       "      <th>999980</th>\n",
       "      <td>6040</td>\n",
       "      <td>3505</td>\n",
       "      <td>4</td>\n",
       "      <td>2000-04-25 23:07:36</td>\n",
       "    </tr>\n",
       "    <tr>\n",
       "      <th>999920</th>\n",
       "      <td>6040</td>\n",
       "      <td>213</td>\n",
       "      <td>5</td>\n",
       "      <td>2000-04-25 23:07:36</td>\n",
       "    </tr>\n",
       "    <tr>\n",
       "      <th>999884</th>\n",
       "      <td>6040</td>\n",
       "      <td>912</td>\n",
       "      <td>5</td>\n",
       "      <td>2000-04-25 23:09:51</td>\n",
       "    </tr>\n",
       "    <tr>\n",
       "      <th>999888</th>\n",
       "      <td>6040</td>\n",
       "      <td>919</td>\n",
       "      <td>5</td>\n",
       "      <td>2000-04-25 23:09:51</td>\n",
       "    </tr>\n",
       "    <tr>\n",
       "      <th>999971</th>\n",
       "      <td>6040</td>\n",
       "      <td>2503</td>\n",
       "      <td>5</td>\n",
       "      <td>2000-04-25 23:09:51</td>\n",
       "    </tr>\n",
       "    <tr>\n",
       "      <th>1000186</th>\n",
       "      <td>6040</td>\n",
       "      <td>527</td>\n",
       "      <td>5</td>\n",
       "      <td>2000-04-25 23:10:19</td>\n",
       "    </tr>\n",
       "    <tr>\n",
       "      <th>999953</th>\n",
       "      <td>6040</td>\n",
       "      <td>649</td>\n",
       "      <td>5</td>\n",
       "      <td>2000-04-25 23:10:57</td>\n",
       "    </tr>\n",
       "    <tr>\n",
       "      <th>999991</th>\n",
       "      <td>6040</td>\n",
       "      <td>318</td>\n",
       "      <td>4</td>\n",
       "      <td>2000-04-25 23:10:57</td>\n",
       "    </tr>\n",
       "    <tr>\n",
       "      <th>1000063</th>\n",
       "      <td>6040</td>\n",
       "      <td>1252</td>\n",
       "      <td>5</td>\n",
       "      <td>2000-04-25 23:10:57</td>\n",
       "    </tr>\n",
       "    <tr>\n",
       "      <th>1000108</th>\n",
       "      <td>6040</td>\n",
       "      <td>3289</td>\n",
       "      <td>5</td>\n",
       "      <td>2000-04-25 23:11:45</td>\n",
       "    </tr>\n",
       "    <tr>\n",
       "      <th>1000083</th>\n",
       "      <td>6040</td>\n",
       "      <td>759</td>\n",
       "      <td>5</td>\n",
       "      <td>2000-04-25 23:14:08</td>\n",
       "    </tr>\n",
       "    <tr>\n",
       "      <th>999938</th>\n",
       "      <td>6040</td>\n",
       "      <td>2858</td>\n",
       "      <td>4</td>\n",
       "      <td>2000-04-25 23:14:35</td>\n",
       "    </tr>\n",
       "    <tr>\n",
       "      <th>999946</th>\n",
       "      <td>6040</td>\n",
       "      <td>608</td>\n",
       "      <td>4</td>\n",
       "      <td>2000-04-25 23:14:35</td>\n",
       "    </tr>\n",
       "  </tbody>\n",
       "</table>\n",
       "</div>"
      ],
      "text/plain": [
       "         UserId  ItemId  Rating                Time\n",
       "1000138    6040     858       4 2000-04-25 23:05:32\n",
       "999873     6040     593       5 2000-04-25 23:05:54\n",
       "1000153    6040    2384       4 2000-04-25 23:05:54\n",
       "1000007    6040    1961       4 2000-04-25 23:06:17\n",
       "1000192    6040    2019       5 2000-04-25 23:06:17\n",
       "999868     6040     573       4 2000-04-25 23:07:36\n",
       "999967     6040    3111       5 2000-04-25 23:07:36\n",
       "999980     6040    3505       4 2000-04-25 23:07:36\n",
       "999920     6040     213       5 2000-04-25 23:07:36\n",
       "999884     6040     912       5 2000-04-25 23:09:51\n",
       "999888     6040     919       5 2000-04-25 23:09:51\n",
       "999971     6040    2503       5 2000-04-25 23:09:51\n",
       "1000186    6040     527       5 2000-04-25 23:10:19\n",
       "999953     6040     649       5 2000-04-25 23:10:57\n",
       "999991     6040     318       4 2000-04-25 23:10:57\n",
       "1000063    6040    1252       5 2000-04-25 23:10:57\n",
       "1000108    6040    3289       5 2000-04-25 23:11:45\n",
       "1000083    6040     759       5 2000-04-25 23:14:08\n",
       "999938     6040    2858       4 2000-04-25 23:14:35\n",
       "999946     6040     608       4 2000-04-25 23:14:35"
      ]
     },
     "execution_count": 16,
     "metadata": {},
     "output_type": "execute_result"
    }
   ],
   "source": [
    "data = data.sort_values('Time')\n",
    "data.head(20)"
   ]
  },
  {
   "cell_type": "code",
   "execution_count": 17,
   "id": "8104e52a",
   "metadata": {},
   "outputs": [],
   "source": [
    "def split_by_date(data: pd.DataFrame, n_days: int):\n",
    "    final_time = data['Time'].max()\n",
    "    session_last_time = data.groupby('Time')['Time'].max()\n",
    "    session_in_train = session_last_time[session_last_time < final_time - dt.timedelta(n_days)].index\n",
    "    session_in_test = session_last_time[session_last_time >= final_time - dt.timedelta(n_days)].index\n",
    "\n",
    "    before_date = data[data['Time'].isin(session_in_train)]\n",
    "    after_date = data[data['Time'].isin(session_in_test)]\n",
    "    \n",
    "    return before_date, after_date"
   ]
  },
  {
   "cell_type": "code",
   "execution_count": 18,
   "id": "2b2a2146",
   "metadata": {},
   "outputs": [],
   "source": [
    "tr, test = split_by_date(data, n_days=180)\n",
    "tr, val = split_by_date(tr, n_days=180)"
   ]
  },
  {
   "cell_type": "code",
   "execution_count": 19,
   "id": "588c02f0",
   "metadata": {},
   "outputs": [],
   "source": [
    "def stats_info(data: pd.DataFrame, status: str):\n",
    "    print(f'* {status} Set Stats Info\\n'\n",
    "          f'\\t Events: {len(data)}\\n'\n",
    "          f'\\t Sessions: {data[\"UserId\"].nunique()}\\n'\n",
    "          f'\\t Items: {data[\"ItemId\"].nunique()}\\n'\n",
    "          f'\\t First Time : {data[\"Time\"].min()}\\n'\n",
    "          f'\\t Last Time : {data[\"Time\"].max()}\\n')"
   ]
  },
  {
   "cell_type": "code",
   "execution_count": 20,
   "id": "b1caba84",
   "metadata": {},
   "outputs": [
    {
     "name": "stdout",
     "output_type": "stream",
     "text": [
      "* train Set Stats Info\n",
      "\t Events: 562991\n",
      "\t Sessions: 6034\n",
      "\t Items: 3062\n",
      "\t First Time : 2000-04-25 23:05:32\n",
      "\t Last Time : 2002-03-05 03:58:17\n",
      "\n",
      "* valid Set Stats Info\n",
      "\t Events: 6305\n",
      "\t Sessions: 367\n",
      "\t Items: 1890\n",
      "\t First Time : 2002-03-05 04:38:49\n",
      "\t Last Time : 2002-09-01 04:20:59\n",
      "\n",
      "* test Set Stats Info\n",
      "\t Events: 4773\n",
      "\t Sessions: 313\n",
      "\t Items: 1555\n",
      "\t First Time : 2002-09-01 19:43:16\n",
      "\t Last Time : 2003-02-28 17:49:50\n",
      "\n"
     ]
    }
   ],
   "source": [
    "stats_info(tr, 'train')\n",
    "stats_info(val, 'valid')\n",
    "stats_info(test, 'test')"
   ]
  },
  {
   "cell_type": "code",
   "execution_count": 21,
   "id": "73ab2035",
   "metadata": {},
   "outputs": [],
   "source": [
    "id2idx = {item_id : index for index, item_id in enumerate(tr['ItemId'].unique())}\n",
    "\n",
    "def indexing(df, id2idx):\n",
    "    df['item_idx'] = df['ItemId'].map(lambda x: id2idx.get(x, -1))  # id2idx에 없는 아이템은 모르는 값(-1) 처리 해줍니다.\n",
    "    return df\n",
    "\n",
    "tr = indexing(tr, id2idx)\n",
    "val = indexing(val, id2idx)\n",
    "test = indexing(test, id2idx)"
   ]
  },
  {
   "cell_type": "code",
   "execution_count": 22,
   "id": "cc305a10",
   "metadata": {},
   "outputs": [],
   "source": [
    "save_path = data_path / 'processed'\n",
    "save_path.mkdir(parents=True, exist_ok=True)\n",
    "\n",
    "tr.to_pickle(save_path / 'train.pkl')\n",
    "val.to_pickle(save_path / 'valid.pkl')\n",
    "test.to_pickle(save_path / 'test.pkl')"
   ]
  },
  {
   "cell_type": "markdown",
   "id": "cbf6630d",
   "metadata": {},
   "source": [
    "#### __3. DATA Pipeline__"
   ]
  },
  {
   "cell_type": "markdown",
   "id": "c6447507",
   "metadata": {},
   "source": [
    "#### __3.1 Session Dataset__"
   ]
  },
  {
   "cell_type": "code",
   "execution_count": 23,
   "id": "f1e10c6c",
   "metadata": {},
   "outputs": [],
   "source": [
    "class SessionDataset:\n",
    "    \"\"\"Credit to yhs-968/pyGRU4REC.\"\"\"\n",
    "\n",
    "    def __init__(self, data):\n",
    "        self.df = data\n",
    "        self.click_offsets = self.get_click_offsets()\n",
    "        self.session_idx = np.arange(self.df['UserId'].nunique())  # indexing to UserId\n",
    "\n",
    "    def get_click_offsets(self):\n",
    "        \"\"\"\n",
    "        Return the indexes of the first click of each session IDs,\n",
    "        \"\"\"\n",
    "        offsets = np.zeros(self.df['UserId'].nunique() + 1, dtype=np.int32)\n",
    "        offsets[1:] = self.df.groupby('UserId').size().cumsum()\n",
    "        return offsets"
   ]
  },
  {
   "cell_type": "code",
   "execution_count": 24,
   "id": "863091be",
   "metadata": {},
   "outputs": [
    {
     "data": {
      "text/html": [
       "<div>\n",
       "<style scoped>\n",
       "    .dataframe tbody tr th:only-of-type {\n",
       "        vertical-align: middle;\n",
       "    }\n",
       "\n",
       "    .dataframe tbody tr th {\n",
       "        vertical-align: top;\n",
       "    }\n",
       "\n",
       "    .dataframe thead th {\n",
       "        text-align: right;\n",
       "    }\n",
       "</style>\n",
       "<table border=\"1\" class=\"dataframe\">\n",
       "  <thead>\n",
       "    <tr style=\"text-align: right;\">\n",
       "      <th></th>\n",
       "      <th>UserId</th>\n",
       "      <th>ItemId</th>\n",
       "      <th>Rating</th>\n",
       "      <th>Time</th>\n",
       "      <th>item_idx</th>\n",
       "    </tr>\n",
       "  </thead>\n",
       "  <tbody>\n",
       "    <tr>\n",
       "      <th>1000138</th>\n",
       "      <td>6040</td>\n",
       "      <td>858</td>\n",
       "      <td>4</td>\n",
       "      <td>2000-04-25 23:05:32</td>\n",
       "      <td>0</td>\n",
       "    </tr>\n",
       "    <tr>\n",
       "      <th>999873</th>\n",
       "      <td>6040</td>\n",
       "      <td>593</td>\n",
       "      <td>5</td>\n",
       "      <td>2000-04-25 23:05:54</td>\n",
       "      <td>1</td>\n",
       "    </tr>\n",
       "    <tr>\n",
       "      <th>1000153</th>\n",
       "      <td>6040</td>\n",
       "      <td>2384</td>\n",
       "      <td>4</td>\n",
       "      <td>2000-04-25 23:05:54</td>\n",
       "      <td>2</td>\n",
       "    </tr>\n",
       "    <tr>\n",
       "      <th>1000007</th>\n",
       "      <td>6040</td>\n",
       "      <td>1961</td>\n",
       "      <td>4</td>\n",
       "      <td>2000-04-25 23:06:17</td>\n",
       "      <td>3</td>\n",
       "    </tr>\n",
       "    <tr>\n",
       "      <th>1000192</th>\n",
       "      <td>6040</td>\n",
       "      <td>2019</td>\n",
       "      <td>5</td>\n",
       "      <td>2000-04-25 23:06:17</td>\n",
       "      <td>4</td>\n",
       "    </tr>\n",
       "    <tr>\n",
       "      <th>999868</th>\n",
       "      <td>6040</td>\n",
       "      <td>573</td>\n",
       "      <td>4</td>\n",
       "      <td>2000-04-25 23:07:36</td>\n",
       "      <td>5</td>\n",
       "    </tr>\n",
       "    <tr>\n",
       "      <th>999967</th>\n",
       "      <td>6040</td>\n",
       "      <td>3111</td>\n",
       "      <td>5</td>\n",
       "      <td>2000-04-25 23:07:36</td>\n",
       "      <td>6</td>\n",
       "    </tr>\n",
       "    <tr>\n",
       "      <th>999980</th>\n",
       "      <td>6040</td>\n",
       "      <td>3505</td>\n",
       "      <td>4</td>\n",
       "      <td>2000-04-25 23:07:36</td>\n",
       "      <td>7</td>\n",
       "    </tr>\n",
       "    <tr>\n",
       "      <th>999920</th>\n",
       "      <td>6040</td>\n",
       "      <td>213</td>\n",
       "      <td>5</td>\n",
       "      <td>2000-04-25 23:07:36</td>\n",
       "      <td>8</td>\n",
       "    </tr>\n",
       "    <tr>\n",
       "      <th>999884</th>\n",
       "      <td>6040</td>\n",
       "      <td>912</td>\n",
       "      <td>5</td>\n",
       "      <td>2000-04-25 23:09:51</td>\n",
       "      <td>9</td>\n",
       "    </tr>\n",
       "    <tr>\n",
       "      <th>999888</th>\n",
       "      <td>6040</td>\n",
       "      <td>919</td>\n",
       "      <td>5</td>\n",
       "      <td>2000-04-25 23:09:51</td>\n",
       "      <td>10</td>\n",
       "    </tr>\n",
       "    <tr>\n",
       "      <th>999971</th>\n",
       "      <td>6040</td>\n",
       "      <td>2503</td>\n",
       "      <td>5</td>\n",
       "      <td>2000-04-25 23:09:51</td>\n",
       "      <td>11</td>\n",
       "    </tr>\n",
       "    <tr>\n",
       "      <th>1000186</th>\n",
       "      <td>6040</td>\n",
       "      <td>527</td>\n",
       "      <td>5</td>\n",
       "      <td>2000-04-25 23:10:19</td>\n",
       "      <td>12</td>\n",
       "    </tr>\n",
       "    <tr>\n",
       "      <th>999953</th>\n",
       "      <td>6040</td>\n",
       "      <td>649</td>\n",
       "      <td>5</td>\n",
       "      <td>2000-04-25 23:10:57</td>\n",
       "      <td>13</td>\n",
       "    </tr>\n",
       "    <tr>\n",
       "      <th>999991</th>\n",
       "      <td>6040</td>\n",
       "      <td>318</td>\n",
       "      <td>4</td>\n",
       "      <td>2000-04-25 23:10:57</td>\n",
       "      <td>14</td>\n",
       "    </tr>\n",
       "  </tbody>\n",
       "</table>\n",
       "</div>"
      ],
      "text/plain": [
       "         UserId  ItemId  Rating                Time  item_idx\n",
       "1000138    6040     858       4 2000-04-25 23:05:32         0\n",
       "999873     6040     593       5 2000-04-25 23:05:54         1\n",
       "1000153    6040    2384       4 2000-04-25 23:05:54         2\n",
       "1000007    6040    1961       4 2000-04-25 23:06:17         3\n",
       "1000192    6040    2019       5 2000-04-25 23:06:17         4\n",
       "999868     6040     573       4 2000-04-25 23:07:36         5\n",
       "999967     6040    3111       5 2000-04-25 23:07:36         6\n",
       "999980     6040    3505       4 2000-04-25 23:07:36         7\n",
       "999920     6040     213       5 2000-04-25 23:07:36         8\n",
       "999884     6040     912       5 2000-04-25 23:09:51         9\n",
       "999888     6040     919       5 2000-04-25 23:09:51        10\n",
       "999971     6040    2503       5 2000-04-25 23:09:51        11\n",
       "1000186    6040     527       5 2000-04-25 23:10:19        12\n",
       "999953     6040     649       5 2000-04-25 23:10:57        13\n",
       "999991     6040     318       4 2000-04-25 23:10:57        14"
      ]
     },
     "execution_count": 24,
     "metadata": {},
     "output_type": "execute_result"
    }
   ],
   "source": [
    "tr_dataset = SessionDataset(tr)\n",
    "tr_dataset.df.head(15)"
   ]
  },
  {
   "cell_type": "code",
   "execution_count": 25,
   "id": "ce2b2e93",
   "metadata": {},
   "outputs": [
    {
     "data": {
      "text/plain": [
       "array([     0,     45,    118, ..., 562688, 562778, 562991], dtype=int32)"
      ]
     },
     "execution_count": 25,
     "metadata": {},
     "output_type": "execute_result"
    }
   ],
   "source": [
    "tr_dataset.click_offsets"
   ]
  },
  {
   "cell_type": "code",
   "execution_count": 26,
   "id": "db6091b1",
   "metadata": {},
   "outputs": [
    {
     "data": {
      "text/plain": [
       "array([   0,    1,    2, ..., 6031, 6032, 6033])"
      ]
     },
     "execution_count": 26,
     "metadata": {},
     "output_type": "execute_result"
    }
   ],
   "source": [
    "tr_dataset.session_idx"
   ]
  },
  {
   "cell_type": "markdown",
   "id": "6cb86074",
   "metadata": {},
   "source": [
    "#### __3.2 Session DataLoader__"
   ]
  },
  {
   "cell_type": "code",
   "execution_count": 27,
   "id": "0e08648d",
   "metadata": {},
   "outputs": [],
   "source": [
    "class SessionDataLoader:\n",
    "    \"\"\"Credit to yhs-968/pyGRU4REC.\"\"\"\n",
    "\n",
    "    def __init__(self, dataset: SessionDataset, batch_size=50):\n",
    "        self.dataset = dataset\n",
    "        self.batch_size = batch_size\n",
    "\n",
    "    def __iter__(self):\n",
    "        \"\"\" Returns the iterator for producing session-parallel training mini-batches.\n",
    "        Yields:\n",
    "            input (B,):  Item indices that will be encoded as one-hot vectors later.\n",
    "            target (B,): a Variable that stores the target item indices\n",
    "            masks: Numpy array indicating the positions of the sessions to be terminated\n",
    "        \"\"\"\n",
    "\n",
    "        start, end, mask, last_session, finished = self.initialize()  # initialize 메소드에서 확인해주세요.\n",
    "        \"\"\"\n",
    "        start : Index Where Session Start\n",
    "        end : Index Where Session End\n",
    "        mask : indicator for the sessions to be terminated\n",
    "        \"\"\"\n",
    "\n",
    "        while not finished:\n",
    "            min_len = (end - start).min() - 1  # Shortest Length Among Sessions\n",
    "            for i in range(min_len):\n",
    "                # Build inputs & targets\n",
    "                inp = self.dataset.df['item_idx'].values[start + i]\n",
    "                target = self.dataset.df['item_idx'].values[start + i + 1]\n",
    "                yield inp, target, mask\n",
    "\n",
    "            start, end, mask, last_session, finished = self.update_status(start, end, min_len, last_session, finished)\n",
    "\n",
    "    def initialize(self):\n",
    "        first_iters = np.arange(self.batch_size)    # 첫 배치에 사용할 세션 Index를 가져옵니다.\n",
    "        last_session = self.batch_size - 1    # 마지막으로 다루고 있는 세션 Index를 저장해둡니다.\n",
    "        start = self.dataset.click_offsets[self.dataset.session_idx[first_iters]]       # data 상에서 session이 시작된 위치를 가져옵니다.\n",
    "        end = self.dataset.click_offsets[self.dataset.session_idx[first_iters] + 1]  # session이 끝난 위치 바로 다음 위치를 가져옵니다.\n",
    "        mask = np.array([])   # session의 모든 아이템을 다 돌은 경우 mask에 추가해줄 것입니다.\n",
    "        finished = False         # data를 전부 돌았는지 기록하기 위한 변수입니다.\n",
    "        return start, end, mask, last_session, finished\n",
    "\n",
    "    def update_status(self, start: np.ndarray, end: np.ndarray, min_len: int, last_session: int, finished: bool):  \n",
    "        # 다음 배치 데이터를 생성하기 위해 상태를 update합니다.\n",
    "        \n",
    "        start += min_len   # __iter__에서 min_len 만큼 for문을 돌았으므로 start를 min_len 만큼 더해줍니다.\n",
    "        mask = np.arange(self.batch_size)[(end - start) == 1]  \n",
    "        # end는 다음 세션이 시작되는 위치인데 start와 한 칸 차이난다는 것은 session이 끝났다는 뜻입니다. mask에 기록해줍니다.\n",
    "\n",
    "        for i, idx in enumerate(mask, start=1):  # mask에 추가된 세션 개수만큼 새로운 세션을 돌것입니다.\n",
    "            new_session = last_session + i  \n",
    "            if new_session > self.dataset.session_idx[-1]:  # 만약 새로운 세션이 마지막 세션 index보다 크다면 모든 학습데이터를 돈 것입니다.\n",
    "                finished = True\n",
    "                break\n",
    "            # update the next starting/ending point\n",
    "            start[idx] = self.dataset.click_offsets[self.dataset.session_idx[new_session]]     # 종료된 세션 대신 새로운 세션의 시작점을 기록합니다.\n",
    "            end[idx] = self.dataset.click_offsets[self.dataset.session_idx[new_session] + 1]\n",
    "\n",
    "        last_session += len(mask)  # 마지막 세션의 위치를 기록해둡니다.\n",
    "        return start, end, mask, last_session, finished"
   ]
  },
  {
   "cell_type": "code",
   "execution_count": 28,
   "id": "505d9bf7",
   "metadata": {},
   "outputs": [
    {
     "data": {
      "text/html": [
       "<div>\n",
       "<style scoped>\n",
       "    .dataframe tbody tr th:only-of-type {\n",
       "        vertical-align: middle;\n",
       "    }\n",
       "\n",
       "    .dataframe tbody tr th {\n",
       "        vertical-align: top;\n",
       "    }\n",
       "\n",
       "    .dataframe thead th {\n",
       "        text-align: right;\n",
       "    }\n",
       "</style>\n",
       "<table border=\"1\" class=\"dataframe\">\n",
       "  <thead>\n",
       "    <tr style=\"text-align: right;\">\n",
       "      <th></th>\n",
       "      <th>UserId</th>\n",
       "      <th>ItemId</th>\n",
       "      <th>Rating</th>\n",
       "      <th>Time</th>\n",
       "      <th>item_idx</th>\n",
       "    </tr>\n",
       "  </thead>\n",
       "  <tbody>\n",
       "    <tr>\n",
       "      <th>1000138</th>\n",
       "      <td>6040</td>\n",
       "      <td>858</td>\n",
       "      <td>4</td>\n",
       "      <td>2000-04-25 23:05:32</td>\n",
       "      <td>0</td>\n",
       "    </tr>\n",
       "    <tr>\n",
       "      <th>999873</th>\n",
       "      <td>6040</td>\n",
       "      <td>593</td>\n",
       "      <td>5</td>\n",
       "      <td>2000-04-25 23:05:54</td>\n",
       "      <td>1</td>\n",
       "    </tr>\n",
       "    <tr>\n",
       "      <th>1000153</th>\n",
       "      <td>6040</td>\n",
       "      <td>2384</td>\n",
       "      <td>4</td>\n",
       "      <td>2000-04-25 23:05:54</td>\n",
       "      <td>2</td>\n",
       "    </tr>\n",
       "    <tr>\n",
       "      <th>1000007</th>\n",
       "      <td>6040</td>\n",
       "      <td>1961</td>\n",
       "      <td>4</td>\n",
       "      <td>2000-04-25 23:06:17</td>\n",
       "      <td>3</td>\n",
       "    </tr>\n",
       "    <tr>\n",
       "      <th>1000192</th>\n",
       "      <td>6040</td>\n",
       "      <td>2019</td>\n",
       "      <td>5</td>\n",
       "      <td>2000-04-25 23:06:17</td>\n",
       "      <td>4</td>\n",
       "    </tr>\n",
       "    <tr>\n",
       "      <th>999868</th>\n",
       "      <td>6040</td>\n",
       "      <td>573</td>\n",
       "      <td>4</td>\n",
       "      <td>2000-04-25 23:07:36</td>\n",
       "      <td>5</td>\n",
       "    </tr>\n",
       "    <tr>\n",
       "      <th>999967</th>\n",
       "      <td>6040</td>\n",
       "      <td>3111</td>\n",
       "      <td>5</td>\n",
       "      <td>2000-04-25 23:07:36</td>\n",
       "      <td>6</td>\n",
       "    </tr>\n",
       "    <tr>\n",
       "      <th>999980</th>\n",
       "      <td>6040</td>\n",
       "      <td>3505</td>\n",
       "      <td>4</td>\n",
       "      <td>2000-04-25 23:07:36</td>\n",
       "      <td>7</td>\n",
       "    </tr>\n",
       "    <tr>\n",
       "      <th>999920</th>\n",
       "      <td>6040</td>\n",
       "      <td>213</td>\n",
       "      <td>5</td>\n",
       "      <td>2000-04-25 23:07:36</td>\n",
       "      <td>8</td>\n",
       "    </tr>\n",
       "    <tr>\n",
       "      <th>999884</th>\n",
       "      <td>6040</td>\n",
       "      <td>912</td>\n",
       "      <td>5</td>\n",
       "      <td>2000-04-25 23:09:51</td>\n",
       "      <td>9</td>\n",
       "    </tr>\n",
       "    <tr>\n",
       "      <th>999888</th>\n",
       "      <td>6040</td>\n",
       "      <td>919</td>\n",
       "      <td>5</td>\n",
       "      <td>2000-04-25 23:09:51</td>\n",
       "      <td>10</td>\n",
       "    </tr>\n",
       "    <tr>\n",
       "      <th>999971</th>\n",
       "      <td>6040</td>\n",
       "      <td>2503</td>\n",
       "      <td>5</td>\n",
       "      <td>2000-04-25 23:09:51</td>\n",
       "      <td>11</td>\n",
       "    </tr>\n",
       "    <tr>\n",
       "      <th>1000186</th>\n",
       "      <td>6040</td>\n",
       "      <td>527</td>\n",
       "      <td>5</td>\n",
       "      <td>2000-04-25 23:10:19</td>\n",
       "      <td>12</td>\n",
       "    </tr>\n",
       "    <tr>\n",
       "      <th>999953</th>\n",
       "      <td>6040</td>\n",
       "      <td>649</td>\n",
       "      <td>5</td>\n",
       "      <td>2000-04-25 23:10:57</td>\n",
       "      <td>13</td>\n",
       "    </tr>\n",
       "    <tr>\n",
       "      <th>999991</th>\n",
       "      <td>6040</td>\n",
       "      <td>318</td>\n",
       "      <td>4</td>\n",
       "      <td>2000-04-25 23:10:57</td>\n",
       "      <td>14</td>\n",
       "    </tr>\n",
       "    <tr>\n",
       "      <th>1000063</th>\n",
       "      <td>6040</td>\n",
       "      <td>1252</td>\n",
       "      <td>5</td>\n",
       "      <td>2000-04-25 23:10:57</td>\n",
       "      <td>15</td>\n",
       "    </tr>\n",
       "    <tr>\n",
       "      <th>1000108</th>\n",
       "      <td>6040</td>\n",
       "      <td>3289</td>\n",
       "      <td>5</td>\n",
       "      <td>2000-04-25 23:11:45</td>\n",
       "      <td>16</td>\n",
       "    </tr>\n",
       "    <tr>\n",
       "      <th>1000083</th>\n",
       "      <td>6040</td>\n",
       "      <td>759</td>\n",
       "      <td>5</td>\n",
       "      <td>2000-04-25 23:14:08</td>\n",
       "      <td>17</td>\n",
       "    </tr>\n",
       "    <tr>\n",
       "      <th>999938</th>\n",
       "      <td>6040</td>\n",
       "      <td>2858</td>\n",
       "      <td>4</td>\n",
       "      <td>2000-04-25 23:14:35</td>\n",
       "      <td>18</td>\n",
       "    </tr>\n",
       "    <tr>\n",
       "      <th>999946</th>\n",
       "      <td>6040</td>\n",
       "      <td>608</td>\n",
       "      <td>4</td>\n",
       "      <td>2000-04-25 23:14:35</td>\n",
       "      <td>19</td>\n",
       "    </tr>\n",
       "    <tr>\n",
       "      <th>999992</th>\n",
       "      <td>6040</td>\n",
       "      <td>326</td>\n",
       "      <td>4</td>\n",
       "      <td>2000-04-25 23:15:19</td>\n",
       "      <td>20</td>\n",
       "    </tr>\n",
       "    <tr>\n",
       "      <th>1000101</th>\n",
       "      <td>6040</td>\n",
       "      <td>1649</td>\n",
       "      <td>5</td>\n",
       "      <td>2000-04-25 23:15:19</td>\n",
       "      <td>21</td>\n",
       "    </tr>\n",
       "    <tr>\n",
       "      <th>1000200</th>\n",
       "      <td>6040</td>\n",
       "      <td>2028</td>\n",
       "      <td>5</td>\n",
       "      <td>2000-04-25 23:15:19</td>\n",
       "      <td>22</td>\n",
       "    </tr>\n",
       "    <tr>\n",
       "      <th>1000179</th>\n",
       "      <td>6040</td>\n",
       "      <td>2762</td>\n",
       "      <td>4</td>\n",
       "      <td>2000-04-25 23:16:24</td>\n",
       "      <td>23</td>\n",
       "    </tr>\n",
       "    <tr>\n",
       "      <th>1000014</th>\n",
       "      <td>6040</td>\n",
       "      <td>34</td>\n",
       "      <td>4</td>\n",
       "      <td>2000-04-25 23:16:24</td>\n",
       "      <td>24</td>\n",
       "    </tr>\n",
       "    <tr>\n",
       "      <th>999925</th>\n",
       "      <td>6040</td>\n",
       "      <td>246</td>\n",
       "      <td>5</td>\n",
       "      <td>2000-04-25 23:16:53</td>\n",
       "      <td>25</td>\n",
       "    </tr>\n",
       "    <tr>\n",
       "      <th>1000115</th>\n",
       "      <td>6040</td>\n",
       "      <td>2692</td>\n",
       "      <td>4</td>\n",
       "      <td>2000-04-25 23:17:36</td>\n",
       "      <td>26</td>\n",
       "    </tr>\n",
       "    <tr>\n",
       "      <th>1000094</th>\n",
       "      <td>6040</td>\n",
       "      <td>1617</td>\n",
       "      <td>4</td>\n",
       "      <td>2000-04-25 23:17:53</td>\n",
       "      <td>27</td>\n",
       "    </tr>\n",
       "    <tr>\n",
       "      <th>999936</th>\n",
       "      <td>6040</td>\n",
       "      <td>1111</td>\n",
       "      <td>5</td>\n",
       "      <td>2000-04-25 23:18:36</td>\n",
       "      <td>28</td>\n",
       "    </tr>\n",
       "    <tr>\n",
       "      <th>1000139</th>\n",
       "      <td>6040</td>\n",
       "      <td>1392</td>\n",
       "      <td>5</td>\n",
       "      <td>2000-04-25 23:18:36</td>\n",
       "      <td>29</td>\n",
       "    </tr>\n",
       "  </tbody>\n",
       "</table>\n",
       "</div>"
      ],
      "text/plain": [
       "         UserId  ItemId  Rating                Time  item_idx\n",
       "1000138    6040     858       4 2000-04-25 23:05:32         0\n",
       "999873     6040     593       5 2000-04-25 23:05:54         1\n",
       "1000153    6040    2384       4 2000-04-25 23:05:54         2\n",
       "1000007    6040    1961       4 2000-04-25 23:06:17         3\n",
       "1000192    6040    2019       5 2000-04-25 23:06:17         4\n",
       "999868     6040     573       4 2000-04-25 23:07:36         5\n",
       "999967     6040    3111       5 2000-04-25 23:07:36         6\n",
       "999980     6040    3505       4 2000-04-25 23:07:36         7\n",
       "999920     6040     213       5 2000-04-25 23:07:36         8\n",
       "999884     6040     912       5 2000-04-25 23:09:51         9\n",
       "999888     6040     919       5 2000-04-25 23:09:51        10\n",
       "999971     6040    2503       5 2000-04-25 23:09:51        11\n",
       "1000186    6040     527       5 2000-04-25 23:10:19        12\n",
       "999953     6040     649       5 2000-04-25 23:10:57        13\n",
       "999991     6040     318       4 2000-04-25 23:10:57        14\n",
       "1000063    6040    1252       5 2000-04-25 23:10:57        15\n",
       "1000108    6040    3289       5 2000-04-25 23:11:45        16\n",
       "1000083    6040     759       5 2000-04-25 23:14:08        17\n",
       "999938     6040    2858       4 2000-04-25 23:14:35        18\n",
       "999946     6040     608       4 2000-04-25 23:14:35        19\n",
       "999992     6040     326       4 2000-04-25 23:15:19        20\n",
       "1000101    6040    1649       5 2000-04-25 23:15:19        21\n",
       "1000200    6040    2028       5 2000-04-25 23:15:19        22\n",
       "1000179    6040    2762       4 2000-04-25 23:16:24        23\n",
       "1000014    6040      34       4 2000-04-25 23:16:24        24\n",
       "999925     6040     246       5 2000-04-25 23:16:53        25\n",
       "1000115    6040    2692       4 2000-04-25 23:17:36        26\n",
       "1000094    6040    1617       4 2000-04-25 23:17:53        27\n",
       "999936     6040    1111       5 2000-04-25 23:18:36        28\n",
       "1000139    6040    1392       5 2000-04-25 23:18:36        29"
      ]
     },
     "execution_count": 28,
     "metadata": {},
     "output_type": "execute_result"
    }
   ],
   "source": [
    "tr_data_loader = SessionDataLoader(tr_dataset, batch_size=5)\n",
    "tr_dataset.df.head(30)"
   ]
  },
  {
   "cell_type": "code",
   "execution_count": 29,
   "id": "62c4a6ba",
   "metadata": {},
   "outputs": [
    {
     "name": "stdout",
     "output_type": "stream",
     "text": [
      "Model Input Item Idx are : [  0  45 116 138 152]\n",
      "Label Item Idx are :       [  1  46 117 139 153]\n",
      "Previous Masked Input Idx are []\n"
     ]
    }
   ],
   "source": [
    "iter_ex = iter(tr_data_loader)\n",
    "inputs, labels, mask =  next(iter_ex)\n",
    "print(f'Model Input Item Idx are : {inputs}')\n",
    "print(f'Label Item Idx are : {\"\":5} {labels}')\n",
    "print(f'Previous Masked Input Idx are {mask}')"
   ]
  },
  {
   "cell_type": "markdown",
   "id": "6e60a7e6",
   "metadata": {},
   "source": [
    "## __2. MODEL__"
   ]
  },
  {
   "cell_type": "markdown",
   "id": "70f0cb97",
   "metadata": {},
   "source": [
    "### __1. Evaluation Metric__"
   ]
  },
  {
   "cell_type": "code",
   "execution_count": 30,
   "id": "abd4a6bc",
   "metadata": {},
   "outputs": [],
   "source": [
    "def mrr_k(pred, truth: int, k: int):\n",
    "    indexing = np.where(pred[:k] == truth)[0]\n",
    "    if len(indexing) > 0:\n",
    "        return 1 / (indexing[0] + 1)\n",
    "    else:\n",
    "        return 0\n",
    "\n",
    "\n",
    "def recall_k(pred, truth: int, k: int) -> int:\n",
    "    answer = truth in pred[:k]\n",
    "    return int(answer)"
   ]
  },
  {
   "cell_type": "markdown",
   "id": "04791e41",
   "metadata": {},
   "source": [
    "### __2. Model Architecture__"
   ]
  },
  {
   "cell_type": "code",
   "execution_count": 31,
   "id": "c3cb052e",
   "metadata": {},
   "outputs": [],
   "source": [
    "def create_model(args):\n",
    "    inputs = Input(batch_shape=(args.batch_size, 1, args.num_items))\n",
    "    gru, _ = GRU(args.hsz, stateful=True, return_state=True, name='GRU')(inputs)\n",
    "    dropout = Dropout(args.drop_rate)(gru)\n",
    "    predictions = Dense(args.num_items, activation='softmax')(dropout)\n",
    "    model = Model(inputs=inputs, outputs=[predictions])\n",
    "    model.compile(loss=categorical_crossentropy, optimizer=Adam(args.lr), metrics=['accuracy'])\n",
    "    model.summary()\n",
    "    return model"
   ]
  },
  {
   "cell_type": "code",
   "execution_count": 32,
   "id": "44661100",
   "metadata": {},
   "outputs": [],
   "source": [
    "class Args:\n",
    "    def __init__(self, tr, val, test, batch_size, hsz, drop_rate, lr, epochs, k):\n",
    "        self.tr = tr\n",
    "        self.val = val\n",
    "        self.test = test\n",
    "        self.num_items = tr['ItemId'].nunique()\n",
    "        self.num_sessions = tr['UserId'].nunique()\n",
    "        self.batch_size = batch_size\n",
    "        self.hsz = hsz\n",
    "        self.drop_rate = drop_rate\n",
    "        self.lr = lr\n",
    "        self.epochs = epochs\n",
    "        self.k = k"
   ]
  },
  {
   "cell_type": "code",
   "execution_count": 33,
   "id": "d4b9da21",
   "metadata": {},
   "outputs": [],
   "source": [
    "args = Args(tr, val, test, batch_size=256, hsz=50, drop_rate=0.1, lr=0.49, epochs=5, k=20)"
   ]
  },
  {
   "cell_type": "code",
   "execution_count": 34,
   "id": "f3e7343f",
   "metadata": {},
   "outputs": [
    {
     "name": "stdout",
     "output_type": "stream",
     "text": [
      "Model: \"model\"\n",
      "_________________________________________________________________\n",
      "Layer (type)                 Output Shape              Param #   \n",
      "=================================================================\n",
      "input_1 (InputLayer)         [(256, 1, 3062)]          0         \n",
      "_________________________________________________________________\n",
      "GRU (GRU)                    [(256, 50), (256, 50)]    467100    \n",
      "_________________________________________________________________\n",
      "dropout (Dropout)            (256, 50)                 0         \n",
      "_________________________________________________________________\n",
      "dense (Dense)                (256, 3062)               156162    \n",
      "=================================================================\n",
      "Total params: 623,262\n",
      "Trainable params: 623,262\n",
      "Non-trainable params: 0\n",
      "_________________________________________________________________\n"
     ]
    }
   ],
   "source": [
    "model = create_model(args)"
   ]
  },
  {
   "cell_type": "markdown",
   "id": "3992788a",
   "metadata": {},
   "source": [
    "### __3. Model Training__"
   ]
  },
  {
   "cell_type": "code",
   "execution_count": 35,
   "id": "f54b567e",
   "metadata": {},
   "outputs": [],
   "source": [
    "def train_model(model, args):\n",
    "    train_dataset = SessionDataset(args.tr)\n",
    "    train_loader = SessionDataLoader(train_dataset, batch_size=args.batch_size)\n",
    "\n",
    "    for epoch in range(1, args.epochs + 1):\n",
    "        total_step = len(args.tr) - args.tr['UserId'].nunique()\n",
    "        tr_loader = tqdm(train_loader, total=total_step // args.batch_size, desc='Train', mininterval=1)\n",
    "        for feat, target, mask in tr_loader:\n",
    "            reset_hidden_states(model, mask)  # 종료된 session은 hidden_state를 초기화합니다. 아래 메서드에서 확인해주세요.\n",
    "\n",
    "            input_ohe = to_categorical(feat, num_classes=args.num_items)\n",
    "            input_ohe = np.expand_dims(input_ohe, axis=1)\n",
    "            target_ohe = to_categorical(target, num_classes=args.num_items)\n",
    "\n",
    "            result = model.train_on_batch(input_ohe, target_ohe)\n",
    "            tr_loader.set_postfix(train_loss=result[0], accuracy = result[1])\n",
    "\n",
    "        val_recall, val_mrr = get_metrics(args.val, model, args, args.k)  # valid set에 대해 검증합니다.\n",
    "\n",
    "        print(f\"\\t - Recall@{args.k} epoch {epoch}: {val_recall:3f}\")\n",
    "        print(f\"\\t - MRR@{args.k}    epoch {epoch}: {val_mrr:3f}\\n\")\n",
    "\n",
    "\n",
    "def reset_hidden_states(model, mask):\n",
    "    gru_layer = model.get_layer(name='GRU')  # model에서 gru layer를 가져옵니다.\n",
    "    hidden_states = gru_layer.states[0].numpy()  # gru_layer의 parameter를 가져옵니다.\n",
    "    for elt in mask:  # mask된 인덱스 즉, 종료된 세션의 인덱스를 돌면서\n",
    "        hidden_states[elt, :] = 0  # parameter를 초기화 합니다.\n",
    "    gru_layer.reset_states(states=hidden_states)\n",
    "\n",
    "\n",
    "def get_metrics(data, model, args, k: int):  # valid셋과 test셋을 평가하는 코드입니다. \n",
    "                                             # train과 거의 같지만 mrr, recall을 구하는 라인이 있습니다.\n",
    "    dataset = SessionDataset(data)\n",
    "    loader = SessionDataLoader(dataset, batch_size=args.batch_size)\n",
    "    recall_list, mrr_list = [], []\n",
    "\n",
    "    total_step = len(data) - data['UserId'].nunique()\n",
    "    for inputs, label, mask in tqdm(loader, total=total_step // args.batch_size, desc='Evaluation', mininterval=1):\n",
    "        reset_hidden_states(model, mask)\n",
    "        input_ohe = to_categorical(inputs, num_classes=args.num_items)\n",
    "        input_ohe = np.expand_dims(input_ohe, axis=1)\n",
    "\n",
    "        pred = model.predict(input_ohe, batch_size=args.batch_size)\n",
    "        pred_arg = tf.argsort(pred, direction='DESCENDING')  # softmax 값이 큰 순서대로 sorting 합니다.\n",
    "\n",
    "        length = len(inputs)\n",
    "        recall_list.extend([recall_k(pred_arg[i], label[i], k) for i in range(length)])\n",
    "        mrr_list.extend([mrr_k(pred_arg[i], label[i], k) for i in range(length)])\n",
    "\n",
    "    recall, mrr = np.mean(recall_list), np.mean(mrr_list)\n",
    "    return recall, mrr"
   ]
  },
  {
   "cell_type": "code",
   "execution_count": 36,
   "id": "1da7d4f7",
   "metadata": {},
   "outputs": [
    {
     "name": "stderr",
     "output_type": "stream",
     "text": [
      "Train:  96%|█████████▌| 2081/2175 [00:44<00:01, 47.17it/s, accuracy=0, train_loss=7.89]      \n",
      "Evaluation:   9%|▊         | 2/23 [00:02<00:27,  1.31s/it]\n"
     ]
    },
    {
     "name": "stdout",
     "output_type": "stream",
     "text": [
      "\t - Recall@20 epoch 1: 0.023438\n",
      "\t - MRR@20    epoch 1: 0.006140\n",
      "\n"
     ]
    },
    {
     "name": "stderr",
     "output_type": "stream",
     "text": [
      "Train:  96%|█████████▌| 2081/2175 [00:39<00:01, 52.38it/s, accuracy=0, train_loss=7.87]      \n",
      "Evaluation:   9%|▊         | 2/23 [00:02<00:24,  1.17s/it]\n"
     ]
    },
    {
     "name": "stdout",
     "output_type": "stream",
     "text": [
      "\t - Recall@20 epoch 2: 0.025391\n",
      "\t - MRR@20    epoch 2: 0.006171\n",
      "\n"
     ]
    },
    {
     "name": "stderr",
     "output_type": "stream",
     "text": [
      "Train:  96%|█████████▌| 2081/2175 [00:39<00:01, 52.89it/s, accuracy=0, train_loss=7.77]      \n",
      "Evaluation:   9%|▊         | 2/23 [00:02<00:24,  1.16s/it]\n"
     ]
    },
    {
     "name": "stdout",
     "output_type": "stream",
     "text": [
      "\t - Recall@20 epoch 3: 0.025391\n",
      "\t - MRR@20    epoch 3: 0.007968\n",
      "\n"
     ]
    },
    {
     "name": "stderr",
     "output_type": "stream",
     "text": [
      "Train:  96%|█████████▌| 2081/2175 [00:39<00:01, 52.71it/s, accuracy=0, train_loss=7.64]      \n",
      "Evaluation:   9%|▊         | 2/23 [00:02<00:24,  1.15s/it]\n"
     ]
    },
    {
     "name": "stdout",
     "output_type": "stream",
     "text": [
      "\t - Recall@20 epoch 4: 0.037109\n",
      "\t - MRR@20    epoch 4: 0.008585\n",
      "\n"
     ]
    },
    {
     "name": "stderr",
     "output_type": "stream",
     "text": [
      "Train:  96%|█████████▌| 2081/2175 [00:39<00:01, 52.86it/s, accuracy=0, train_loss=7.63]      \n",
      "Evaluation:   9%|▊         | 2/23 [00:02<00:23,  1.13s/it]"
     ]
    },
    {
     "name": "stdout",
     "output_type": "stream",
     "text": [
      "\t - Recall@20 epoch 5: 0.037109\n",
      "\t - MRR@20    epoch 5: 0.008574\n",
      "\n"
     ]
    },
    {
     "name": "stderr",
     "output_type": "stream",
     "text": [
      "\n"
     ]
    }
   ],
   "source": [
    "train_model(model, args)"
   ]
  },
  {
   "cell_type": "markdown",
   "id": "efd6ac83",
   "metadata": {},
   "source": [
    "## __4. Inference__"
   ]
  },
  {
   "cell_type": "code",
   "execution_count": 37,
   "id": "fb7a8fc1",
   "metadata": {},
   "outputs": [],
   "source": [
    "def test_model(model, args, test):\n",
    "    test_recall, test_mrr = get_metrics(test, model, args, 20)\n",
    "    print(f\"\\t - Recall@{args.k}: {test_recall:3f}\")\n",
    "    print(f\"\\t - MRR@{args.k}: {test_mrr:3f}\\n\")"
   ]
  },
  {
   "cell_type": "markdown",
   "id": "3668e471",
   "metadata": {},
   "source": [
    "### __1. Trial 0__"
   ]
  },
  {
   "cell_type": "code",
   "execution_count": 38,
   "id": "8ff8e8bd",
   "metadata": {},
   "outputs": [
    {
     "name": "stderr",
     "output_type": "stream",
     "text": [
      "Evaluation:   6%|▌         | 1/17 [00:01<00:17,  1.12s/it]"
     ]
    },
    {
     "name": "stdout",
     "output_type": "stream",
     "text": [
      "\t - Recall@20: 0.035156\n",
      "\t - MRR@20: 0.007042\n",
      "\n"
     ]
    },
    {
     "name": "stderr",
     "output_type": "stream",
     "text": [
      "\n"
     ]
    }
   ],
   "source": [
    "test_model(model, args, test)"
   ]
  },
  {
   "cell_type": "markdown",
   "id": "93f6ed37",
   "metadata": {},
   "source": [
    "### __2. Trial 1__"
   ]
  },
  {
   "cell_type": "code",
   "execution_count": 39,
   "id": "a17490da",
   "metadata": {},
   "outputs": [
    {
     "name": "stderr",
     "output_type": "stream",
     "text": [
      "Train:  96%|█████████▌| 2081/2175 [00:39<00:01, 52.85it/s, accuracy=0, train_loss=7.63]      \n",
      "Evaluation:   9%|▊         | 2/23 [00:02<00:24,  1.14s/it]\n"
     ]
    },
    {
     "name": "stdout",
     "output_type": "stream",
     "text": [
      "\t - Recall@20 epoch 1: 0.037109\n",
      "\t - MRR@20    epoch 1: 0.008574\n",
      "\n"
     ]
    },
    {
     "name": "stderr",
     "output_type": "stream",
     "text": [
      "Train:  96%|█████████▌| 2081/2175 [00:39<00:01, 52.61it/s, accuracy=0, train_loss=7.63]      \n",
      "Evaluation:   9%|▊         | 2/23 [00:02<00:24,  1.16s/it]\n"
     ]
    },
    {
     "name": "stdout",
     "output_type": "stream",
     "text": [
      "\t - Recall@20 epoch 2: 0.037109\n",
      "\t - MRR@20    epoch 2: 0.008574\n",
      "\n"
     ]
    },
    {
     "name": "stderr",
     "output_type": "stream",
     "text": [
      "Train:  96%|█████████▌| 2081/2175 [00:39<00:01, 52.97it/s, accuracy=0, train_loss=7.63]      \n",
      "Evaluation:   9%|▊         | 2/23 [00:02<00:23,  1.14s/it]"
     ]
    },
    {
     "name": "stdout",
     "output_type": "stream",
     "text": [
      "\t - Recall@20 epoch 3: 0.037109\n",
      "\t - MRR@20    epoch 3: 0.008574\n",
      "\n"
     ]
    },
    {
     "name": "stderr",
     "output_type": "stream",
     "text": [
      "\n"
     ]
    }
   ],
   "source": [
    "args = Args(tr, val, test, batch_size=256, hsz=50, drop_rate=0.3, lr=0.1, epochs=3, k=20)\n",
    "train_model(model, args)"
   ]
  },
  {
   "cell_type": "code",
   "execution_count": 40,
   "id": "746a4a79",
   "metadata": {},
   "outputs": [
    {
     "name": "stderr",
     "output_type": "stream",
     "text": [
      "Evaluation:   6%|▌         | 1/17 [00:01<00:18,  1.15s/it]"
     ]
    },
    {
     "name": "stdout",
     "output_type": "stream",
     "text": [
      "\t - Recall@20: 0.035156\n",
      "\t - MRR@20: 0.007042\n",
      "\n"
     ]
    },
    {
     "name": "stderr",
     "output_type": "stream",
     "text": [
      "\n"
     ]
    }
   ],
   "source": [
    "test_model(model, args, test)"
   ]
  },
  {
   "cell_type": "markdown",
   "id": "135ef956",
   "metadata": {},
   "source": [
    "### __3. Trial 2__"
   ]
  },
  {
   "cell_type": "code",
   "execution_count": 41,
   "id": "e95b18ed",
   "metadata": {},
   "outputs": [
    {
     "name": "stderr",
     "output_type": "stream",
     "text": [
      "Train:  96%|█████████▌| 2081/2175 [00:39<00:01, 52.91it/s, accuracy=0, train_loss=7.63]      \n",
      "Evaluation:   9%|▊         | 2/23 [00:02<00:23,  1.14s/it]\n"
     ]
    },
    {
     "name": "stdout",
     "output_type": "stream",
     "text": [
      "\t - Recall@20 epoch 1: 0.037109\n",
      "\t - MRR@20    epoch 1: 0.008574\n",
      "\n"
     ]
    },
    {
     "name": "stderr",
     "output_type": "stream",
     "text": [
      "Train:  96%|█████████▌| 2081/2175 [00:39<00:01, 53.30it/s, accuracy=0, train_loss=7.64]      \n",
      "Evaluation:   9%|▊         | 2/23 [00:02<00:23,  1.12s/it]\n"
     ]
    },
    {
     "name": "stdout",
     "output_type": "stream",
     "text": [
      "\t - Recall@20 epoch 2: 0.037109\n",
      "\t - MRR@20    epoch 2: 0.008574\n",
      "\n"
     ]
    },
    {
     "name": "stderr",
     "output_type": "stream",
     "text": [
      "Train:  96%|█████████▌| 2081/2175 [00:38<00:01, 53.37it/s, accuracy=0, train_loss=7.63]      \n",
      "Evaluation:   9%|▊         | 2/23 [00:02<00:23,  1.13s/it]"
     ]
    },
    {
     "name": "stdout",
     "output_type": "stream",
     "text": [
      "\t - Recall@20 epoch 3: 0.037109\n",
      "\t - MRR@20    epoch 3: 0.008574\n",
      "\n"
     ]
    },
    {
     "name": "stderr",
     "output_type": "stream",
     "text": [
      "\n"
     ]
    }
   ],
   "source": [
    "args = Args(tr, val, test, batch_size=256, hsz=50, drop_rate=0.23132, lr=0.1, epochs=3, k=20)\n",
    "train_model(model, args)"
   ]
  },
  {
   "cell_type": "code",
   "execution_count": 42,
   "id": "3e151cf2",
   "metadata": {},
   "outputs": [
    {
     "name": "stderr",
     "output_type": "stream",
     "text": [
      "Evaluation:   6%|▌         | 1/17 [00:01<00:17,  1.10s/it]"
     ]
    },
    {
     "name": "stdout",
     "output_type": "stream",
     "text": [
      "\t - Recall@20: 0.035156\n",
      "\t - MRR@20: 0.007042\n",
      "\n"
     ]
    },
    {
     "name": "stderr",
     "output_type": "stream",
     "text": [
      "\n"
     ]
    }
   ],
   "source": [
    "test_model(model, args, test)"
   ]
  },
  {
   "cell_type": "markdown",
   "id": "6d8ae98b",
   "metadata": {},
   "source": [
    "## 5. Retrospection"
   ]
  },
  {
   "cell_type": "markdown",
   "id": "28cac305",
   "metadata": {},
   "source": [
    "어느덧 마지막 익스에 도달했다.  \n",
    "내일 부터 고잉디퍼를 빡세개 나가야 한다는 생각에 벌써부터 눈동자가 흔들리지만.. 내가 선택 한 길이라는 생각에 악으로 깡으로 버티겠습니다.  \n",
    "인공지능 알고리즘을 활용한 추천 시스템에 대한 2번째 익스 인 것 같습니다.  \n",
    "이런 식이라면 최근 매일 같이 개발자 양성을 위한 맞춤형 광고의 원리가 어느 정도 이해가 된다고 생각합니다.  \n",
    "또한 이번 모델의 경우 상당히 가벼워 보이지만 원리는 그렇지 못 하다고 생각합니다.  \n",
    "그래서 학습의 시간이 많이 소요될 것이라고 생각 됩니다."
   ]
  },
  {
   "cell_type": "code",
   "execution_count": null,
   "id": "b4ffbeb5",
   "metadata": {},
   "outputs": [],
   "source": []
  }
 ],
 "metadata": {
  "kernelspec": {
   "display_name": "Python 3 (ipykernel)",
   "language": "python",
   "name": "python3"
  },
  "language_info": {
   "codemirror_mode": {
    "name": "ipython",
    "version": 3
   },
   "file_extension": ".py",
   "mimetype": "text/x-python",
   "name": "python",
   "nbconvert_exporter": "python",
   "pygments_lexer": "ipython3",
   "version": "3.9.7"
  }
 },
 "nbformat": 4,
 "nbformat_minor": 5
}
