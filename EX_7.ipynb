{
 "cells": [
  {
   "cell_type": "markdown",
   "id": "9d0f2759",
   "metadata": {},
   "source": [
    "# __프로젝트: 뉴스기사 요약해보기__"
   ]
  },
  {
   "cell_type": "markdown",
   "id": "249cb744",
   "metadata": {},
   "source": [
    "## 목차\n",
    "### STEP. 0. 라이브러리📚 호출 🗣️\n",
    "### STEP. 1 데이터 전처리\n",
    "- 1. 데이터 가져오기\n",
    "- 2. 중복값 및 Null값 제거\n",
    "- 3. 불🔥용어 제거\n",
    "- 4. 샘플의 길이📏 정하기\n",
    "- 5. 토큰 🪙\n",
    "- 6. 단어집합 만들기\n",
    "- 7. Padding\n",
    "\n",
    "### STEP. 2 어텐션 메커니즘 사용하기\n",
    "### STEP. 3 실제 결과와 요약문 비교하기\n",
    "### STEP. 4 Summa을 이용해서 추출적 요약해보기\n",
    "### STEP. 5 회고"
   ]
  },
  {
   "cell_type": "markdown",
   "id": "3cb5a750",
   "metadata": {},
   "source": [
    "## STEP 0. 라이브러리📚 호출 🗣️"
   ]
  },
  {
   "cell_type": "code",
   "execution_count": 1,
   "id": "ceef33dd",
   "metadata": {},
   "outputs": [],
   "source": [
    "import os\n",
    "import numpy as np\n",
    "import pandas as pd\n",
    "import re\n",
    "import matplotlib.pyplot as plt\n",
    "import nltk\n",
    "from nltk.corpus import stopwords\n",
    "from bs4 import BeautifulSoup \n",
    "import urllib.request\n",
    "import requests\n",
    "from summa.summarizer import summarize\n",
    "from tqdm import tqdm\n",
    "\n",
    "from tensorflow.keras.preprocessing.text import Tokenizer \n",
    "from tensorflow.keras.preprocessing.sequence import pad_sequences\n",
    "from tensorflow.keras.layers import Input, LSTM, Embedding, Dense, Concatenate\n",
    "from tensorflow.keras.models import Model\n",
    "from tensorflow.keras.layers import AdditiveAttention\n",
    "from tensorflow.keras.callbacks import EarlyStopping, ModelCheckpoint\n",
    "\n",
    "# 원문의 정수 시퀀스를 텍스트 시퀀스로 변환\n",
    "def seq2text(input_seq):\n",
    "    temp=''\n",
    "    for i in input_seq:\n",
    "        if (i!=0):\n",
    "            temp = temp + src_index_to_word[i]+' '\n",
    "    return temp\n",
    "\n",
    "\n",
    "# 요약문의 정수 시퀀스를 텍스트 시퀀스로 변환\n",
    "def seq2summary(input_seq):\n",
    "    temp=''\n",
    "    for i in input_seq:\n",
    "        if ((i!=0 and i!=tar_word_to_index['sostoken']) and i!=tar_word_to_index['eostoken']):\n",
    "            temp = temp + tar_index_to_word[i] + ' '\n",
    "    return temp\n",
    "\n",
    "def decode_sequence(input_seq):\n",
    "    # 입력으로부터 인코더의 상태를 얻음\n",
    "    e_out, e_h, e_c = encoder_model.predict(input_seq)\n",
    "\n",
    "     # <SOS>에 해당하는 토큰 생성\n",
    "    target_seq = np.zeros((1,1))\n",
    "    target_seq[0, 0] = tar_word_to_index['sostoken']\n",
    "\n",
    "    stop_condition = False\n",
    "    decoded_sentence = ''\n",
    "    while not stop_condition: # stop_condition이 True가 될 때까지 루프 반복\n",
    "\n",
    "        output_tokens, h, c = decoder_model.predict([target_seq] + [e_out, e_h, e_c])\n",
    "        sampled_token_index = np.argmax(output_tokens[0, -1, :])\n",
    "        sampled_token = tar_index_to_word[sampled_token_index]\n",
    "\n",
    "        if(sampled_token!='eostoken'):\n",
    "            decoded_sentence += ' '+sampled_token\n",
    "\n",
    "        #  <eos>에 도달하거나 최대 길이를 넘으면 중단.\n",
    "        if (sampled_token == 'eostoken'  or len(decoded_sentence.split()) >= (headlines_max_len-1)):\n",
    "            stop_condition = True\n",
    "\n",
    "        # 길이가 1인 타겟 시퀀스를 업데이트\n",
    "        target_seq = np.zeros((1,1))\n",
    "        target_seq[0, 0] = sampled_token_index\n",
    "\n",
    "        # 상태를 업데이트 합니다.\n",
    "        e_h, e_c = h, c\n",
    "\n",
    "    return decoded_sentence"
   ]
  },
  {
   "cell_type": "markdown",
   "id": "ca917a9b",
   "metadata": {},
   "source": [
    "## STEP. 1 데이터 전처리"
   ]
  },
  {
   "cell_type": "markdown",
   "id": "ffbe67d7",
   "metadata": {},
   "source": [
    "### 1. 데이터 가져오기"
   ]
  },
  {
   "cell_type": "code",
   "execution_count": 2,
   "id": "6f39dae6",
   "metadata": {},
   "outputs": [],
   "source": [
    "urllib.request.urlretrieve(\"https://raw.githubusercontent.com/sunnysai12345/News_Summary/master/news_summary_more.csv\", filename=\"news_summary_more.csv\")\n",
    "data = pd.read_csv('news_summary_more.csv', encoding='iso-8859-1')"
   ]
  },
  {
   "cell_type": "code",
   "execution_count": 3,
   "id": "c0429da0",
   "metadata": {},
   "outputs": [
    {
     "data": {
      "text/html": [
       "<div>\n",
       "<style scoped>\n",
       "    .dataframe tbody tr th:only-of-type {\n",
       "        vertical-align: middle;\n",
       "    }\n",
       "\n",
       "    .dataframe tbody tr th {\n",
       "        vertical-align: top;\n",
       "    }\n",
       "\n",
       "    .dataframe thead th {\n",
       "        text-align: right;\n",
       "    }\n",
       "</style>\n",
       "<table border=\"1\" class=\"dataframe\">\n",
       "  <thead>\n",
       "    <tr style=\"text-align: right;\">\n",
       "      <th></th>\n",
       "      <th>headlines</th>\n",
       "      <th>text</th>\n",
       "    </tr>\n",
       "  </thead>\n",
       "  <tbody>\n",
       "    <tr>\n",
       "      <th>55298</th>\n",
       "      <td>Rajkummar Rao, Alia Bhatt named Hottest Vegeta...</td>\n",
       "      <td>Rajkummar Rao and Alia Bhatt have been named t...</td>\n",
       "    </tr>\n",
       "    <tr>\n",
       "      <th>86594</th>\n",
       "      <td>Aus, NZ take a point each as match abandoned d...</td>\n",
       "      <td>The second match of the Champions Trophy 2017 ...</td>\n",
       "    </tr>\n",
       "    <tr>\n",
       "      <th>79952</th>\n",
       "      <td>Priyanka made acting debut in 2002 Tamil film ...</td>\n",
       "      <td>Actress Priyanka Chopra, who turned 35 on Tues...</td>\n",
       "    </tr>\n",
       "    <tr>\n",
       "      <th>42236</th>\n",
       "      <td>19-yr-old Rashid Khan fastest to 100 wickets i...</td>\n",
       "      <td>Afghan spinner Rashid Khan has become the fast...</td>\n",
       "    </tr>\n",
       "    <tr>\n",
       "      <th>96882</th>\n",
       "      <td>Health Minister tables bill to decriminalise s...</td>\n",
       "      <td>Union Health Minister JP Nadda has presented a...</td>\n",
       "    </tr>\n",
       "    <tr>\n",
       "      <th>85464</th>\n",
       "      <td>BJP's Patra falls for fake news while tweeting...</td>\n",
       "      <td>BJP spokesperson Sambit Patra fell for a fake ...</td>\n",
       "    </tr>\n",
       "    <tr>\n",
       "      <th>4668</th>\n",
       "      <td>O Raja reinducted following forget &amp; forgive p...</td>\n",
       "      <td>The AIADMK on Wednesday said Tamil Nadu Deputy...</td>\n",
       "    </tr>\n",
       "    <tr>\n",
       "      <th>21217</th>\n",
       "      <td>Came to Mumbai from a village to become a good...</td>\n",
       "      <td>Rajpal Yadav, while talking about his journey ...</td>\n",
       "    </tr>\n",
       "    <tr>\n",
       "      <th>31826</th>\n",
       "      <td>Regret dating him before divorce: SmithÃ¢ÂÂs...</td>\n",
       "      <td>Actor Jada Pinkett Smith said she regretted da...</td>\n",
       "    </tr>\n",
       "    <tr>\n",
       "      <th>8898</th>\n",
       "      <td>Ensure our citizens' safety: China to Pak afte...</td>\n",
       "      <td>Following the terror attack on the Chinese con...</td>\n",
       "    </tr>\n",
       "    <tr>\n",
       "      <th>25083</th>\n",
       "      <td>Would love to get man like Prabhas for daughte...</td>\n",
       "      <td>'Baahubali' actress Anushka Shetty's mother Pr...</td>\n",
       "    </tr>\n",
       "    <tr>\n",
       "      <th>80061</th>\n",
       "      <td>Not being allowed to speak in RS, so I'm resig...</td>\n",
       "      <td>Bahujan Samaj Party chief Mayawati said that s...</td>\n",
       "    </tr>\n",
       "    <tr>\n",
       "      <th>83994</th>\n",
       "      <td>I hope trend of actors singing in films dies o...</td>\n",
       "      <td>Singer Neha Bhasin said that she hopes the tre...</td>\n",
       "    </tr>\n",
       "    <tr>\n",
       "      <th>55497</th>\n",
       "      <td>Which celebrities passed away in 2017?</td>\n",
       "      <td>Veteran actor Om Puri passed away at the age o...</td>\n",
       "    </tr>\n",
       "    <tr>\n",
       "      <th>14621</th>\n",
       "      <td>Pak Opp'n leader Shehbaz Sharif arrested on co...</td>\n",
       "      <td>Pakistan's Leader of Opposition in the Nationa...</td>\n",
       "    </tr>\n",
       "    <tr>\n",
       "      <th>13714</th>\n",
       "      <td>We need to listen before reacting: Saif on #Me...</td>\n",
       "      <td>Saif Ali Khan has said that he did not notice ...</td>\n",
       "    </tr>\n",
       "    <tr>\n",
       "      <th>63534</th>\n",
       "      <td>Mumbai Cong Prez booked for holding rally with...</td>\n",
       "      <td>The police filed a case against Mumbai Congres...</td>\n",
       "    </tr>\n",
       "    <tr>\n",
       "      <th>83750</th>\n",
       "      <td>Man walks pet lion through Russian city</td>\n",
       "      <td>A video of a Russian man, walking his male pet...</td>\n",
       "    </tr>\n",
       "    <tr>\n",
       "      <th>21899</th>\n",
       "      <td>UIDAI to sensitise public on dos &amp; don'ts of s...</td>\n",
       "      <td>The UIDAI is planning to sensitise people on t...</td>\n",
       "    </tr>\n",
       "    <tr>\n",
       "      <th>96091</th>\n",
       "      <td>An 'eternal flame' burns under a waterfall in ...</td>\n",
       "      <td>At the Eternal Flame Falls in New York, United...</td>\n",
       "    </tr>\n",
       "  </tbody>\n",
       "</table>\n",
       "</div>"
      ],
      "text/plain": [
       "                                               headlines  \\\n",
       "55298  Rajkummar Rao, Alia Bhatt named Hottest Vegeta...   \n",
       "86594  Aus, NZ take a point each as match abandoned d...   \n",
       "79952  Priyanka made acting debut in 2002 Tamil film ...   \n",
       "42236  19-yr-old Rashid Khan fastest to 100 wickets i...   \n",
       "96882  Health Minister tables bill to decriminalise s...   \n",
       "85464  BJP's Patra falls for fake news while tweeting...   \n",
       "4668   O Raja reinducted following forget & forgive p...   \n",
       "21217  Came to Mumbai from a village to become a good...   \n",
       "31826  Regret dating him before divorce: SmithÃ¢ÂÂs...   \n",
       "8898   Ensure our citizens' safety: China to Pak afte...   \n",
       "25083  Would love to get man like Prabhas for daughte...   \n",
       "80061  Not being allowed to speak in RS, so I'm resig...   \n",
       "83994  I hope trend of actors singing in films dies o...   \n",
       "55497             Which celebrities passed away in 2017?   \n",
       "14621  Pak Opp'n leader Shehbaz Sharif arrested on co...   \n",
       "13714  We need to listen before reacting: Saif on #Me...   \n",
       "63534  Mumbai Cong Prez booked for holding rally with...   \n",
       "83750            Man walks pet lion through Russian city   \n",
       "21899  UIDAI to sensitise public on dos & don'ts of s...   \n",
       "96091  An 'eternal flame' burns under a waterfall in ...   \n",
       "\n",
       "                                                    text  \n",
       "55298  Rajkummar Rao and Alia Bhatt have been named t...  \n",
       "86594  The second match of the Champions Trophy 2017 ...  \n",
       "79952  Actress Priyanka Chopra, who turned 35 on Tues...  \n",
       "42236  Afghan spinner Rashid Khan has become the fast...  \n",
       "96882  Union Health Minister JP Nadda has presented a...  \n",
       "85464  BJP spokesperson Sambit Patra fell for a fake ...  \n",
       "4668   The AIADMK on Wednesday said Tamil Nadu Deputy...  \n",
       "21217  Rajpal Yadav, while talking about his journey ...  \n",
       "31826  Actor Jada Pinkett Smith said she regretted da...  \n",
       "8898   Following the terror attack on the Chinese con...  \n",
       "25083  'Baahubali' actress Anushka Shetty's mother Pr...  \n",
       "80061  Bahujan Samaj Party chief Mayawati said that s...  \n",
       "83994  Singer Neha Bhasin said that she hopes the tre...  \n",
       "55497  Veteran actor Om Puri passed away at the age o...  \n",
       "14621  Pakistan's Leader of Opposition in the Nationa...  \n",
       "13714  Saif Ali Khan has said that he did not notice ...  \n",
       "63534  The police filed a case against Mumbai Congres...  \n",
       "83750  A video of a Russian man, walking his male pet...  \n",
       "21899  The UIDAI is planning to sensitise people on t...  \n",
       "96091  At the Eternal Flame Falls in New York, United...  "
      ]
     },
     "execution_count": 3,
     "metadata": {},
     "output_type": "execute_result"
    }
   ],
   "source": [
    "data.sample(20)"
   ]
  },
  {
   "cell_type": "markdown",
   "id": "51c6e871",
   "metadata": {},
   "source": [
    "### 2. 중복값 및 Null값 제거"
   ]
  },
  {
   "cell_type": "code",
   "execution_count": 4,
   "id": "cd35800b",
   "metadata": {
    "scrolled": true
   },
   "outputs": [
    {
     "name": "stdout",
     "output_type": "stream",
     "text": [
      "뉴스📰의 핵심 headline에서 중복을 배제한 유일한 샘플의 수 : 98280\n",
      "기사📰의 본문에서 중복을 배제한 유일한 샘플의 수 : 98360\n"
     ]
    }
   ],
   "source": [
    "print('뉴스📰의 핵심 headline에서 중복을 배제한 유일한 샘플의 수 :', data['headlines'].nunique())\n",
    "print('기사📰의 본문에서 중복을 배제한 유일한 샘플의 수 :', data['text'].nunique())"
   ]
  },
  {
   "cell_type": "code",
   "execution_count": 5,
   "id": "ef8cd249",
   "metadata": {},
   "outputs": [
    {
     "name": "stdout",
     "output_type": "stream",
     "text": [
      "전체 샘플수 : 98360\n"
     ]
    }
   ],
   "source": [
    "data.drop_duplicates(subset = ['text'], inplace = True)\n",
    "print('전체 샘플수 :',(len(data)))"
   ]
  },
  {
   "cell_type": "code",
   "execution_count": 6,
   "id": "5bad5f42",
   "metadata": {},
   "outputs": [
    {
     "name": "stdout",
     "output_type": "stream",
     "text": [
      "headlines    0\n",
      "text         0\n",
      "dtype: int64\n"
     ]
    }
   ],
   "source": [
    "print(data.isnull().sum())"
   ]
  },
  {
   "cell_type": "code",
   "execution_count": 7,
   "id": "7231901d",
   "metadata": {},
   "outputs": [
    {
     "name": "stdout",
     "output_type": "stream",
     "text": [
      "전체 샘플수 : 98360\n"
     ]
    }
   ],
   "source": [
    "data.dropna(axis = 0, inplace = True)\n",
    "print('전체 샘플수 :',(len(data)))"
   ]
  },
  {
   "cell_type": "markdown",
   "id": "37093483",
   "metadata": {},
   "source": [
    "### 3. 불🔥용어 제거"
   ]
  },
  {
   "cell_type": "code",
   "execution_count": 8,
   "id": "74f42427",
   "metadata": {},
   "outputs": [
    {
     "name": "stdout",
     "output_type": "stream",
     "text": [
      "정규화 사전의 수:  120\n"
     ]
    }
   ],
   "source": [
    "contractions = {\"ain't\": \"is not\", \"aren't\": \"are not\",\"can't\": \"cannot\", \"'cause\": \"because\", \"could've\": \"could have\", \"couldn't\": \"could not\",\n",
    "                           \"didn't\": \"did not\",  \"doesn't\": \"does not\", \"don't\": \"do not\", \"hadn't\": \"had not\", \"hasn't\": \"has not\", \"haven't\": \"have not\",\n",
    "                           \"he'd\": \"he would\",\"he'll\": \"he will\", \"he's\": \"he is\", \"how'd\": \"how did\", \"how'd'y\": \"how do you\", \"how'll\": \"how will\", \"how's\": \"how is\",\n",
    "                           \"I'd\": \"I would\", \"I'd've\": \"I would have\", \"I'll\": \"I will\", \"I'll've\": \"I will have\",\"I'm\": \"I am\", \"I've\": \"I have\", \"i'd\": \"i would\",\n",
    "                           \"i'd've\": \"i would have\", \"i'll\": \"i will\",  \"i'll've\": \"i will have\",\"i'm\": \"i am\", \"i've\": \"i have\", \"isn't\": \"is not\", \"it'd\": \"it would\",\n",
    "                           \"it'd've\": \"it would have\", \"it'll\": \"it will\", \"it'll've\": \"it will have\",\"it's\": \"it is\", \"let's\": \"let us\", \"ma'am\": \"madam\",\n",
    "                           \"mayn't\": \"may not\", \"might've\": \"might have\",\"mightn't\": \"might not\",\"mightn't've\": \"might not have\", \"must've\": \"must have\",\n",
    "                           \"mustn't\": \"must not\", \"mustn't've\": \"must not have\", \"needn't\": \"need not\", \"needn't've\": \"need not have\",\"o'clock\": \"of the clock\",\n",
    "                           \"oughtn't\": \"ought not\", \"oughtn't've\": \"ought not have\", \"shan't\": \"shall not\", \"sha'n't\": \"shall not\", \"shan't've\": \"shall not have\",\n",
    "                           \"she'd\": \"she would\", \"she'd've\": \"she would have\", \"she'll\": \"she will\", \"she'll've\": \"she will have\", \"she's\": \"she is\",\n",
    "                           \"should've\": \"should have\", \"shouldn't\": \"should not\", \"shouldn't've\": \"should not have\", \"so've\": \"so have\",\"so's\": \"so as\",\n",
    "                           \"this's\": \"this is\",\"that'd\": \"that would\", \"that'd've\": \"that would have\", \"that's\": \"that is\", \"there'd\": \"there would\",\n",
    "                           \"there'd've\": \"there would have\", \"there's\": \"there is\", \"here's\": \"here is\",\"they'd\": \"they would\", \"they'd've\": \"they would have\",\n",
    "                           \"they'll\": \"they will\", \"they'll've\": \"they will have\", \"they're\": \"they are\", \"they've\": \"they have\", \"to've\": \"to have\",\n",
    "                           \"wasn't\": \"was not\", \"we'd\": \"we would\", \"we'd've\": \"we would have\", \"we'll\": \"we will\", \"we'll've\": \"we will have\", \"we're\": \"we are\",\n",
    "                           \"we've\": \"we have\", \"weren't\": \"were not\", \"what'll\": \"what will\", \"what'll've\": \"what will have\", \"what're\": \"what are\",\n",
    "                           \"what's\": \"what is\", \"what've\": \"what have\", \"when's\": \"when is\", \"when've\": \"when have\", \"where'd\": \"where did\", \"where's\": \"where is\",\n",
    "                           \"where've\": \"where have\", \"who'll\": \"who will\", \"who'll've\": \"who will have\", \"who's\": \"who is\", \"who've\": \"who have\",\n",
    "                           \"why's\": \"why is\", \"why've\": \"why have\", \"will've\": \"will have\", \"won't\": \"will not\", \"won't've\": \"will not have\",\n",
    "                           \"would've\": \"would have\", \"wouldn't\": \"would not\", \"wouldn't've\": \"would not have\", \"y'all\": \"you all\",\n",
    "                           \"y'all'd\": \"you all would\",\"y'all'd've\": \"you all would have\",\"y'all're\": \"you all are\",\"y'all've\": \"you all have\",\n",
    "                           \"you'd\": \"you would\", \"you'd've\": \"you would have\", \"you'll\": \"you will\", \"you'll've\": \"you will have\",\n",
    "                           \"you're\": \"you are\", \"you've\": \"you have\"}\n",
    "\n",
    "print(\"정규화 사전의 수: \",len(contractions))"
   ]
  },
  {
   "cell_type": "code",
   "execution_count": 9,
   "id": "23cc7166",
   "metadata": {},
   "outputs": [
    {
     "name": "stderr",
     "output_type": "stream",
     "text": [
      "[nltk_data] Downloading package stopwords to /aiffel/nltk_data...\n",
      "[nltk_data]   Package stopwords is already up-to-date!\n"
     ]
    },
    {
     "data": {
      "text/plain": [
       "True"
      ]
     },
     "execution_count": 9,
     "metadata": {},
     "output_type": "execute_result"
    }
   ],
   "source": [
    "nltk.download('stopwords')"
   ]
  },
  {
   "cell_type": "code",
   "execution_count": 10,
   "id": "f565abba",
   "metadata": {},
   "outputs": [
    {
     "name": "stdout",
     "output_type": "stream",
     "text": [
      "불용어 개수 : 179\n",
      "['i', 'me', 'my', 'myself', 'we', 'our', 'ours', 'ourselves', 'you', \"you're\", \"you've\", \"you'll\", \"you'd\", 'your', 'yours', 'yourself', 'yourselves', 'he', 'him', 'his', 'himself', 'she', \"she's\", 'her', 'hers', 'herself', 'it', \"it's\", 'its', 'itself', 'they', 'them', 'their', 'theirs', 'themselves', 'what', 'which', 'who', 'whom', 'this', 'that', \"that'll\", 'these', 'those', 'am', 'is', 'are', 'was', 'were', 'be', 'been', 'being', 'have', 'has', 'had', 'having', 'do', 'does', 'did', 'doing', 'a', 'an', 'the', 'and', 'but', 'if', 'or', 'because', 'as', 'until', 'while', 'of', 'at', 'by', 'for', 'with', 'about', 'against', 'between', 'into', 'through', 'during', 'before', 'after', 'above', 'below', 'to', 'from', 'up', 'down', 'in', 'out', 'on', 'off', 'over', 'under', 'again', 'further', 'then', 'once', 'here', 'there', 'when', 'where', 'why', 'how', 'all', 'any', 'both', 'each', 'few', 'more', 'most', 'other', 'some', 'such', 'no', 'nor', 'not', 'only', 'own', 'same', 'so', 'than', 'too', 'very', 's', 't', 'can', 'will', 'just', 'don', \"don't\", 'should', \"should've\", 'now', 'd', 'll', 'm', 'o', 're', 've', 'y', 'ain', 'aren', \"aren't\", 'couldn', \"couldn't\", 'didn', \"didn't\", 'doesn', \"doesn't\", 'hadn', \"hadn't\", 'hasn', \"hasn't\", 'haven', \"haven't\", 'isn', \"isn't\", 'ma', 'mightn', \"mightn't\", 'mustn', \"mustn't\", 'needn', \"needn't\", 'shan', \"shan't\", 'shouldn', \"shouldn't\", 'wasn', \"wasn't\", 'weren', \"weren't\", 'won', \"won't\", 'wouldn', \"wouldn't\"]\n"
     ]
    }
   ],
   "source": [
    "print('불용어 개수 :', len(stopwords.words('english') ))\n",
    "print(stopwords.words('english'))"
   ]
  },
  {
   "cell_type": "code",
   "execution_count": 11,
   "id": "9a4d84ff",
   "metadata": {},
   "outputs": [],
   "source": [
    "#데이터 전처리 함수\n",
    "def preprocess_sentence(sentence, remove_stopwords=True):\n",
    "    sentence = sentence.lower() # 텍스트 소문자화\n",
    "    sentence = BeautifulSoup(sentence, \"lxml\").text # <br />, <a href = ...> 등의 html 태그 제거\n",
    "    sentence = re.sub(r'\\([^)]*\\)', '', sentence) # 괄호로 닫힌 문자열 (...) 제거 Ex) my husband (and myself!) for => my husband for\n",
    "    sentence = re.sub('\"','', sentence) # 쌍따옴표 \" 제거\n",
    "    sentence = ' '.join([contractions[t] if t in contractions else t for t in sentence.split(\" \")]) # 약어 정규화\n",
    "    sentence = re.sub(r\"'s\\b\",\"\",sentence) # 소유격 제거. Ex) roland's -> roland\n",
    "    sentence = re.sub(\"[^a-zA-Z]\", \" \", sentence) # 영어 외 문자(숫자, 특수문자 등) 공백으로 변환\n",
    "    sentence = re.sub('[m]{2,}', 'mm', sentence) # m이 3개 이상이면 2개로 변경. Ex) ummmmmmm yeah -> umm yeah\n",
    "    \n",
    "    # 불용어 제거 (test)\n",
    "    if remove_stopwords:\n",
    "        tokens = ' '.join(word for word in sentence.split() if not word in stopwords.words('english') if len(word) > 1)\n",
    "    # 불용어 미제거 (headlines)\n",
    "    else:\n",
    "        tokens = ' '.join(word for word in sentence.split() if len(word) > 1)\n",
    "    return tokens"
   ]
  },
  {
   "cell_type": "code",
   "execution_count": 12,
   "id": "fd83bdd7",
   "metadata": {},
   "outputs": [
    {
     "data": {
      "text/plain": [
       "'upGrad learner switches to career in ML & Al with 90% salary hike'"
      ]
     },
     "execution_count": 12,
     "metadata": {},
     "output_type": "execute_result"
    }
   ],
   "source": [
    "data.sample(1)\n",
    "data['headlines'][0]"
   ]
  },
  {
   "cell_type": "code",
   "execution_count": 13,
   "id": "6be9aed3",
   "metadata": {},
   "outputs": [
    {
     "name": "stdout",
     "output_type": "stream",
     "text": [
      "Saurav Kant, an alumnus of upGrad and IIIT-B's PG Program in Machine learning and Artificial Intelligence, was a Sr Systems Engineer at Infosys with almost 5 years of work experience. The program and upGrad's 360-degree career support helped him transition to a Data Scientist at Tech Mahindra with 90% salary hike. upGrad's Online Power Learning has powered 3 lakh+ careers.\n",
      "upGrad learner switches to career in ML & Al with 90% salary hike\n",
      "\n",
      "saurav kant alumnus upgrad iiit pg program machine learning artificial intelligence sr systems engineer infosys almost years work experience program upgrad degree career support helped transition data scientist tech mahindra salary hike upgrad online power learning powered lakh careers\n",
      "upgrad learner switches to career in ml al with salary hike\n"
     ]
    }
   ],
   "source": [
    "temp_text = data['text'][0]\n",
    "temp_headlines = data['headlines'][0]\n",
    "\n",
    "print(temp_text)\n",
    "print(temp_headlines)\n",
    "print()\n",
    "print(preprocess_sentence(temp_text))\n",
    "print(preprocess_sentence(temp_headlines, False))  # 불용어를 제거하지 않습니다."
   ]
  },
  {
   "cell_type": "code",
   "execution_count": 14,
   "id": "f24da1af",
   "metadata": {},
   "outputs": [
    {
     "name": "stderr",
     "output_type": "stream",
     "text": [
      "100%|██████████| 98360/98360 [09:08<00:00, 179.39it/s]\n"
     ]
    },
    {
     "data": {
      "text/plain": [
       "['saurav kant alumnus upgrad iiit pg program machine learning artificial intelligence sr systems engineer infosys almost years work experience program upgrad degree career support helped transition data scientist tech mahindra salary hike upgrad online power learning powered lakh careers',\n",
       " 'kunal shah credit card bill payment platform cred gave users chance win free food swiggy one year pranav kaushik delhi techie bagged reward spending cred coins users get one cred coin per rupee bill paid used avail rewards brands like ixigo bookmyshow ubereats cult fit',\n",
       " 'new zealand defeated india wickets fourth odi hamilton thursday win first match five match odi series india lost international match rohit sharma captaincy consecutive victories dating back march match witnessed india getting seventh lowest total odi cricket history',\n",
       " 'aegon life iterm insurance plan customers enjoy tax benefits premiums paid save taxes plan provides life cover age years also customers options insure critical illnesses disability accidental death benefit rider life cover age years',\n",
       " 'speaking sexual harassment allegations rajkumar hirani sonam kapoor said known hirani many years true metoo movement get derailed metoo movement always believe woman case need reserve judgment added hirani accused assistant worked sanju']"
      ]
     },
     "execution_count": 14,
     "metadata": {},
     "output_type": "execute_result"
    }
   ],
   "source": [
    "clean_text = []\n",
    "\n",
    "# 전체 Text 데이터에 대한 전처리 : 10분 이상 시간이 걸릴 수 있습니다. \n",
    "for s in tqdm(data['text']):\n",
    "    clean_text.append(preprocess_sentence(s))\n",
    "\n",
    "# 전처리 후 출력\n",
    "clean_text[:5]"
   ]
  },
  {
   "cell_type": "code",
   "execution_count": 15,
   "id": "dd452dc4",
   "metadata": {},
   "outputs": [
    {
     "name": "stderr",
     "output_type": "stream",
     "text": [
      "100%|██████████| 98360/98360 [00:17<00:00, 5540.78it/s]\n"
     ]
    },
    {
     "data": {
      "text/plain": [
       "['upgrad learner switches to career in ml al with salary hike',\n",
       " 'delhi techie wins free food from swiggy for one year on cred',\n",
       " 'new zealand end rohit sharma led india match winning streak',\n",
       " 'aegon life iterm insurance plan helps customers save tax',\n",
       " 'have known hirani for yrs what if metoo claims are not true sonam']"
      ]
     },
     "execution_count": 15,
     "metadata": {},
     "output_type": "execute_result"
    }
   ],
   "source": [
    "clean_headlines = []\n",
    "\n",
    "# 전체 Summary 데이터에 대한 전처리 : 5분 이상 시간이 걸릴 수 있습니다. \n",
    "for s in tqdm(data['headlines']):\n",
    "    clean_headlines.append(preprocess_sentence(s, False))\n",
    "\n",
    "clean_headlines[:5]"
   ]
  },
  {
   "cell_type": "code",
   "execution_count": 16,
   "id": "64c7d702",
   "metadata": {},
   "outputs": [],
   "source": [
    "data['text'] = clean_text\n",
    "data['headlines'] = clean_headlines\n",
    "\n",
    "# 빈 값을 Null 값으로 변환\n",
    "data.replace('', np.nan, inplace=True)"
   ]
  },
  {
   "cell_type": "code",
   "execution_count": 17,
   "id": "128da6fa",
   "metadata": {},
   "outputs": [
    {
     "data": {
      "text/plain": [
       "headlines    0\n",
       "text         0\n",
       "dtype: int64"
      ]
     },
     "execution_count": 17,
     "metadata": {},
     "output_type": "execute_result"
    }
   ],
   "source": [
    "data.isnull().sum()"
   ]
  },
  {
   "cell_type": "code",
   "execution_count": 18,
   "id": "d52f5b87",
   "metadata": {},
   "outputs": [
    {
     "name": "stdout",
     "output_type": "stream",
     "text": [
      "전체 샘플수 : 98360\n"
     ]
    }
   ],
   "source": [
    "data.dropna(axis=0, inplace=True)\n",
    "print('전체 샘플수 :',(len(data)))#데이터 전처리 함수"
   ]
  },
  {
   "cell_type": "markdown",
   "id": "ceeffa2a",
   "metadata": {},
   "source": [
    "### 4. 샘플의 길이📏 정하기"
   ]
  },
  {
   "cell_type": "code",
   "execution_count": 19,
   "id": "4ca10828",
   "metadata": {},
   "outputs": [
    {
     "name": "stdout",
     "output_type": "stream",
     "text": [
      "텍스트의 최소 길이 : 1\n",
      "텍스트의 최대 길이 : 60\n",
      "텍스트의 평균 길이 : 35.09968483123221\n",
      "요약의 최소 길이 : 1\n",
      "요약의 최대 길이 : 16\n",
      "요약의 평균 길이 : 9.299532330215534\n"
     ]
    },
    {
     "data": {
      "image/png": "[encoded data removed]",
      "text/plain": [
       "<Figure size 432x288 with 2 Axes>"
      ]
     },
     "metadata": {
      "needs_background": "light"
     },
     "output_type": "display_data"
    },
    {
     "data": {
      "image/png": "[encoded data removed]",
      "text/plain": [
       "<Figure size 432x288 with 1 Axes>"
      ]
     },
     "metadata": {
      "needs_background": "light"
     },
     "output_type": "display_data"
    },
    {
     "data": {
      "image/png": "[encoded data removed]",
      "text/plain": [
       "<Figure size 432x288 with 1 Axes>"
      ]
     },
     "metadata": {
      "needs_background": "light"
     },
     "output_type": "display_data"
    }
   ],
   "source": [
    "# 길이 분포 출력\n",
    "\n",
    "text_len = [len(s.split()) for s in data['text']]\n",
    "headlines_len = [len(s.split()) for s in data['headlines']]\n",
    "\n",
    "print('텍스트의 최소 길이 : {}'.format(np.min(text_len)))\n",
    "print('텍스트의 최대 길이 : {}'.format(np.max(text_len)))\n",
    "print('텍스트의 평균 길이 : {}'.format(np.mean(text_len)))\n",
    "print('요약의 최소 길이 : {}'.format(np.min(headlines_len)))\n",
    "print('요약의 최대 길이 : {}'.format(np.max(headlines_len)))\n",
    "print('요약의 평균 길이 : {}'.format(np.mean(headlines_len)))\n",
    "\n",
    "plt.subplot(1,2,1)\n",
    "plt.boxplot(headlines_len)\n",
    "plt.title('headlines')\n",
    "plt.subplot(1,2,2)\n",
    "plt.boxplot(text_len)\n",
    "plt.title('Text')\n",
    "plt.tight_layout()\n",
    "plt.show()\n",
    "\n",
    "plt.title('headlines')\n",
    "plt.hist(headlines_len, bins = 40)\n",
    "plt.xlabel('length of samples')\n",
    "plt.ylabel('number of samples')\n",
    "plt.show()\n",
    "\n",
    "plt.title('Text')\n",
    "plt.hist(text_len, bins = 40)\n",
    "plt.xlabel('length of samples')\n",
    "plt.ylabel('number of samples')\n",
    "plt.show()"
   ]
  },
  {
   "cell_type": "code",
   "execution_count": 20,
   "id": "a9d2c377",
   "metadata": {},
   "outputs": [],
   "source": [
    "text_max_len = 50\n",
    "headlines_max_len = 8"
   ]
  },
  {
   "cell_type": "code",
   "execution_count": 21,
   "id": "54d28986",
   "metadata": {},
   "outputs": [],
   "source": [
    "def below_threshold_len(max_len, nested_list):\n",
    "  cnt = 0\n",
    "  for s in nested_list:\n",
    "    if(len(s.split()) <= max_len):\n",
    "        cnt = cnt + 1\n",
    "  print('전체 샘플 중 길이가 %s 이하인 샘플의 비율: %s'%(max_len, (cnt / len(nested_list))))"
   ]
  },
  {
   "cell_type": "code",
   "execution_count": 22,
   "id": "0ae56214",
   "metadata": {},
   "outputs": [
    {
     "name": "stdout",
     "output_type": "stream",
     "text": [
      "전체 샘플 중 길이가 50 이하인 샘플의 비율: 0.9998576657177715\n",
      "전체 샘플 중 길이가 8 이하인 샘플의 비율: 0.2755693371289142\n"
     ]
    }
   ],
   "source": [
    "below_threshold_len(text_max_len, data['text'])\n",
    "below_threshold_len(headlines_max_len,  data['headlines'])"
   ]
  },
  {
   "cell_type": "code",
   "execution_count": 23,
   "id": "8edc771e",
   "metadata": {},
   "outputs": [
    {
     "name": "stdout",
     "output_type": "stream",
     "text": [
      "전체 샘플수 : 27105\n"
     ]
    }
   ],
   "source": [
    "data = data[data['text'].apply(lambda x: len(x.split()) <= text_max_len)]\n",
    "data = data[data['headlines'].apply(lambda x: len(x.split()) <= headlines_max_len)]\n",
    "print('전체 샘플수 :',(len(data)))"
   ]
  },
  {
   "cell_type": "markdown",
   "id": "a21d08b7",
   "metadata": {},
   "source": [
    "### 5. 토큰 🪙"
   ]
  },
  {
   "cell_type": "code",
   "execution_count": 24,
   "id": "d0ceb59a",
   "metadata": {},
   "outputs": [
    {
     "data": {
      "text/html": [
       "<div>\n",
       "<style scoped>\n",
       "    .dataframe tbody tr th:only-of-type {\n",
       "        vertical-align: middle;\n",
       "    }\n",
       "\n",
       "    .dataframe tbody tr th {\n",
       "        vertical-align: top;\n",
       "    }\n",
       "\n",
       "    .dataframe thead th {\n",
       "        text-align: right;\n",
       "    }\n",
       "</style>\n",
       "<table border=\"1\" class=\"dataframe\">\n",
       "  <thead>\n",
       "    <tr style=\"text-align: right;\">\n",
       "      <th></th>\n",
       "      <th>headlines</th>\n",
       "      <th>text</th>\n",
       "      <th>decoder_input</th>\n",
       "      <th>decoder_target</th>\n",
       "    </tr>\n",
       "  </thead>\n",
       "  <tbody>\n",
       "    <tr>\n",
       "      <th>19</th>\n",
       "      <td>odisha cm patnaik controls mining mafia union ...</td>\n",
       "      <td>union minister dharmendra pradhan wednesday cl...</td>\n",
       "      <td>sostoken odisha cm patnaik controls mining maf...</td>\n",
       "      <td>odisha cm patnaik controls mining mafia union ...</td>\n",
       "    </tr>\n",
       "    <tr>\n",
       "      <th>21</th>\n",
       "      <td>isro unveils bengaluru centre for manned space...</td>\n",
       "      <td>indian space research organisation wednesday u...</td>\n",
       "      <td>sostoken isro unveils bengaluru centre for man...</td>\n",
       "      <td>isro unveils bengaluru centre for manned space...</td>\n",
       "    </tr>\n",
       "    <tr>\n",
       "      <th>22</th>\n",
       "      <td>killed injured in saudi arabia floods</td>\n",
       "      <td>least people killed others injured saudi arabi...</td>\n",
       "      <td>sostoken killed injured in saudi arabia floods</td>\n",
       "      <td>killed injured in saudi arabia floods eostoken</td>\n",
       "    </tr>\n",
       "    <tr>\n",
       "      <th>29</th>\n",
       "      <td>seat cushions from missing plane carrying foot...</td>\n",
       "      <td>investigators searching lost plane carrying ar...</td>\n",
       "      <td>sostoken seat cushions from missing plane carr...</td>\n",
       "      <td>seat cushions from missing plane carrying foot...</td>\n",
       "    </tr>\n",
       "    <tr>\n",
       "      <th>36</th>\n",
       "      <td>agustawestland scam accused rajiv saxena extra...</td>\n",
       "      <td>agustawestland chopper scam co accused rajiv s...</td>\n",
       "      <td>sostoken agustawestland scam accused rajiv sax...</td>\n",
       "      <td>agustawestland scam accused rajiv saxena extra...</td>\n",
       "    </tr>\n",
       "  </tbody>\n",
       "</table>\n",
       "</div>"
      ],
      "text/plain": [
       "                                            headlines  \\\n",
       "19  odisha cm patnaik controls mining mafia union ...   \n",
       "21  isro unveils bengaluru centre for manned space...   \n",
       "22              killed injured in saudi arabia floods   \n",
       "29  seat cushions from missing plane carrying foot...   \n",
       "36  agustawestland scam accused rajiv saxena extra...   \n",
       "\n",
       "                                                 text  \\\n",
       "19  union minister dharmendra pradhan wednesday cl...   \n",
       "21  indian space research organisation wednesday u...   \n",
       "22  least people killed others injured saudi arabi...   \n",
       "29  investigators searching lost plane carrying ar...   \n",
       "36  agustawestland chopper scam co accused rajiv s...   \n",
       "\n",
       "                                        decoder_input  \\\n",
       "19  sostoken odisha cm patnaik controls mining maf...   \n",
       "21  sostoken isro unveils bengaluru centre for man...   \n",
       "22     sostoken killed injured in saudi arabia floods   \n",
       "29  sostoken seat cushions from missing plane carr...   \n",
       "36  sostoken agustawestland scam accused rajiv sax...   \n",
       "\n",
       "                                       decoder_target  \n",
       "19  odisha cm patnaik controls mining mafia union ...  \n",
       "21  isro unveils bengaluru centre for manned space...  \n",
       "22     killed injured in saudi arabia floods eostoken  \n",
       "29  seat cushions from missing plane carrying foot...  \n",
       "36  agustawestland scam accused rajiv saxena extra...  "
      ]
     },
     "execution_count": 24,
     "metadata": {},
     "output_type": "execute_result"
    }
   ],
   "source": [
    "#요약 데이터에는 시작 토큰과 종료 토큰을 추가한다.\n",
    "data['decoder_input'] = data['headlines'].apply(lambda x : 'sostoken '+ x)\n",
    "data['decoder_target'] = data['headlines'].apply(lambda x : x + ' eostoken')\n",
    "data.head()"
   ]
  },
  {
   "cell_type": "code",
   "execution_count": 25,
   "id": "696410db",
   "metadata": {},
   "outputs": [],
   "source": [
    "encoder_input = np.array(data['text']) # 인코더의 입력\n",
    "decoder_input = np.array(data['decoder_input']) # 디코더의 입력\n",
    "decoder_target = np.array(data['decoder_target']) # 디코더의 레이블"
   ]
  },
  {
   "cell_type": "code",
   "execution_count": 26,
   "id": "88c163f4",
   "metadata": {},
   "outputs": [
    {
     "name": "stdout",
     "output_type": "stream",
     "text": [
      "[25250  3631 10879 ... 13739 17712  1619]\n"
     ]
    }
   ],
   "source": [
    "indices = np.arange(encoder_input.shape[0])\n",
    "np.random.shuffle(indices)\n",
    "print(indices)"
   ]
  },
  {
   "cell_type": "code",
   "execution_count": 27,
   "id": "6fece45c",
   "metadata": {},
   "outputs": [],
   "source": [
    "encoder_input = encoder_input[indices]\n",
    "decoder_input = decoder_input[indices]\n",
    "decoder_target = decoder_target[indices]"
   ]
  },
  {
   "cell_type": "code",
   "execution_count": 28,
   "id": "7427fbfd",
   "metadata": {},
   "outputs": [
    {
     "name": "stdout",
     "output_type": "stream",
     "text": [
      "테스트 데이터의 수 : 5421\n"
     ]
    }
   ],
   "source": [
    "n_of_val = int(len(encoder_input)*0.2)\n",
    "print('테스트 데이터의 수 :',n_of_val)"
   ]
  },
  {
   "cell_type": "code",
   "execution_count": 29,
   "id": "b5f52413",
   "metadata": {},
   "outputs": [
    {
     "name": "stdout",
     "output_type": "stream",
     "text": [
      "훈련 데이터의 개수 : 21684\n",
      "훈련 레이블의 개수 : 21684\n",
      "테스트 데이터의 개수 : 5421\n",
      "테스트 레이블의 개수 : 5421\n"
     ]
    }
   ],
   "source": [
    "encoder_input_train = encoder_input[:-n_of_val]\n",
    "decoder_input_train = decoder_input[:-n_of_val]\n",
    "decoder_target_train = decoder_target[:-n_of_val]\n",
    "\n",
    "encoder_input_test = encoder_input[-n_of_val:]\n",
    "decoder_input_test = decoder_input[-n_of_val:]\n",
    "decoder_target_test = decoder_target[-n_of_val:]\n",
    "\n",
    "print('훈련 데이터의 개수 :', len(encoder_input_train))\n",
    "print('훈련 레이블의 개수 :',len(decoder_input_train))\n",
    "print('테스트 데이터의 개수 :',len(encoder_input_test))\n",
    "print('테스트 레이블의 개수 :',len(decoder_input_test))"
   ]
  },
  {
   "cell_type": "markdown",
   "id": "6c4dcade",
   "metadata": {},
   "source": [
    "### 6. 단어집합 만들기"
   ]
  },
  {
   "cell_type": "code",
   "execution_count": 30,
   "id": "1483440f",
   "metadata": {},
   "outputs": [],
   "source": [
    "src_tokenizer = Tokenizer() # 토크나이저 정의\n",
    "src_tokenizer.fit_on_texts(encoder_input_train) # 입력된 데이터로부터 단어 집합 생성"
   ]
  },
  {
   "cell_type": "code",
   "execution_count": 31,
   "id": "5a344ca1",
   "metadata": {},
   "outputs": [
    {
     "name": "stdout",
     "output_type": "stream",
     "text": [
      "단어 집합(vocabulary)의 크기 : 42485\n",
      "등장 빈도가 6번 이하인 희귀 단어의 수: 30738\n",
      "단어 집합에서 희귀 단어를 제외시킬 경우의 단어 집합의 크기 11747\n",
      "단어 집합에서 희귀 단어의 비율: 72.35024126162175\n",
      "전체 등장 빈도에서 희귀 단어 등장 빈도 비율: 8.282244893128505\n"
     ]
    }
   ],
   "source": [
    "threshold = 7\n",
    "total_cnt = len(src_tokenizer.word_index) # 단어의 수\n",
    "rare_cnt = 0 # 등장 빈도수가 threshold보다 작은 단어의 개수를 카운트\n",
    "total_freq = 0 # 훈련 데이터의 전체 단어 빈도수 총 합\n",
    "rare_freq = 0 # 등장 빈도수가 threshold보다 작은 단어의 등장 빈도수의 총 합\n",
    "\n",
    "# 단어와 빈도수의 쌍(pair)을 key와 value로 받는다.\n",
    "for key, value in src_tokenizer.word_counts.items():\n",
    "    total_freq = total_freq + value\n",
    "\n",
    "    # 단어의 등장 빈도수가 threshold보다 작으면\n",
    "    if(value < threshold):\n",
    "        rare_cnt = rare_cnt + 1\n",
    "        rare_freq = rare_freq + value\n",
    "\n",
    "print('단어 집합(vocabulary)의 크기 :',total_cnt)\n",
    "print('등장 빈도가 %s번 이하인 희귀 단어의 수: %s'%(threshold - 1, rare_cnt))\n",
    "print('단어 집합에서 희귀 단어를 제외시킬 경우의 단어 집합의 크기 %s'%(total_cnt - rare_cnt))\n",
    "print(\"단어 집합에서 희귀 단어의 비율:\", (rare_cnt / total_cnt)*100)\n",
    "print(\"전체 등장 빈도에서 희귀 단어 등장 빈도 비율:\", (rare_freq / total_freq)*100)"
   ]
  },
  {
   "cell_type": "code",
   "execution_count": 32,
   "id": "28730861",
   "metadata": {},
   "outputs": [],
   "source": [
    "src_vocab = 8000\n",
    "src_tokenizer = Tokenizer(num_words = src_vocab) # 단어 집합의 크기를 8,000으로 제한\n",
    "src_tokenizer.fit_on_texts(encoder_input_train) # 단어 집합 재생성."
   ]
  },
  {
   "cell_type": "code",
   "execution_count": 33,
   "id": "7d79270e",
   "metadata": {},
   "outputs": [
    {
     "name": "stdout",
     "output_type": "stream",
     "text": [
      "[[2266, 150, 1070, 1238, 13, 3976, 193, 706, 51, 1321, 1881, 18, 45, 48, 685, 262, 1619, 18, 47, 30, 838, 193], [82, 2391, 1903, 6219, 2930, 2357, 1092, 336, 71, 998, 877, 59, 23, 1431, 1322, 2391, 1092, 2391, 21, 365, 1652, 2391, 998, 2517, 539, 2], [5992, 145, 730, 55, 355, 15, 1206, 909, 59, 3698, 246, 447, 2931, 3309, 302, 84, 24, 17, 2392, 1139, 186, 2825, 402, 1638, 2267, 1722, 1882, 6]]\n"
     ]
    }
   ],
   "source": [
    "# 텍스트 시퀀스를 정수 시퀀스로 변환\n",
    "encoder_input_train = src_tokenizer.texts_to_sequences(encoder_input_train) \n",
    "encoder_input_test = src_tokenizer.texts_to_sequences(encoder_input_test)\n",
    "\n",
    "#잘 진행되었는지 샘플 출력\n",
    "print(encoder_input_train[:3])"
   ]
  },
  {
   "cell_type": "code",
   "execution_count": 34,
   "id": "db40aa2c",
   "metadata": {},
   "outputs": [],
   "source": [
    "tar_tokenizer = Tokenizer()\n",
    "tar_tokenizer.fit_on_texts(decoder_input_train)"
   ]
  },
  {
   "cell_type": "code",
   "execution_count": 35,
   "id": "2bffdea5",
   "metadata": {},
   "outputs": [
    {
     "name": "stdout",
     "output_type": "stream",
     "text": [
      "단어 집합(vocabulary)의 크기 : 18907\n",
      "등장 빈도가 5번 이하인 희귀 단어의 수: 14268\n",
      "단어 집합에서 희귀 단어를 제외시킬 경우의 단어 집합의 크기 4639\n",
      "단어 집합에서 희귀 단어의 비율: 75.4641138202782\n",
      "전체 등장 빈도에서 희귀 단어 등장 빈도 비율: 14.153715799521649\n"
     ]
    }
   ],
   "source": [
    "threshold = 6\n",
    "total_cnt = len(tar_tokenizer.word_index) # 단어의 수\n",
    "rare_cnt = 0 # 등장 빈도수가 threshold보다 작은 단어의 개수를 카운트\n",
    "total_freq = 0 # 훈련 데이터의 전체 단어 빈도수 총 합\n",
    "rare_freq = 0 # 등장 빈도수가 threshold보다 작은 단어의 등장 빈도수의 총 합\n",
    "\n",
    "# 단어와 빈도수의 쌍(pair)을 key와 value로 받는다.\n",
    "for key, value in tar_tokenizer.word_counts.items():\n",
    "    total_freq = total_freq + value\n",
    "\n",
    "    # 단어의 등장 빈도수가 threshold보다 작으면\n",
    "    if(value < threshold):\n",
    "        rare_cnt = rare_cnt + 1\n",
    "        rare_freq = rare_freq + value\n",
    "\n",
    "print('단어 집합(vocabulary)의 크기 :',total_cnt)\n",
    "print('등장 빈도가 %s번 이하인 희귀 단어의 수: %s'%(threshold - 1, rare_cnt))\n",
    "print('단어 집합에서 희귀 단어를 제외시킬 경우의 단어 집합의 크기 %s'%(total_cnt - rare_cnt))\n",
    "print(\"단어 집합에서 희귀 단어의 비율:\", (rare_cnt / total_cnt)*100)\n",
    "print(\"전체 등장 빈도에서 희귀 단어 등장 빈도 비율:\", (rare_freq / total_freq)*100)"
   ]
  },
  {
   "cell_type": "code",
   "execution_count": 36,
   "id": "b8026948",
   "metadata": {},
   "outputs": [
    {
     "name": "stdout",
     "output_type": "stream",
     "text": [
      "input\n",
      "input  [[1, 1530, 455, 6, 3, 485], [1, 4, 1619, 3, 1453], [1, 1620, 4, 71, 497, 43], [1, 179, 552, 594, 537, 1159], [1, 28, 878, 19, 30, 38]]\n",
      "target\n",
      "decoder  [[1530, 455, 6, 3, 485, 2], [4, 1619, 3, 1453, 2], [1620, 4, 71, 497, 43, 2], [179, 552, 594, 537, 1159, 2], [28, 878, 19, 30, 38, 2]]\n"
     ]
    }
   ],
   "source": [
    "tar_vocab = 2000\n",
    "tar_tokenizer = Tokenizer(num_words = tar_vocab) \n",
    "tar_tokenizer.fit_on_texts(decoder_input_train)\n",
    "tar_tokenizer.fit_on_texts(decoder_target_train)\n",
    "\n",
    "# 텍스트 시퀀스를 정수 시퀀스로 변환\n",
    "decoder_input_train = tar_tokenizer.texts_to_sequences(decoder_input_train) \n",
    "decoder_target_train = tar_tokenizer.texts_to_sequences(decoder_target_train)\n",
    "decoder_input_test = tar_tokenizer.texts_to_sequences(decoder_input_test)\n",
    "decoder_target_test = tar_tokenizer.texts_to_sequences(decoder_target_test)\n",
    "\n",
    "#잘 변환되었는지 확인\n",
    "print('input')\n",
    "print('input ',decoder_input_train[:5])\n",
    "print('target')\n",
    "print('decoder ',decoder_target_train[:5])"
   ]
  },
  {
   "cell_type": "code",
   "execution_count": 37,
   "id": "abf57e64",
   "metadata": {},
   "outputs": [
    {
     "name": "stdout",
     "output_type": "stream",
     "text": [
      "삭제할 훈련 데이터의 개수 : 10\n",
      "삭제할 테스트 데이터의 개수 : 4\n",
      "훈련 데이터의 개수 : 21674\n",
      "훈련 레이블의 개수 : 21674\n",
      "테스트 데이터의 개수 : 5417\n",
      "테스트 레이블의 개수 : 5417\n"
     ]
    }
   ],
   "source": [
    "drop_train = [index for index, sentence in enumerate(decoder_input_train) if len(sentence) == 1]\n",
    "drop_test = [index for index, sentence in enumerate(decoder_input_test) if len(sentence) == 1]\n",
    "\n",
    "print('삭제할 훈련 데이터의 개수 :',len(drop_train))\n",
    "print('삭제할 테스트 데이터의 개수 :',len(drop_test))\n",
    "\n",
    "encoder_input_train = np.delete(encoder_input_train, drop_train, axis=0)\n",
    "decoder_input_train = np.delete(decoder_input_train, drop_train, axis=0)\n",
    "decoder_target_train = np.delete(decoder_target_train, drop_train, axis=0)\n",
    "\n",
    "encoder_input_test = np.delete(encoder_input_test, drop_test, axis=0)\n",
    "decoder_input_test = np.delete(decoder_input_test, drop_test, axis=0)\n",
    "decoder_target_test = np.delete(decoder_target_test, drop_test, axis=0)\n",
    "\n",
    "print('훈련 데이터의 개수 :', len(encoder_input_train))\n",
    "print('훈련 레이블의 개수 :',len(decoder_input_train))\n",
    "print('테스트 데이터의 개수 :',len(encoder_input_test))\n",
    "print('테스트 레이블의 개수 :',len(decoder_input_test))"
   ]
  },
  {
   "cell_type": "markdown",
   "id": "6856f23d",
   "metadata": {},
   "source": [
    "### 7. Padding"
   ]
  },
  {
   "cell_type": "code",
   "execution_count": 38,
   "id": "191d2e7b",
   "metadata": {},
   "outputs": [],
   "source": [
    "encoder_input_train = pad_sequences(encoder_input_train, maxlen = text_max_len, padding='post')\n",
    "encoder_input_test = pad_sequences(encoder_input_test, maxlen = text_max_len, padding='post')\n",
    "decoder_input_train = pad_sequences(decoder_input_train, maxlen = headlines_max_len, padding='post')\n",
    "decoder_target_train = pad_sequences(decoder_target_train, maxlen = headlines_max_len, padding='post')\n",
    "decoder_input_test = pad_sequences(decoder_input_test, maxlen = headlines_max_len, padding='post')\n",
    "decoder_target_test = pad_sequences(decoder_target_test, maxlen = headlines_max_len, padding='post')"
   ]
  },
  {
   "cell_type": "markdown",
   "id": "251d1e04",
   "metadata": {},
   "source": [
    "### 모델 설계"
   ]
  },
  {
   "cell_type": "markdown",
   "id": "475e72c9",
   "metadata": {},
   "source": [
    "### 인코더, 디코더 설계"
   ]
  },
  {
   "cell_type": "code",
   "execution_count": 39,
   "id": "89eb3ace",
   "metadata": {},
   "outputs": [
    {
     "name": "stdout",
     "output_type": "stream",
     "text": [
      "Model: \"model\"\n",
      "__________________________________________________________________________________________________\n",
      "Layer (type)                    Output Shape         Param #     Connected to                     \n",
      "==================================================================================================\n",
      "input_1 (InputLayer)            [(None, 50)]         0                                            \n",
      "__________________________________________________________________________________________________\n",
      "embedding (Embedding)           (None, 50, 128)      1024000     input_1[0][0]                    \n",
      "__________________________________________________________________________________________________\n",
      "lstm (LSTM)                     [(None, 50, 256), (N 394240      embedding[0][0]                  \n",
      "__________________________________________________________________________________________________\n",
      "input_2 (InputLayer)            [(None, None)]       0                                            \n",
      "__________________________________________________________________________________________________\n",
      "lstm_1 (LSTM)                   [(None, 50, 256), (N 525312      lstm[0][0]                       \n",
      "__________________________________________________________________________________________________\n",
      "embedding_1 (Embedding)         (None, None, 128)    256000      input_2[0][0]                    \n",
      "__________________________________________________________________________________________________\n",
      "lstm_2 (LSTM)                   [(None, 50, 256), (N 525312      lstm_1[0][0]                     \n",
      "__________________________________________________________________________________________________\n",
      "lstm_3 (LSTM)                   [(None, None, 256),  394240      embedding_1[0][0]                \n",
      "                                                                 lstm_2[0][1]                     \n",
      "                                                                 lstm_2[0][2]                     \n",
      "__________________________________________________________________________________________________\n",
      "dense (Dense)                   (None, None, 2000)   514000      lstm_3[0][0]                     \n",
      "==================================================================================================\n",
      "Total params: 3,633,104\n",
      "Trainable params: 3,633,104\n",
      "Non-trainable params: 0\n",
      "__________________________________________________________________________________________________\n"
     ]
    }
   ],
   "source": [
    "# 인코더 설계 시작\n",
    "embedding_dim = 128\n",
    "hidden_size = 256\n",
    "\n",
    "# 인코더\n",
    "encoder_inputs = Input(shape=(text_max_len,))\n",
    "\n",
    "# 인코더의 임베딩 층\n",
    "enc_emb = Embedding(src_vocab, embedding_dim)(encoder_inputs)\n",
    "\n",
    "# 인코더의 LSTM 1\n",
    "# encoder_lstm1 = LSTM(hidden_size, return_sequences=True, return_state=True ,dropout = 0.4, recurrent_dropout = 0.4)\n",
    "encoder_lstm1 = LSTM(hidden_size, return_sequences=True, return_state=True ,dropout = 0.4)\n",
    "encoder_output1, state_h1, state_c1 = encoder_lstm1(enc_emb)\n",
    "\n",
    "# 인코더의 LSTM 2\n",
    "# encoder_lstm2 = LSTM(hidden_size, return_sequences=True, return_state=True, dropout=0.4, recurrent_dropout=0.4)\n",
    "encoder_lstm2 = LSTM(hidden_size, return_sequences=True, return_state=True, dropout=0.4)\n",
    "encoder_output2, state_h2, state_c2 = encoder_lstm2(encoder_output1)\n",
    "\n",
    "# 인코더의 LSTM 3\n",
    "# encoder_lstm3 = LSTM(hidden_size, return_state=True, return_sequences=True, dropout=0.4, recurrent_dropout=0.4)\n",
    "encoder_lstm3 = LSTM(hidden_size, return_state=True, return_sequences=True, dropout=0.4)\n",
    "encoder_outputs, state_h, state_c= encoder_lstm3(encoder_output2)\n",
    "\n",
    "# 디코더 설계\n",
    "decoder_inputs = Input(shape=(None,))\n",
    "\n",
    "# 디코더의 임베딩 층\n",
    "dec_emb_layer = Embedding(tar_vocab, embedding_dim)\n",
    "dec_emb = dec_emb_layer(decoder_inputs)\n",
    "\n",
    "# 디코더의 LSTM\n",
    "# decoder_lstm = LSTM(hidden_size, return_sequences=True, return_state=True, dropout=0.4, recurrent_dropout=0.2)\n",
    "decoder_lstm = LSTM(hidden_size, return_sequences=True, return_state=True, dropout=0.4)\n",
    "decoder_outputs, _, _ = decoder_lstm(dec_emb, initial_state=[state_h, state_c])\n",
    "\n",
    "# 디코더의 출력층\n",
    "decoder_softmax_layer = Dense(tar_vocab, activation='softmax')\n",
    "decoder_softmax_outputs = decoder_softmax_layer(decoder_outputs)\n",
    "\n",
    "# 모델 정의\n",
    "model = Model([encoder_inputs, decoder_inputs], decoder_softmax_outputs)\n",
    "model.summary()"
   ]
  },
  {
   "cell_type": "markdown",
   "id": "13a36d1d",
   "metadata": {},
   "source": [
    "## STEP. 2 Attention Mechanism"
   ]
  },
  {
   "cell_type": "code",
   "execution_count": 40,
   "id": "1138c724",
   "metadata": {},
   "outputs": [
    {
     "name": "stdout",
     "output_type": "stream",
     "text": [
      "Model: \"model_1\"\n",
      "__________________________________________________________________________________________________\n",
      "Layer (type)                    Output Shape         Param #     Connected to                     \n",
      "==================================================================================================\n",
      "input_1 (InputLayer)            [(None, 50)]         0                                            \n",
      "__________________________________________________________________________________________________\n",
      "embedding (Embedding)           (None, 50, 128)      1024000     input_1[0][0]                    \n",
      "__________________________________________________________________________________________________\n",
      "lstm (LSTM)                     [(None, 50, 256), (N 394240      embedding[0][0]                  \n",
      "__________________________________________________________________________________________________\n",
      "input_2 (InputLayer)            [(None, None)]       0                                            \n",
      "__________________________________________________________________________________________________\n",
      "lstm_1 (LSTM)                   [(None, 50, 256), (N 525312      lstm[0][0]                       \n",
      "__________________________________________________________________________________________________\n",
      "embedding_1 (Embedding)         (None, None, 128)    256000      input_2[0][0]                    \n",
      "__________________________________________________________________________________________________\n",
      "lstm_2 (LSTM)                   [(None, 50, 256), (N 525312      lstm_1[0][0]                     \n",
      "__________________________________________________________________________________________________\n",
      "lstm_3 (LSTM)                   [(None, None, 256),  394240      embedding_1[0][0]                \n",
      "                                                                 lstm_2[0][1]                     \n",
      "                                                                 lstm_2[0][2]                     \n",
      "__________________________________________________________________________________________________\n",
      "attention_layer (AdditiveAttent (None, None, 256)    256         lstm_3[0][0]                     \n",
      "                                                                 lstm_2[0][0]                     \n",
      "__________________________________________________________________________________________________\n",
      "concat_layer (Concatenate)      (None, None, 512)    0           lstm_3[0][0]                     \n",
      "                                                                 attention_layer[0][0]            \n",
      "__________________________________________________________________________________________________\n",
      "dense_1 (Dense)                 (None, None, 2000)   1026000     concat_layer[0][0]               \n",
      "==================================================================================================\n",
      "Total params: 4,145,360\n",
      "Trainable params: 4,145,360\n",
      "Non-trainable params: 0\n",
      "__________________________________________________________________________________________________\n"
     ]
    }
   ],
   "source": [
    "# 어텐션 층(어텐션 함수)\n",
    "attn_layer = AdditiveAttention(name='attention_layer')\n",
    "\n",
    "# 인코더와 디코더의 모든 time step의 hidden state를 어텐션 층에 전달하고 결과를 리턴\n",
    "attn_out = attn_layer([decoder_outputs, encoder_outputs])\n",
    "\n",
    "\n",
    "# 어텐션의 결과와 디코더의 hidden state들을 연결\n",
    "decoder_concat_input = Concatenate(axis=-1, name='concat_layer')([decoder_outputs, attn_out])\n",
    "\n",
    "# 디코더의 출력층\n",
    "decoder_softmax_layer = Dense(tar_vocab, activation='softmax')\n",
    "decoder_softmax_outputs = decoder_softmax_layer(decoder_concat_input)\n",
    "\n",
    "# 모델 정의\n",
    "model = Model([encoder_inputs, decoder_inputs], decoder_softmax_outputs)\n",
    "model.summary()"
   ]
  },
  {
   "cell_type": "markdown",
   "id": "4010a80a",
   "metadata": {},
   "source": [
    "## STEP. 3 모델 훈련"
   ]
  },
  {
   "cell_type": "code",
   "execution_count": 41,
   "id": "e4cf8896",
   "metadata": {
    "scrolled": true
   },
   "outputs": [
    {
     "name": "stdout",
     "output_type": "stream",
     "text": [
      "Epoch 1/40\n",
      "85/85 [==============================] - 14s 79ms/step - loss: 4.9296 - val_loss: 4.5391\n",
      "Epoch 2/40\n",
      "85/85 [==============================] - 6s 66ms/step - loss: 4.5307 - val_loss: 4.3406\n",
      "Epoch 3/40\n",
      "85/85 [==============================] - 6s 65ms/step - loss: 4.3510 - val_loss: 4.2172\n",
      "Epoch 4/40\n",
      "85/85 [==============================] - 6s 66ms/step - loss: 4.2073 - val_loss: 4.0988\n",
      "Epoch 5/40\n",
      "85/85 [==============================] - 6s 66ms/step - loss: 4.0741 - val_loss: 4.0071\n",
      "Epoch 6/40\n",
      "85/85 [==============================] - 6s 67ms/step - loss: 3.9443 - val_loss: 3.8957\n",
      "Epoch 7/40\n",
      "85/85 [==============================] - 6s 66ms/step - loss: 3.8136 - val_loss: 3.8089\n",
      "Epoch 8/40\n",
      "85/85 [==============================] - 6s 67ms/step - loss: 3.6900 - val_loss: 3.7260\n",
      "Epoch 9/40\n",
      "85/85 [==============================] - 6s 67ms/step - loss: 3.5702 - val_loss: 3.6464\n",
      "Epoch 10/40\n",
      "85/85 [==============================] - 6s 67ms/step - loss: 3.4580 - val_loss: 3.5815\n",
      "Epoch 11/40\n",
      "85/85 [==============================] - 6s 67ms/step - loss: 3.3554 - val_loss: 3.5326\n",
      "Epoch 12/40\n",
      "85/85 [==============================] - 6s 68ms/step - loss: 3.2577 - val_loss: 3.4827\n",
      "Epoch 13/40\n",
      "85/85 [==============================] - 6s 68ms/step - loss: 3.1659 - val_loss: 3.4461\n",
      "Epoch 14/40\n",
      "85/85 [==============================] - 6s 69ms/step - loss: 3.0824 - val_loss: 3.4198\n",
      "Epoch 15/40\n",
      "85/85 [==============================] - 6s 70ms/step - loss: 3.0018 - val_loss: 3.3981\n",
      "Epoch 16/40\n",
      "85/85 [==============================] - 6s 70ms/step - loss: 2.9294 - val_loss: 3.3816\n",
      "Epoch 17/40\n",
      "85/85 [==============================] - 6s 70ms/step - loss: 2.8573 - val_loss: 3.3670\n",
      "Epoch 18/40\n",
      "85/85 [==============================] - 6s 70ms/step - loss: 2.7896 - val_loss: 3.3670\n",
      "Epoch 19/40\n",
      "85/85 [==============================] - 6s 71ms/step - loss: 2.7267 - val_loss: 3.3357\n",
      "Epoch 20/40\n",
      "85/85 [==============================] - 6s 71ms/step - loss: 2.6637 - val_loss: 3.3345\n",
      "Epoch 21/40\n",
      "85/85 [==============================] - 6s 70ms/step - loss: 2.6014 - val_loss: 3.3305\n",
      "Epoch 22/40\n",
      "85/85 [==============================] - 6s 70ms/step - loss: 2.5443 - val_loss: 3.3241\n",
      "Epoch 23/40\n",
      "85/85 [==============================] - 6s 70ms/step - loss: 2.4879 - val_loss: 3.3296\n",
      "Epoch 24/40\n",
      "85/85 [==============================] - 6s 70ms/step - loss: 2.4334 - val_loss: 3.3369\n",
      "Epoch 00024: early stopping\n"
     ]
    }
   ],
   "source": [
    "model.compile(optimizer='rmsprop', loss='sparse_categorical_crossentropy')\n",
    "es = EarlyStopping(monitor='val_loss', mode='min', verbose=1, patience = 2)\n",
    "history = model.fit(x = [encoder_input_train, decoder_input_train], y = decoder_target_train, \\\n",
    "          validation_data = ([encoder_input_test, decoder_input_test], decoder_target_test),\n",
    "          batch_size = 256, callbacks=[es], epochs = 40)"
   ]
  },
  {
   "cell_type": "code",
   "execution_count": 42,
   "id": "6099ee95",
   "metadata": {},
   "outputs": [
    {
     "data": {
      "image/png": "[encoded data removed]",
      "text/plain": [
       "<Figure size 432x288 with 1 Axes>"
      ]
     },
     "metadata": {
      "needs_background": "light"
     },
     "output_type": "display_data"
    }
   ],
   "source": [
    "plt.plot(history.history['loss'], label='train')\n",
    "plt.plot(history.history['val_loss'], label='test')\n",
    "plt.legend()\n",
    "plt.show()"
   ]
  },
  {
   "cell_type": "markdown",
   "id": "3c460ca6",
   "metadata": {},
   "source": [
    "### Inference model 구현"
   ]
  },
  {
   "cell_type": "code",
   "execution_count": 43,
   "id": "ca213d97",
   "metadata": {},
   "outputs": [],
   "source": [
    "src_index_to_word = src_tokenizer.index_word # 원문 단어 집합에서 정수 -> 단어를 얻음\n",
    "tar_word_to_index = tar_tokenizer.word_index # 요약 단어 집합에서 단어 -> 정수를 얻음\n",
    "tar_index_to_word = tar_tokenizer.index_word # 요약 단어 집합에서 정수 -> 단어를 얻음"
   ]
  },
  {
   "cell_type": "code",
   "execution_count": 44,
   "id": "a91fac11",
   "metadata": {},
   "outputs": [],
   "source": [
    "encoder_model = Model(inputs=encoder_inputs, outputs=[encoder_outputs, state_h, state_c])\n",
    "\n",
    "# 이전 시점의 상태들을 저장하는 텐서\n",
    "decoder_state_input_h = Input(shape=(hidden_size,))\n",
    "decoder_state_input_c = Input(shape=(hidden_size,))\n",
    "\n",
    "dec_emb2 = dec_emb_layer(decoder_inputs)\n",
    "\n",
    "# 문장의 다음 단어를 예측하기 위해서 초기 상태(initial_state)를 이전 시점의 상태로 사용. 이는 뒤의 함수 decode_sequence()에 구현\n",
    "# 훈련 과정에서와 달리 LSTM의 리턴하는 은닉 상태와 셀 상태인 state_h와 state_c를 버리지 않음.\n",
    "decoder_outputs2, state_h2, state_c2 = decoder_lstm(dec_emb2, initial_state=[decoder_state_input_h, decoder_state_input_c])\n"
   ]
  },
  {
   "cell_type": "code",
   "execution_count": 45,
   "id": "dbc7e215",
   "metadata": {},
   "outputs": [],
   "source": [
    "# 어텐션 함수\n",
    "decoder_hidden_state_input = Input(shape=(text_max_len, hidden_size))\n",
    "attn_out_inf = attn_layer([decoder_outputs2, decoder_hidden_state_input])\n",
    "decoder_inf_concat = Concatenate(axis=-1, name='concat')([decoder_outputs2, attn_out_inf])\n",
    "\n",
    "# 디코더의 출력층\n",
    "decoder_outputs2 = decoder_softmax_layer(decoder_inf_concat) \n",
    "\n",
    "# 최종 디코더 모델\n",
    "decoder_model = Model(\n",
    "    [decoder_inputs] + [decoder_hidden_state_input,decoder_state_input_h, decoder_state_input_c],\n",
    "    [decoder_outputs2] + [state_h2, state_c2])"
   ]
  },
  {
   "cell_type": "code",
   "execution_count": 51,
   "id": "6b6d6063",
   "metadata": {
    "scrolled": true
   },
   "outputs": [
    {
     "name": "stdout",
     "output_type": "stream",
     "text": [
      "원문 : flipkart singapore based parent entity controlled walmart reportedly invested around crore india wholesale subsidiary flipkart india private limited investment reportedly made december bengaluru based commerce platform also set gross value around lakh crore next target reports added \n",
      "실제 요약 : walmart invests cr in flipkart india arm reports \n",
      "예측 요약 :  flipkart invests crore in india arm\n",
      "\n",
      "\n",
      "\n",
      "\n",
      "원문 : seventh season hbo series game thrones streamed crore times per report anti firm total instances season crore times within first hours \n",
      "실제 요약 : game of season illegally cr times \n",
      "예측 요약 :  wins cr in crore\n",
      "\n",
      "\n",
      "\n",
      "\n",
      "원문 : scotland given pink high visibility protection cross road house owner said couple like go path sometimes across road thought would keep safe put \n",
      "실제 요약 : to cross the road \n",
      "예측 요약 :  uk to get its own\n",
      "\n",
      "\n",
      "\n",
      "\n",
      "원문 : russian football club rubin youth team player confused goalkeeper converting penalty national student league match ran take penalty performed backward ball spot goalkeeper could move ball went top left corner goal \n",
      "실제 요약 : russian footballer with penalty \n",
      "예측 요약 :  player scores after goal\n",
      "\n",
      "\n",
      "\n",
      "\n",
      "원문 : year old student tamil nadu developed claims world smallest satellite whose satellite launched nasa june first indian student experiment launched nasa satellite made using carbon fibre polymer named former president abdul kalam \n",
      "실제 요약 : indian teen develops world satellite \n",
      "예측 요약 :  nasa to launch space station\n",
      "\n",
      "\n",
      "\n",
      "\n",
      "원문 : minister state defence subhash said situation line actual control along china sensitive patrolling potential added stating indians live difficult neighbourhood said spread religious jammu kashmir social media major concern \n",
      "실제 요약 : china border may govt \n",
      "예측 요약 :  of india to be\n",
      "\n",
      "\n",
      "\n",
      "\n",
      "원문 : punjabi singer said exist world anymore people become towards constantly creating basis religion gender added singer said people realise everyone free whatever religion want treat fellow humans love respect \n",
      "실제 요약 : does not singer \n",
      "예측 요약 :  to be on\n",
      "\n",
      "\n",
      "\n",
      "\n",
      "원문 : many naxals two separate took place two days maharashtra district naxals killed encounter sunday another six killed monday encounter first broken police team area fired upon \n",
      "실제 요약 : down in two days in maharashtra \n",
      "예측 요약 :  crpf personnel killed in encounter in\n",
      "\n",
      "\n",
      "\n",
      "\n",
      "원문 : spicejet flight nearly passengers board runway landing international airport friday airport officials said lights runway damaged aircraft slightly left passengers injured incident occurred heavy rains \n",
      "실제 요약 : flight off \n",
      "예측 요약 :  passengers at airport\n",
      "\n",
      "\n",
      "\n",
      "\n",
      "원문 : dna test decide winner lottery teacher thailand said lost winning tickets later claimed retired policeman forensic police determine whose match ticket meanwhile ownership challenge frozen \n",
      "실제 요약 : dna test to lottery winner \n",
      "예측 요약 :  fans with\n",
      "\n",
      "\n",
      "\n",
      "\n",
      "원문 : year old woman monday night gave birth baby girl mumbai local train halted platform three station woman aided doctor one rupee clinic delivery later shifted hospital similar delivery happened station march \n",
      "실제 요약 : woman baby mumbai train \n",
      "예측 요약 :  woman doctors off baby in delhi\n",
      "\n",
      "\n",
      "\n",
      "\n",
      "원문 : narendra modi monday arrived becoming first indian prime minister visit east african country two day state visit pm modi meet business leaders indian communities capital pm modi also gift cows contribution india scheme \n",
      "실제 요약 : narendra modi first indian pm to visit \n",
      "예측 요약 :  pm modi meets pm modi\n",
      "\n",
      "\n",
      "\n",
      "\n",
      "원문 : least people killed several others injured car bomb explosion afghanistan nangarhar city saturday officials said islamic state claimed responsibility attack explosion targeted gathering afghan forces taliban militants celebrated eid together amid temporary ceasefire \n",
      "실제 요약 : killed in isis in afghanistan \n",
      "예측 요약 :  killed in afghanistan bomb explosion in afghanistan\n",
      "\n",
      "\n",
      "\n",
      "\n",
      "원문 : world first robot receive citizenship recent interview said like everyone else also said like way robots portrayed films added might think new animal species \n",
      "실제 요약 : have like world st robot \n",
      "예측 요약 :  what is the first ever\n",
      "\n",
      "\n",
      "\n",
      "\n",
      "원문 : many mumbai university students failed first year exam students blamed changed exam poor result students claimed informed changes also new given middle \n",
      "실제 요약 : students fail mumbai university first year exam \n",
      "예측 요약 :  mumbai students by\n",
      "\n",
      "\n",
      "\n",
      "\n",
      "원문 : meghalaya assembly monday passed resolution centre ban sale cattle slaughter said order rights people adding laws cattle already place notably according national sample survey office data nearly people meghalaya consume beef \n",
      "실제 요약 : meghalaya passes resolution against centre sale ban \n",
      "예측 요약 :  government to be on\n",
      "\n",
      "\n",
      "\n",
      "\n",
      "원문 : german midfielder bought tickets monday world cup qualifier match germany norway charity tickets distributed children children fighting cancer region would chance attend game various reasons financial juventus midfielder said initiative \n",
      "실제 요약 : player buys germany match tickets for charity \n",
      "예측 요약 :  first origin footballer of the world cup\n",
      "\n",
      "\n",
      "\n",
      "\n",
      "원문 : indian government may levy goods services tax rate cryptocurrency trading according reports government also consider gst crypto trading july reports added notably rbi april barred lenders dealing entities trading cryptocurrencies giving three months business \n",
      "실제 요약 : govt mulls gst on trading of cryptocurrencies reports \n",
      "예측 요약 :  rbi to allow to be\n",
      "\n",
      "\n",
      "\n",
      "\n",
      "원문 : taj mahal true story written claims taj mahal originally temple named shah jahan seized temple converted author claimed also termed niti asserted vatican originally creation called \n",
      "실제 요약 : book claims was temple \n",
      "예측 요약 :  to be in\n",
      "\n",
      "\n",
      "\n",
      "\n",
      "원문 : japanese commerce startup initial public offering priced billion make year old founder billionaire billion fortune ipo price give market value billion founded became japan first startup become billion valuation \n",
      "실제 요약 : japanese startup ipo to make founder billionaire \n",
      "예측 요약 :  alibaba may invest million in\n",
      "\n",
      "\n",
      "\n",
      "\n",
      "원문 : pakistan started building nearly fence along border afghanistan according reports comes afghan militants reportedly killed six pakistani soldiers security earlier month pakistan new fence aimed aerial surveillance border prevent future terror attacks transfer weapons ammunition \n",
      "실제 요약 : pakistan starts building along afghanistan border \n",
      "예측 요약 :  pakistan afghanistan to ceasefire in afghanistan\n",
      "\n",
      "\n",
      "\n",
      "\n",
      "원문 : maldives commonwealth two years following cabinet approval backing move maldives quit commonwealth accusing interfering domestic affairs ex president administration taken step following pressure commonwealth address issues corruption human rights abuses country \n",
      "실제 요약 : maldives to the after years \n",
      "예측 요약 :  india to have indian workers\n",
      "\n",
      "\n",
      "\n",
      "\n",
      "원문 : total army personnel including officers junior commissioned officers committed suicide since government said rajya sabha tuesday cases took place reported remaining suicides committed till july \n",
      "실제 요약 : army personnel suicide since government \n",
      "예측 요약 :  over people in up in\n",
      "\n",
      "\n",
      "\n",
      "\n",
      "원문 : shares major tech mahindra tuesday surged day trade company reported rise net profit june quarter company reported profit crore crore year ago period beating analysts estimates also reported increase revenue crore \n",
      "실제 요약 : tech mahindra shares over after report \n",
      "예측 요약 :  mahindra profit rises to crore in\n",
      "\n",
      "\n",
      "\n",
      "\n",
      "원문 : former us president george passed away friday aged celebrated th th th th despite suffering wheelchair bound st us president marked th birthday assisted jump metres world war ii veteran made jump turning \n",
      "실제 요약 : with on \n",
      "예측 요약 :  becomes first player in\n",
      "\n",
      "\n",
      "\n",
      "\n",
      "원문 : indian pilgrims stranded nepal region returning kailash pilgrimage tibet rescued since indian embassy nepal launched rescue operations week around commercial flights nepal army helicopter engaged rescue operations pilgrims rescued friday \n",
      "실제 요약 : indian rescued in nepal \n",
      "예측 요약 :  indian army aircraft crashes in nepal\n",
      "\n",
      "\n",
      "\n",
      "\n",
      "원문 : serious fraud investigation office arrested former promoter md bhushan steel neeraj allegedly bank loans crore investigating team found promoters used complex fraudulent divert funds raised state run banks using associate companies tata steel acquired bhushan steel insolvency resolution \n",
      "실제 요약 : former bhushan arrested for crore \n",
      "예측 요약 :  fraud fraud arrested over fraud fraud\n",
      "\n",
      "\n",
      "\n",
      "\n",
      "원문 : two people killed one injured us tuesday tesla model car crashed concrete wall reportedly causing battery catch fire us transportation agency said investigate emergency response relation car battery fire car speed believed factor crash \n",
      "실제 요약 : killed after tesla car crashes battery catches fire \n",
      "예측 요약 :  killed injured in car car in china\n",
      "\n",
      "\n",
      "\n",
      "\n",
      "원문 : mob bengaluru area friday attacked three women based fake viral whatsapp message warned citizens kidnapped children women later rescued police comes days year old man lynched mob similar saw talking children \n",
      "실제 요약 : bengaluru attacks women over child rumours \n",
      "예측 요약 :  police protest against in\n",
      "\n",
      "\n",
      "\n",
      "\n",
      "원문 : first mumbai fire women hailing rural areas state taking total number women force female firefighters worked headquarters earlier new force spread across fire stations new inducted force next month \n",
      "실제 요약 : mumbai fire women from \n",
      "예측 요약 :  mumbai to get first time\n",
      "\n",
      "\n",
      "\n",
      "\n",
      "원문 : union human resource development minister prakash javadekar sunday said vacancies faculty members central universities even stated universities one professor phd students citing process recruitment central universities institutes javadekar said process needs \n",
      "실제 요약 : posts at central \n",
      "예측 요약 :  why is india education\n",
      "\n",
      "\n",
      "\n",
      "\n",
      "원문 : mumbai based startup helps sellers manage orders multiple platforms raised crore investors including co founder kunal shah online funding platform startup raised funds two december january founded nitin also backed one mobility fund ventures \n",
      "실제 요약 : co founder shah backs startup \n",
      "예측 요약 :  bengaluru startup raises crore\n",
      "\n",
      "\n",
      "\n",
      "\n",
      "원문 : bangalore program data science ranked among top india first ever online learning platform record successful career salary degree career support helped professionals make career one vivek recently developer data scientist hike \n",
      "실제 요약 : sets new record with successful career \n",
      "예측 요약 :  india best best in\n",
      "\n",
      "\n",
      "\n",
      "\n",
      "원문 : portrait first ever portrait made artificial intelligence sold major auction sold record crore new york thursday created using algorithm historical artwork depicts fictional character portrait signed fetched nearly times high estimate \n",
      "실제 요약 : artificial intelligence sold for record cr \n",
      "예측 요약 :  world most expensive sold for crore\n",
      "\n",
      "\n",
      "\n",
      "\n",
      "원문 : six months launching telecom operations reliance jio accounted nearly india broadband connections according data telecom regulator trai reliance jio accounted million users highest followed bharti airtel million broadband connections numbers february include wireless connections country \n",
      "실제 요약 : jio becomes india largest in months \n",
      "예측 요약 :  reliance jio jio to reliance jio\n",
      "\n",
      "\n",
      "\n",
      "\n",
      "원문 : facebook testing new feature called watch party add elements videos non live videos platform allow users post video group viewed members time users also comment react way live \n",
      "실제 요약 : facebook tests features of for old videos \n",
      "예측 요약 :  facebook rolls out of\n",
      "\n",
      "\n",
      "\n",
      "\n",
      "원문 : confidence motion admitted council ministers least lok sabha mps claim ministers longer fit hold positions motion passed simple majority mps support motion passes prime minister must resign president another person prove majority \n",
      "실제 요약 : what is no motion in the parliament \n",
      "예측 요약 :  constitution for election\n",
      "\n",
      "\n",
      "\n",
      "\n",
      "원문 : new study revealed water world leading brands including india contained tiny pieces plastic study us based non profit media found average particles every litre water sold common type plastic used make bottle \n",
      "실제 요약 : water globally study \n",
      "예측 요약 :  scientists create new\n",
      "\n",
      "\n",
      "\n",
      "\n",
      "원문 : around world came together purchase th century de la france appeal raised days joint owners paying minimum co owners offered shares company running say development \n",
      "실제 요약 : over come together to buy french \n",
      "예측 요약 :  what is the of\n",
      "\n",
      "\n",
      "\n",
      "\n",
      "원문 : nissan monday said recalling million cars japan meet domestic rules final safety announcement came nissan shares reports tests performed staff certified check vehicles per government standards affected vehicles built october september \n",
      "실제 요약 : recalls million cars in japan on safety \n",
      "예측 요약 :  volkswagen to launch electric in\n",
      "\n",
      "\n",
      "\n",
      "\n",
      "원문 : accused racism new advertising campaign featuring asian model trying eat italian food videos part new campaign loves china promoting runway show held shanghai however reports said fashion house cancelled show backlash nn \n",
      "실제 요약 : chinese ad accused of \n",
      "예측 요약 :  youtube slammed for\n",
      "\n",
      "\n",
      "\n",
      "\n",
      "원문 : suspected chinese helicopter violated indian flying uttarakhand district four minutes close india border saturday police said chopper entered indian tibetan side flying back police added could confirm whether act \n",
      "실제 요약 : suspected chinese indian \n",
      "예측 요약 :  indian army aircraft crashes in\n",
      "\n",
      "\n",
      "\n",
      "\n",
      "원문 : richard executive google parent company alphabet research division reportedly resigned sexual harassment allegations comes report claimed asked job candidate remove shirt offering back follows criticism google sexual harassment claims \n",
      "실제 요약 : alphabet resigns over harassment report \n",
      "예측 요약 :  google ceo resigns after sexual harassment\n",
      "\n",
      "\n",
      "\n",
      "\n",
      "원문 : polish defender saved television reporter injury falling kick interview reporter falling came crashing due conditions reporter later shared clip incident twitter called hero caption \n",
      "실제 요약 : from \n",
      "예측 요약 :  video shows in\n",
      "\n",
      "\n",
      "\n",
      "\n",
      "원문 : member syrian rescue group white helmets caught camera helping militants bodies syrian army soldiers group fired member said acting capacity member notably white helmets subject oscar winning film highlighting humanitarian efforts syria \n",
      "실제 요약 : white member syrian soldiers body \n",
      "예측 요약 :  us releases syrian military for attack\n",
      "\n",
      "\n",
      "\n",
      "\n",
      "원문 : slamming congress president rahul gandhi merchant hate union minister piyush goyal asked stop jumping joy every time crime happens comes gandhi blamed pm narendra modi new india death mob lynching victim gandhi claimed humanity replaced hatred people crushed left die \n",
      "실제 요약 : rahul gandhi is of \n",
      "예측 요약 :  rahul gandhi for rahul gandhi\n",
      "\n",
      "\n",
      "\n",
      "\n",
      "원문 : finance minister arun jaitley said challenges posed rise international crude oil prices cannot resolved either tweets television opposition leaders jaitley blamed political venezuela libya us sanctions iran rising crude prices added oil producing nations production creating demand supply \n",
      "실제 요약 : opposition tweets cannot oil price problem jaitley \n",
      "예측 요약 :  twitter has not been jaitley\n",
      "\n",
      "\n",
      "\n",
      "\n",
      "원문 : ousted censor board chairman pahlaj nihalani said thriller julie scenes completely adult family film questioned julie described woman pahlaj said know referring would like say \n",
      "실제 요약 : is family film \n",
      "예측 요약 :  to release of baahubali\n",
      "\n",
      "\n",
      "\n",
      "\n",
      "원문 : bollywood celebrities including aamir khan shah rukh khan aishwarya rai deepika padukone katrina kaif ranbir kapoor attended karan johar th birthday celebrations thursday alia bhatt sidharth malhotra rumoured dating also attended party shah rukh khan son saif ali khan daughter sara ali khan sridevi daughter kapoor also spotted \n",
      "실제 요약 : aamir srk deepika katrina attend birthday \n",
      "예측 요약 :  nadu padmavati nadu nadu nadu nadu nadu\n",
      "\n",
      "\n",
      "\n",
      "\n",
      "원문 : supreme court appointed committee reportedly told bcci announce name head coach indian cricket team tuesday bcci cricket advisory committee comprising sachin tendulkar sourav ganguly laxman five candidates monday said new coach would announced discussions virat kohli \n",
      "실제 요약 : india coach sc appointed panel tells bcci \n",
      "예측 요약 :  bcci cricketers for champions trophy\n",
      "\n",
      "\n",
      "\n",
      "\n"
     ]
    }
   ],
   "source": [
    "for i in range(50, 100):\n",
    "    print(\"원문 :\", seq2text(encoder_input_test[i]))\n",
    "    print(\"실제 요약 :\", seq2summary(decoder_input_test[i]))\n",
    "    print(\"예측 요약 :\", decode_sequence(encoder_input_test[i].reshape(1, text_max_len)))\n",
    "    print(\"\\n\")\n",
    "    print(\"\\n\")"
   ]
  },
  {
   "cell_type": "markdown",
   "id": "acef4bcc",
   "metadata": {},
   "source": [
    "## STEP. 4 Extractive summarization"
   ]
  },
  {
   "cell_type": "code",
   "execution_count": 47,
   "id": "2e351adb",
   "metadata": {},
   "outputs": [],
   "source": [
    "urllib.request.urlretrieve(\"https://raw.githubusercontent.com/sunnysai12345/News_Summary/master/news_summary_more.csv\", filename=\"news_summary_more.csv\")\n",
    "data = pd.read_csv('news_summary_more.csv', encoding='iso-8859-1')"
   ]
  },
  {
   "cell_type": "code",
   "execution_count": 53,
   "id": "5d452005",
   "metadata": {
    "scrolled": true
   },
   "outputs": [
    {
     "name": "stdout",
     "output_type": "stream",
     "text": [
      "원문 : Saurav Kant, an alumnus of upGrad and IIIT-B's PG Program in Machine learning and Artificial Intelligence, was a Sr Systems Engineer at Infosys with almost 5 years of work experience. The program and upGrad's 360-degree career support helped him transition to a Data Scientist at Tech Mahindra with 90% salary hike. upGrad's Online Power Learning has powered 3 lakh+ careers.\n",
      "실제 요약 : upGrad learner switches to career in ML & Al with 90% salary hike\n",
      "예측 요약 : upGrad's Online Power Learning has powered 3 lakh+ careers.\n",
      "\n",
      "\n",
      "\n",
      "\n",
      "원문 : Kunal Shah's credit card bill payment platform, CRED, gave users a chance to win free food from Swiggy for one year. Pranav Kaushik, a Delhi techie, bagged this reward after spending 2000 CRED coins. Users get one CRED coin per rupee of bill paid, which can be used to avail rewards from brands like Ixigo, BookMyShow, UberEats, Cult.Fit and more.\n",
      "실제 요약 : Delhi techie wins free food from Swiggy for one year on CRED\n",
      "예측 요약 : Users get one CRED coin per rupee of bill paid, which can be used to avail rewards from brands like Ixigo, BookMyShow, UberEats, Cult.Fit and more.\n",
      "\n",
      "\n",
      "\n",
      "\n",
      "원문 : New Zealand defeated India by 8 wickets in the fourth ODI at Hamilton on Thursday to win their first match of the five-match ODI series. India lost an international match under Rohit Sharma's captaincy after 12 consecutive victories dating back to March 2018. The match witnessed India getting all out for 92, their seventh lowest total in ODI cricket history.\n",
      "실제 요약 : New Zealand end Rohit Sharma-led India's 12-match winning streak\n",
      "예측 요약 : The match witnessed India getting all out for 92, their seventh lowest total in ODI cricket history.\n",
      "\n",
      "\n",
      "\n",
      "\n",
      "원문 : With Aegon Life iTerm Insurance plan, customers can enjoy tax benefits on your premiums paid and save up to Ã¢ÂÂ¹46,800^ on taxes. The plan provides life cover up to the age of 100 years. Also, customers have options to insure against Critical Illnesses, Disability and Accidental Death Benefit Rider with a life cover up to the age of 80 years.\n",
      "실제 요약 : Aegon life iTerm insurance plan helps customers save tax\n",
      "예측 요약 : Also, customers have options to insure against Critical Illnesses, Disability and Accidental Death Benefit Rider with a life cover up to the age of 80 years.\n",
      "\n",
      "\n",
      "\n",
      "\n",
      "원문 : Speaking about the sexual harassment allegations against Rajkumar Hirani, Sonam Kapoor said, \"I've known Hirani for many years...What if it's not true, the [#MeToo] movement will get derailed.\" \"In the #MeToo movement, I always believe a woman. But in this case, we need to reserve our judgment,\" she added. Hirani has been accused by an assistant who worked in 'Sanju'.\n",
      "실제 요약 : Have known Hirani for yrs, what if MeToo claims are not true: Sonam\n",
      "예측 요약 : Speaking about the sexual harassment allegations against Rajkumar Hirani, Sonam Kapoor said, \"I've known Hirani for many years...What if it's not true, the [#MeToo] movement will get derailed.\" \"In the #MeToo movement, I always believe a woman.\n",
      "\n",
      "\n",
      "\n",
      "\n",
      "원문 : Pakistani singer Rahat Fateh Ali Khan has denied receiving any notice from the Enforcement Directorate over allegedly smuggling foreign currency out of India. \"It would have been better if the authorities would have served the notice first if any and then publicised this,\" reads a press release issued on behalf of Rahat. The statement further called the allegation \"bizarre\".\n",
      "실제 요약 : Rahat Fateh Ali Khan denies getting notice for smuggling currency\n",
      "예측 요약 : Pakistani singer Rahat Fateh Ali Khan has denied receiving any notice from the Enforcement Directorate over allegedly smuggling foreign currency out of India.\n",
      "\n",
      "\n",
      "\n",
      "\n",
      "원문 : India recorded their lowest ODI total in New Zealand after getting all out for 92 runs in 30.5 overs in the fourth ODI at Hamilton on Thursday. Seven of India's batsmen were dismissed for single-digit scores, while their number ten batsman Yuzvendra Chahal top-scored with 18*(37). India's previous lowest ODI total in New Zealand was 108.\n",
      "실제 요약 : India get all out for 92, their lowest ODI total in New Zealand\n",
      "예측 요약 : India's previous lowest ODI total in New Zealand was 108.\n",
      "\n",
      "\n",
      "\n",
      "\n",
      "원문 : Weeks after ex-CBI Director Alok Verma told the Department of Personnel and Training to consider him retired, the Home Ministry asked him to join work on the last day of his fixed tenure as Director on Thursday. The ministry directed him to immediately join as DG, Fire Services, the post he was transferred to after his removal as CBI chief.\n",
      "실제 요약 : Govt directs Alok Verma to join work 1 day before his retirement\n",
      "예측 요약 : Weeks after ex-CBI Director Alok Verma told the Department of Personnel and Training to consider him retired, the Home Ministry asked him to join work on the last day of his fixed tenure as Director on Thursday.\n",
      "\n",
      "\n",
      "\n",
      "\n",
      "원문 : Andhra Pradesh CM N Chandrababu Naidu has said, \"When I met then US President Bill Clinton, I addressed him as Mr Clinton, not as 'sir'. (PM Narendra) Modi is my junior in politics...I addressed him as sir 10 times.\" \"I did this...to satisfy his ego in the hope that he will do justice to the state,\" he added.\n",
      "실제 요약 : Called PM Modi 'sir' 10 times to satisfy his ego: Andhra CM\n",
      "예측 요약 : Andhra Pradesh CM N Chandrababu Naidu has said, \"When I met then US President Bill Clinton, I addressed him as Mr Clinton, not as 'sir'.\n",
      "\n",
      "\n",
      "\n",
      "\n",
      "원문 : Congress candidate Shafia Zubair won the Ramgarh Assembly seat in Rajasthan, by defeating BJP's Sukhwant Singh with a margin of 12,228 votes in the bypoll. With this victory, Congress has taken its total to 100 seats in the 200-member assembly. The election to the Ramgarh seat was delayed due to the death of sitting MLA and BSP candidate Laxman Singh.\n",
      "실제 요약 : Cong wins Ramgarh bypoll in Rajasthan, takes total to 100 seats\n",
      "예측 요약 : Congress candidate Shafia Zubair won the Ramgarh Assembly seat in Rajasthan, by defeating BJP's Sukhwant Singh with a margin of 12,228 votes in the bypoll.\n",
      "\n",
      "\n",
      "\n",
      "\n",
      "원문 : Two minor cousins in Uttar Pradesh's Gorakhpur were allegedly repeatedly burnt with tongs and forced to eat human excreta by their family for being friends with two boys from the same school. The cousins revealed their ordeal to the police and Child Welfare Committee after being brought back to Gorakhpur from Nepal, where they had fled to escape the torture.\n",
      "실제 요약 : UP cousins fed human excreta for friendship with boys\n",
      "예측 요약 : Two minor cousins in Uttar Pradesh's Gorakhpur were allegedly repeatedly burnt with tongs and forced to eat human excreta by their family for being friends with two boys from the same school.\n",
      "\n",
      "\n",
      "\n",
      "\n",
      "원문 : Isha Ghosh, an 81-year-old member of Bharat Scouts and Guides (BSG), has been imparting physical and mental training to schoolchildren in Jharkhand for several decades. Chaibasa-based Ghosh reportedly walks seven kilometres daily and spends eight hours conducting physical training, apart from climbing and yoga sessions. She says, \"One should do something for society till one's last breath.\"\n",
      "실제 요약 : 81-yr-old woman conducts physical training in J'khand schools\n",
      "예측 요약 : Isha Ghosh, an 81-year-old member of Bharat Scouts and Guides (BSG), has been imparting physical and mental training to schoolchildren in Jharkhand for several decades.\n",
      "\n",
      "\n",
      "\n",
      "\n",
      "원문 : Urging saints and seers at the Kumbh Mela to quit smoking, Yoga guru Ramdev said, \"We follow Ram and Krishna who never smoked in their life then why should we?\" Making them take a pledge to quit tobacco, he collected chillum (clay pipe) from several sadhus. He said he will deposit the chillums for display at a museum he'll build.\n",
      "실제 요약 : Ram, Krishna didn't smoke, why should we: Ramdev to sadhus at Kumbh\n",
      "예측 요약 : Urging saints and seers at the Kumbh Mela to quit smoking, Yoga guru Ramdev said, \"We follow Ram and Krishna who never smoked in their life then why should we?\" Making them take a pledge to quit tobacco, he collected chillum (clay pipe) from several sadhus.\n",
      "\n",
      "\n",
      "\n",
      "\n",
      "원문 : Former stripper and regional sales director of a pharmaceutical company, Sunrise Lee, gave a doctor a lap dance in a nightclub to persuade him to prescribe an addictive fentanyl spray in 2012, the company's sales representative told a US court. She said she saw Lee \"sitting on [doctor's] lap, kind of bouncing around.\" Lee has been accused of bribing doctors.\n",
      "실제 요약 : Pharma exec gave doctor a lap dance to sell medicine in US: Witness\n",
      "예측 요약 : Former stripper and regional sales director of a pharmaceutical company, Sunrise Lee, gave a doctor a lap dance in a nightclub to persuade him to prescribe an addictive fentanyl spray in 2012, the company's sales representative told a US court.\n",
      "\n",
      "\n",
      "\n",
      "\n",
      "원문 : Reliance Industries' Chairman Mukesh Ambani's daughter Isha Ambani, who got married last month, said she only cried at her 'bidaai' because she felt peer pressure as everyone was crying, especially her parents. \"I was emotional too but everyone around me would cry all the time,\" she added. \"It was a very emotional affair for everyone in my family,\" said Isha.\n",
      "실제 요약 :  I only cried at my 'bidaai' as I felt peer pressure: Isha Ambani\n",
      "예측 요약 : \"It was a very emotional affair for everyone in my family,\" said Isha.\n",
      "\n",
      "\n",
      "\n",
      "\n",
      "원문 : Louis Vuitton owner LVMH, which makes high-end beverages like MoÃÂ«t & Chandon champagne and Hennessy cognac, said it's stockpiling four months' worth of wine and spirits in UK in preparation for Brexit. \"We're ready for worst case scenario if there are difficulties with deliveries,\" the French luxury giant said. The UK is scheduled to leave the EU on March 29.\n",
      "실제 요약 : Louis Vuitton owner to stockpile 4 months of wine, spirits in UK\n",
      "예측 요약 : Louis Vuitton owner LVMH, which makes high-end beverages like MoÃÂ«t & Chandon champagne and Hennessy cognac, said it's stockpiling four months' worth of wine and spirits in UK in preparation for Brexit.\n",
      "\n",
      "\n",
      "\n",
      "\n",
      "원문 : Filmmaker Karan Johar and actress Tabu turned showstoppers for Gaurav Gupta on the opening night of LakmÃÂ© Fashion Week Summer/ Resort 2019. While Johar wore a red sequinned jacket with black pants, Tabu walked the ramp in a grey embellished gown. The fashion show, which began on January 29, will continue till February 3.\n",
      "실제 요약 : Karan Johar, Tabu turn showstoppers on opening night of LFW\n",
      "예측 요약 : Filmmaker Karan Johar and actress Tabu turned showstoppers for Gaurav Gupta on the opening night of LakmÃÂ© Fashion Week Summer/ Resort 2019.\n",
      "\n",
      "\n",
      "\n",
      "\n",
      "원문 : In a jibe at Congress President Rahul Gandhi, PM Narendra Modi on Wednesday said those on \"bail will have to go to jail.\" PM Modi added, \"He is out on bail and his associates too are facing charges...I know they will be convicted one day.\" The PM claimed he'd waged a war on corruption because he's from a common household. \n",
      "실제 요약 : Those on bail will go to jail: PM Modi takes jibe at Rahul\n",
      "예측 요약 : \n",
      "\n",
      "\n",
      "\n",
      "\n",
      "원문 : Days after he threatened to step down from his post if Congress MLAs continue \"crossing the line,\" Karnataka Chief Minister HD Kumaraswamy accused them of taking potshots and asked, \"How many more days can I tolerate such stuff?\" Kumaraswamy, who made the statements after a Congress MLA demanded that Siddaramaiah be made CM again, said, \"Power is ephemeral.\"\n",
      "실제 요약 : How long can I tolerate Congress leaders' potshots: K'taka CM\n",
      "예측 요약 : \n",
      "\n",
      "\n",
      "\n",
      "\n",
      "원문 : Union Minister Dharmendra Pradhan on Wednesday claimed the illegal mining mafia in Odisha operates under the control of CM Naveen Patnaik and state Congress chief Niranjan Patnaik. He added, \"The time has come for the people of Odisha to put a full stop to their activities...The time has come for us to ask for an explanation from this corrupt government.\"\n",
      "실제 요약 : Odisha CM Patnaik controls mining mafia: Union Minister\n",
      "예측 요약 : Union Minister Dharmendra Pradhan on Wednesday claimed the illegal mining mafia in Odisha operates under the control of CM Naveen Patnaik and state Congress chief Niranjan Patnaik.\n",
      "\n",
      "\n",
      "\n",
      "\n"
     ]
    }
   ],
   "source": [
    "for idx, (head, text) in enumerate(zip(data['headlines'], data['text'])):\n",
    "    if idx == 20:\n",
    "        break\n",
    "    print(\"원문 :\", text)\n",
    "    print(\"실제 요약 :\", head)\n",
    "    print(\"예측 요약 :\", summarize(text, ratio=0.5))\n",
    "    print(\"\\n\")\n",
    "    print(\"\\n\")"
   ]
  },
  {
   "cell_type": "markdown",
   "id": "15aa4cd4",
   "metadata": {},
   "source": [
    "## STEP. 5 회고"
   ]
  },
  {
   "attachments": {},
   "cell_type": "markdown",
   "id": "a70876c5",
   "metadata": {},
   "source": [
    "제가 재미있는 사실을 발견했습니다.  \n",
    "남춘식 하면 뭔가요! 춘식이의 실험실이죠  "
   ]
  },
  {
   "attachments": {
    "%ED%99%94%EB%A9%B4%20%EC%BA%A1%EC%B2%98%202022-05-24%20143510.png": {
     "image/png": "[encoded data removed]"
    }
   },
   "cell_type": "markdown",
   "id": "4b9633c4",
   "metadata": {},
   "source": [
    "### 춘식이의 실험실  \n",
    "저는 한 가지 신기한 걸 발견했고 궁금한 게 생겼습니다  .  \n",
    "\n",
    "바로 ratio입니다.  \n",
    "ratio는 한국어로 번역 하면 비율입니다  \n",
    "근데 이 ratio를 적게 줄이면 어떻게 될까요?  \n",
    "\n",
    "![%ED%99%94%EB%A9%B4%20%EC%BA%A1%EC%B2%98%202022-05-24%20143510.png](attachment:%ED%99%94%EB%A9%B4%20%EC%BA%A1%EC%B2%98%202022-05-24%20143510.png)  \n",
    "0.1로 설정을 하니.. 예측값이 아예 나오지 않았습니다.  "
   ]
  },
  {
   "attachments": {
    "%ED%99%94%EB%A9%B4%20%EC%BA%A1%EC%B2%98%202022-05-24%20143305.png": {
     "image/png": "[encoded data removed]"
    }
   },
   "cell_type": "markdown",
   "id": "798f29c1",
   "metadata": {},
   "source": [
    "왜 그럴까요? 0.2도 한번 볼까요?  \n",
    "![%ED%99%94%EB%A9%B4%20%EC%BA%A1%EC%B2%98%202022-05-24%20143305.png](attachment:%ED%99%94%EB%A9%B4%20%EC%BA%A1%EC%B2%98%202022-05-24%20143305.png)  \n",
    "0.2 역시도 예측이 하나도 되지 않았습니다...ㅠ  "
   ]
  },
  {
   "attachments": {
    "%ED%99%94%EB%A9%B4%20%EC%BA%A1%EC%B2%98%202022-05-24%20143753.png": {
     "image/png": "[encoded data removed]"
    }
   },
   "cell_type": "markdown",
   "id": "6f53ec03",
   "metadata": {},
   "source": [
    "그럼 1로 한번 볼까요?  \n",
    "![%ED%99%94%EB%A9%B4%20%EC%BA%A1%EC%B2%98%202022-05-24%20143753.png](attachment:%ED%99%94%EB%A9%B4%20%EC%BA%A1%EC%B2%98%202022-05-24%20143753.png)  \n",
    "1로 하면 거의 본문을 통째로 가져옵니다.  \n",
    "우리가 이걸로 알 수 있는 것은 Abstractive Summarization가 Extractive Summarization보다 성능이 더 좋으며 이말은 즉 딥러닝이 머신러닝 보다 성능이 더 좋다는 것을 의미한다고 생각합니다."
   ]
  },
  {
   "cell_type": "code",
   "execution_count": null,
   "id": "d85d349a",
   "metadata": {},
   "outputs": [],
   "source": []
  }
 ],
 "metadata": {
  "kernelspec": {
   "display_name": "Python 3 (ipykernel)",
   "language": "python",
   "name": "python3"
  },
  "language_info": {
   "codemirror_mode": {
    "name": "ipython",
    "version": 3
   },
   "file_extension": ".py",
   "mimetype": "text/x-python",
   "name": "python",
   "nbconvert_exporter": "python",
   "pygments_lexer": "ipython3",
   "version": "3.9.7"
  }
 },
 "nbformat": 4,
 "nbformat_minor": 5
}
